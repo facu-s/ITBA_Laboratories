{
 "cells": [
  {
   "cell_type": "code",
   "execution_count": 1,
   "metadata": {
    "execution": {
     "iopub.execute_input": "2022-11-14T03:55:57.421431Z",
     "iopub.status.busy": "2022-11-14T03:55:57.420609Z",
     "iopub.status.idle": "2022-11-14T03:56:02.501586Z",
     "shell.execute_reply": "2022-11-14T03:56:02.501016Z",
     "shell.execute_reply.started": "2022-11-14T03:47:59.030993Z"
    },
    "papermill": {
     "duration": 5.098673,
     "end_time": "2022-11-14T03:56:02.501713",
     "exception": false,
     "start_time": "2022-11-14T03:55:57.403040",
     "status": "completed"
    },
    "tags": []
   },
   "outputs": [
    {
     "name": "stderr",
     "output_type": "stream",
     "text": [
      "Using TensorFlow backend.\n"
     ]
    }
   ],
   "source": [
    "from sklearn.model_selection import train_test_split, KFold\n",
    "from keras.utils import to_categorical\n",
    "from keras.callbacks import ModelCheckpoint, EarlyStopping \n",
    "from keras.models import Sequential\n",
    "from keras.layers.core import Dense, Dropout, Activation, Flatten\n",
    "from keras.layers.normalization import BatchNormalization\n",
    "from keras import optimizers\n",
    "from keras import initializers\n",
    "import tensorflow.keras\n",
    "import numpy as np\n",
    "from matplotlib import pyplot as plt"
   ]
  },
  {
   "cell_type": "code",
   "execution_count": 2,
   "metadata": {
    "execution": {
     "iopub.execute_input": "2022-11-14T03:56:02.530706Z",
     "iopub.status.busy": "2022-11-14T03:56:02.529844Z",
     "iopub.status.idle": "2022-11-14T03:56:02.532284Z",
     "shell.execute_reply": "2022-11-14T03:56:02.531853Z",
     "shell.execute_reply.started": "2022-11-14T03:47:59.064143Z"
    },
    "papermill": {
     "duration": 0.018688,
     "end_time": "2022-11-14T03:56:02.532389",
     "exception": false,
     "start_time": "2022-11-14T03:56:02.513701",
     "status": "completed"
    },
    "tags": []
   },
   "outputs": [],
   "source": [
    "classes = ['T-shirt/top', 'Trouser', 'Pullover', 'Dress', 'Coat', 'Sandal', 'Shirt', 'Sneaker', 'Bag', 'Ankle boot']"
   ]
  },
  {
   "cell_type": "markdown",
   "metadata": {
    "papermill": {
     "duration": 0.011315,
     "end_time": "2022-11-14T03:56:02.554676",
     "exception": false,
     "start_time": "2022-11-14T03:56:02.543361",
     "status": "completed"
    },
    "tags": []
   },
   "source": [
    "# Cargo Data"
   ]
  },
  {
   "cell_type": "code",
   "execution_count": 3,
   "metadata": {
    "_cell_guid": "79c7e3d0-c299-4dcb-8224-4455121ee9b0",
    "_uuid": "d629ff2d2480ee46fbb7e2d37f6b5fab8052498a",
    "execution": {
     "iopub.execute_input": "2022-11-14T03:56:02.581050Z",
     "iopub.status.busy": "2022-11-14T03:56:02.580520Z",
     "iopub.status.idle": "2022-11-14T03:56:03.284874Z",
     "shell.execute_reply": "2022-11-14T03:56:03.284399Z",
     "shell.execute_reply.started": "2022-11-14T03:47:59.073125Z"
    },
    "papermill": {
     "duration": 0.719438,
     "end_time": "2022-11-14T03:56:03.284990",
     "exception": false,
     "start_time": "2022-11-14T03:56:02.565552",
     "status": "completed"
    },
    "tags": []
   },
   "outputs": [],
   "source": [
    "folder = '/kaggle/input/fashion-mnist-itba-lab-2020/'\n",
    "x = np.load(folder+'train_images.npy')\n",
    "y = np.loadtxt(folder+'train_labels.csv', delimiter=',', skiprows=1)\n",
    "x_test = np.load(folder+'test_images.npy')"
   ]
  },
  {
   "cell_type": "code",
   "execution_count": 4,
   "metadata": {
    "execution": {
     "iopub.execute_input": "2022-11-14T03:56:03.310895Z",
     "iopub.status.busy": "2022-11-14T03:56:03.310360Z",
     "iopub.status.idle": "2022-11-14T03:56:03.314252Z",
     "shell.execute_reply": "2022-11-14T03:56:03.313799Z",
     "shell.execute_reply.started": "2022-11-14T03:47:59.277673Z"
    },
    "papermill": {
     "duration": 0.018151,
     "end_time": "2022-11-14T03:56:03.314399",
     "exception": false,
     "start_time": "2022-11-14T03:56:03.296248",
     "status": "completed"
    },
    "tags": []
   },
   "outputs": [],
   "source": [
    "# # x_train, x_valid, y_train, y_valid = train_test_split(x, y, test_size = 0.1)\n",
    "# kf = KFold(n_splits=2,random_state=41, shuffle=True)\n",
    "# for j, train_test in enumerate(kf.split(x, y)):\n",
    "#     display(j)\n",
    "#     train_index, test_index = train_test\n",
    "#     display(train_test)\n",
    "#     x_train, x_valid = x[train_index], x[test_index]\n",
    "#     y_train, y_valid = y[train_index], y[test_index]"
   ]
  },
  {
   "cell_type": "code",
   "execution_count": 5,
   "metadata": {
    "execution": {
     "iopub.execute_input": "2022-11-14T03:56:03.339424Z",
     "iopub.status.busy": "2022-11-14T03:56:03.338874Z",
     "iopub.status.idle": "2022-11-14T03:56:03.342807Z",
     "shell.execute_reply": "2022-11-14T03:56:03.342390Z",
     "shell.execute_reply.started": "2022-11-14T03:47:59.283704Z"
    },
    "papermill": {
     "duration": 0.017523,
     "end_time": "2022-11-14T03:56:03.342902",
     "exception": false,
     "start_time": "2022-11-14T03:56:03.325379",
     "status": "completed"
    },
    "tags": []
   },
   "outputs": [],
   "source": [
    "# y_train_categorical = to_categorical(y_train)\n",
    "# y_val_categorical = to_categorical(y_valid)"
   ]
  },
  {
   "cell_type": "code",
   "execution_count": 6,
   "metadata": {
    "execution": {
     "iopub.execute_input": "2022-11-14T03:56:03.368818Z",
     "iopub.status.busy": "2022-11-14T03:56:03.368260Z",
     "iopub.status.idle": "2022-11-14T03:56:03.372135Z",
     "shell.execute_reply": "2022-11-14T03:56:03.371611Z",
     "shell.execute_reply.started": "2022-11-14T03:47:59.296206Z"
    },
    "papermill": {
     "duration": 0.018286,
     "end_time": "2022-11-14T03:56:03.372252",
     "exception": false,
     "start_time": "2022-11-14T03:56:03.353966",
     "status": "completed"
    },
    "tags": []
   },
   "outputs": [],
   "source": [
    "# alto = 4\n",
    "# ancho = 8\n",
    "# f, axs = plt.subplots(alto, ancho, figsize=(30,4*alto))\n",
    "# axs = axs.reshape(-1)\n",
    "# for i in range(alto*ancho):\n",
    "#     axs[i].imshow(x_train[i], cmap='gray')\n",
    "#     axs[i].set_title(f'{classes[int(y_train[i])]} - class: {int(y_train[i])}\\n{y_train_categorical[i]}')\n",
    "#     axs[i].axis('off')"
   ]
  },
  {
   "cell_type": "code",
   "execution_count": 7,
   "metadata": {
    "execution": {
     "iopub.execute_input": "2022-11-14T03:56:03.396892Z",
     "iopub.status.busy": "2022-11-14T03:56:03.396346Z",
     "iopub.status.idle": "2022-11-14T03:56:03.400038Z",
     "shell.execute_reply": "2022-11-14T03:56:03.399645Z",
     "shell.execute_reply.started": "2022-11-14T03:47:59.306971Z"
    },
    "papermill": {
     "duration": 0.017246,
     "end_time": "2022-11-14T03:56:03.400127",
     "exception": false,
     "start_time": "2022-11-14T03:56:03.382881",
     "status": "completed"
    },
    "tags": []
   },
   "outputs": [],
   "source": [
    "# from sklearn.preprocessing import StandardScaler,MinMaxScaler\n",
    "# scaler = MinMaxScaler(feature_range=(0,1))\n",
    "# x_train = scaler.fit_transform(x_train.reshape(x_train.shape[0], -1)).reshape(x_train.shape)\n",
    "# x_valid = scaler.transform(x_valid.reshape(x_valid.shape[0], -1)).reshape(x_valid.shape)"
   ]
  },
  {
   "cell_type": "code",
   "execution_count": 8,
   "metadata": {
    "execution": {
     "iopub.execute_input": "2022-11-14T03:56:03.428025Z",
     "iopub.status.busy": "2022-11-14T03:56:03.427527Z",
     "iopub.status.idle": "2022-11-14T03:56:05.928225Z",
     "shell.execute_reply": "2022-11-14T03:56:05.928793Z",
     "shell.execute_reply.started": "2022-11-14T03:54:39.114451Z"
    },
    "papermill": {
     "duration": 2.516977,
     "end_time": "2022-11-14T03:56:05.928973",
     "exception": false,
     "start_time": "2022-11-14T03:56:03.411996",
     "status": "completed"
    },
    "tags": []
   },
   "outputs": [
    {
     "name": "stdout",
     "output_type": "stream",
     "text": [
      "Model: \"sequential_1\"\n",
      "_________________________________________________________________\n",
      "Layer (type)                 Output Shape              Param #   \n",
      "=================================================================\n",
      "flatten_1 (Flatten)          (None, 784)               0         \n",
      "_________________________________________________________________\n",
      "Salida_1 (Dense)             (None, 100)               78500     \n",
      "_________________________________________________________________\n",
      "dropout_1 (Dropout)          (None, 100)               0         \n",
      "_________________________________________________________________\n",
      "Salida_2 (Dense)             (None, 10)                1010      \n",
      "_________________________________________________________________\n",
      "activation_1 (Activation)    (None, 10)                0         \n",
      "=================================================================\n",
      "Total params: 79,510\n",
      "Trainable params: 79,510\n",
      "Non-trainable params: 0\n",
      "_________________________________________________________________\n"
     ]
    }
   ],
   "source": [
    "output_size = 10\n",
    "model_single_layer = Sequential()\n",
    "model_single_layer.add(Flatten(input_shape=(28,28)))\n",
    "# model_single_layer.add(BatchNormalization())\n",
    "model_single_layer.add(Dense(output_size*10, name='Salida_1',activation='sigmoid'))\n",
    "model_single_layer.add(Dropout(.3))\n",
    "model_single_layer.add(Dense(output_size, name='Salida_2'))\n",
    "model_single_layer.add(Activation('softmax'))\n",
    "model_single_layer.summary()"
   ]
  },
  {
   "cell_type": "code",
   "execution_count": 9,
   "metadata": {
    "execution": {
     "iopub.execute_input": "2022-11-14T03:56:05.957591Z",
     "iopub.status.busy": "2022-11-14T03:56:05.957022Z",
     "iopub.status.idle": "2022-11-14T03:56:06.113016Z",
     "shell.execute_reply": "2022-11-14T03:56:06.112551Z",
     "shell.execute_reply.started": "2022-11-14T03:47:59.366228Z"
    },
    "papermill": {
     "duration": 0.171017,
     "end_time": "2022-11-14T03:56:06.113133",
     "exception": false,
     "start_time": "2022-11-14T03:56:05.942116",
     "status": "completed"
    },
    "tags": []
   },
   "outputs": [],
   "source": [
    "lr = 0.01\n",
    "# opt = optimizers.sgd(lr=lr)\n",
    "opt = optimizers.Adam(lr=lr)\n",
    "model_single_layer.compile(loss = 'categorical_crossentropy', optimizer=opt, metrics=['accuracy'])"
   ]
  },
  {
   "cell_type": "code",
   "execution_count": 10,
   "metadata": {
    "execution": {
     "iopub.execute_input": "2022-11-14T03:56:06.147495Z",
     "iopub.status.busy": "2022-11-14T03:56:06.146721Z",
     "iopub.status.idle": "2022-11-14T03:57:26.424490Z",
     "shell.execute_reply": "2022-11-14T03:57:26.424919Z",
     "shell.execute_reply.started": "2022-11-14T03:47:59.407522Z"
    },
    "papermill": {
     "duration": 80.30046,
     "end_time": "2022-11-14T03:57:26.425078",
     "exception": false,
     "start_time": "2022-11-14T03:56:06.124618",
     "status": "completed"
    },
    "tags": []
   },
   "outputs": [
    {
     "data": {
      "text/plain": [
       "0"
      ]
     },
     "metadata": {},
     "output_type": "display_data"
    },
    {
     "data": {
      "text/plain": [
       "(array([    0,     1,     2, ..., 59997, 59998, 59999]),\n",
       " array([   14,    19,    31, ..., 59944, 59967, 59988]))"
      ]
     },
     "metadata": {},
     "output_type": "display_data"
    },
    {
     "name": "stdout",
     "output_type": "stream",
     "text": [
      "Train on 57000 samples, validate on 3000 samples\n",
      "Epoch 1/64\n",
      "57000/57000 [==============================] - 1s 20us/step - loss: 1.1016 - accuracy: 0.6143 - val_loss: 0.6275 - val_accuracy: 0.7743\n",
      "Epoch 2/64\n",
      "57000/57000 [==============================] - 0s 5us/step - loss: 0.5844 - accuracy: 0.7903 - val_loss: 0.4973 - val_accuracy: 0.8193\n",
      "Epoch 3/64\n",
      "57000/57000 [==============================] - 0s 5us/step - loss: 0.4967 - accuracy: 0.8214 - val_loss: 0.4487 - val_accuracy: 0.8350\n",
      "Epoch 4/64\n",
      "57000/57000 [==============================] - 0s 5us/step - loss: 0.4569 - accuracy: 0.8380 - val_loss: 0.4164 - val_accuracy: 0.8470\n",
      "Epoch 5/64\n",
      "57000/57000 [==============================] - 0s 5us/step - loss: 0.4353 - accuracy: 0.8429 - val_loss: 0.4015 - val_accuracy: 0.8543\n",
      "Epoch 6/64\n",
      "57000/57000 [==============================] - 0s 5us/step - loss: 0.4143 - accuracy: 0.8524 - val_loss: 0.3803 - val_accuracy: 0.8657\n",
      "Epoch 7/64\n",
      "57000/57000 [==============================] - 0s 5us/step - loss: 0.4040 - accuracy: 0.8553 - val_loss: 0.3685 - val_accuracy: 0.8703\n",
      "Epoch 8/64\n",
      "57000/57000 [==============================] - 0s 5us/step - loss: 0.3879 - accuracy: 0.8612 - val_loss: 0.3627 - val_accuracy: 0.8690\n",
      "Epoch 9/64\n",
      "57000/57000 [==============================] - 0s 5us/step - loss: 0.3811 - accuracy: 0.8635 - val_loss: 0.3532 - val_accuracy: 0.8733\n",
      "Epoch 10/64\n",
      "57000/57000 [==============================] - 0s 5us/step - loss: 0.3699 - accuracy: 0.8672 - val_loss: 0.3502 - val_accuracy: 0.8757\n",
      "Epoch 11/64\n",
      "57000/57000 [==============================] - 0s 5us/step - loss: 0.3633 - accuracy: 0.8695 - val_loss: 0.3449 - val_accuracy: 0.8767\n",
      "Epoch 12/64\n",
      "57000/57000 [==============================] - 0s 5us/step - loss: 0.3577 - accuracy: 0.8715 - val_loss: 0.3327 - val_accuracy: 0.8783\n",
      "Epoch 13/64\n",
      "57000/57000 [==============================] - 0s 5us/step - loss: 0.3549 - accuracy: 0.8707 - val_loss: 0.3324 - val_accuracy: 0.8807\n",
      "Epoch 14/64\n",
      "57000/57000 [==============================] - 0s 5us/step - loss: 0.3460 - accuracy: 0.8757 - val_loss: 0.3327 - val_accuracy: 0.8820\n",
      "Epoch 15/64\n",
      "57000/57000 [==============================] - 0s 5us/step - loss: 0.3403 - accuracy: 0.8780 - val_loss: 0.3269 - val_accuracy: 0.8847\n",
      "Epoch 16/64\n",
      "57000/57000 [==============================] - 0s 5us/step - loss: 0.3329 - accuracy: 0.8807 - val_loss: 0.3237 - val_accuracy: 0.8820\n",
      "Epoch 17/64\n",
      "57000/57000 [==============================] - 0s 5us/step - loss: 0.3280 - accuracy: 0.8822 - val_loss: 0.3187 - val_accuracy: 0.8853\n",
      "Epoch 18/64\n",
      "57000/57000 [==============================] - 0s 5us/step - loss: 0.3283 - accuracy: 0.8809 - val_loss: 0.3185 - val_accuracy: 0.8877\n",
      "Epoch 19/64\n",
      "57000/57000 [==============================] - 0s 5us/step - loss: 0.3278 - accuracy: 0.8815 - val_loss: 0.3121 - val_accuracy: 0.8907\n",
      "Epoch 20/64\n",
      "57000/57000 [==============================] - 0s 5us/step - loss: 0.3208 - accuracy: 0.8832 - val_loss: 0.3084 - val_accuracy: 0.8950\n",
      "Epoch 21/64\n",
      "57000/57000 [==============================] - 0s 4us/step - loss: 0.3149 - accuracy: 0.8846 - val_loss: 0.3050 - val_accuracy: 0.8910\n",
      "Epoch 22/64\n",
      "57000/57000 [==============================] - 0s 5us/step - loss: 0.3129 - accuracy: 0.8858 - val_loss: 0.3070 - val_accuracy: 0.8927\n",
      "Epoch 23/64\n",
      "57000/57000 [==============================] - 0s 5us/step - loss: 0.3079 - accuracy: 0.8880 - val_loss: 0.3059 - val_accuracy: 0.8910\n",
      "Epoch 24/64\n",
      "57000/57000 [==============================] - 0s 5us/step - loss: 0.3040 - accuracy: 0.8898 - val_loss: 0.3086 - val_accuracy: 0.8893\n",
      "Epoch 25/64\n",
      "57000/57000 [==============================] - 0s 5us/step - loss: 0.3008 - accuracy: 0.8901 - val_loss: 0.3086 - val_accuracy: 0.8910\n",
      "Epoch 26/64\n",
      "57000/57000 [==============================] - 0s 6us/step - loss: 0.2998 - accuracy: 0.8900 - val_loss: 0.3025 - val_accuracy: 0.8883\n",
      "Epoch 27/64\n",
      "57000/57000 [==============================] - 0s 6us/step - loss: 0.2948 - accuracy: 0.8918 - val_loss: 0.3023 - val_accuracy: 0.8893\n",
      "Epoch 28/64\n",
      "57000/57000 [==============================] - 0s 5us/step - loss: 0.2949 - accuracy: 0.8918 - val_loss: 0.3020 - val_accuracy: 0.8933\n",
      "Epoch 29/64\n",
      "57000/57000 [==============================] - 0s 5us/step - loss: 0.2924 - accuracy: 0.8933 - val_loss: 0.2934 - val_accuracy: 0.8960\n",
      "Epoch 30/64\n",
      "57000/57000 [==============================] - 0s 5us/step - loss: 0.2883 - accuracy: 0.8943 - val_loss: 0.2991 - val_accuracy: 0.8927\n",
      "Epoch 31/64\n",
      "57000/57000 [==============================] - 0s 5us/step - loss: 0.2849 - accuracy: 0.8949 - val_loss: 0.2936 - val_accuracy: 0.8963\n",
      "Epoch 32/64\n",
      "57000/57000 [==============================] - 0s 5us/step - loss: 0.2813 - accuracy: 0.8970 - val_loss: 0.2999 - val_accuracy: 0.8970\n",
      "Epoch 33/64\n",
      "57000/57000 [==============================] - 0s 5us/step - loss: 0.2805 - accuracy: 0.8963 - val_loss: 0.2979 - val_accuracy: 0.8943\n",
      "Epoch 34/64\n",
      "57000/57000 [==============================] - 0s 5us/step - loss: 0.2798 - accuracy: 0.8972 - val_loss: 0.2963 - val_accuracy: 0.8937\n",
      "Epoch 35/64\n",
      "57000/57000 [==============================] - 0s 5us/step - loss: 0.2749 - accuracy: 0.8980 - val_loss: 0.2892 - val_accuracy: 0.8983\n",
      "Epoch 36/64\n",
      "57000/57000 [==============================] - 0s 5us/step - loss: 0.2721 - accuracy: 0.9000 - val_loss: 0.2907 - val_accuracy: 0.8973\n",
      "Epoch 37/64\n",
      "57000/57000 [==============================] - 0s 5us/step - loss: 0.2701 - accuracy: 0.9007 - val_loss: 0.2902 - val_accuracy: 0.8967\n",
      "Epoch 38/64\n",
      "57000/57000 [==============================] - 0s 5us/step - loss: 0.2711 - accuracy: 0.9006 - val_loss: 0.2903 - val_accuracy: 0.8980\n",
      "Epoch 39/64\n",
      "57000/57000 [==============================] - 0s 5us/step - loss: 0.2652 - accuracy: 0.9019 - val_loss: 0.2894 - val_accuracy: 0.9007\n",
      "Epoch 40/64\n",
      "57000/57000 [==============================] - 0s 5us/step - loss: 0.2625 - accuracy: 0.9022 - val_loss: 0.2915 - val_accuracy: 0.8970\n",
      "Epoch 41/64\n",
      "57000/57000 [==============================] - 0s 5us/step - loss: 0.2615 - accuracy: 0.9032 - val_loss: 0.2912 - val_accuracy: 0.9017\n",
      "Epoch 42/64\n",
      "57000/57000 [==============================] - 0s 5us/step - loss: 0.2601 - accuracy: 0.9030 - val_loss: 0.2907 - val_accuracy: 0.9007\n",
      "Epoch 43/64\n",
      "57000/57000 [==============================] - 0s 5us/step - loss: 0.2562 - accuracy: 0.9047 - val_loss: 0.2848 - val_accuracy: 0.9033\n",
      "Epoch 44/64\n",
      "57000/57000 [==============================] - 0s 5us/step - loss: 0.2533 - accuracy: 0.9064 - val_loss: 0.2881 - val_accuracy: 0.8987\n",
      "Epoch 45/64\n",
      "57000/57000 [==============================] - 0s 5us/step - loss: 0.2529 - accuracy: 0.9066 - val_loss: 0.2877 - val_accuracy: 0.8960\n",
      "Epoch 46/64\n",
      "57000/57000 [==============================] - 0s 5us/step - loss: 0.2553 - accuracy: 0.9037 - val_loss: 0.2868 - val_accuracy: 0.9007\n",
      "Epoch 47/64\n",
      "57000/57000 [==============================] - 0s 5us/step - loss: 0.2512 - accuracy: 0.9068 - val_loss: 0.2959 - val_accuracy: 0.8980\n",
      "Epoch 48/64\n",
      "57000/57000 [==============================] - 0s 5us/step - loss: 0.2471 - accuracy: 0.9080 - val_loss: 0.2875 - val_accuracy: 0.8973\n",
      "Epoch 49/64\n",
      "57000/57000 [==============================] - 0s 5us/step - loss: 0.2466 - accuracy: 0.9080 - val_loss: 0.2793 - val_accuracy: 0.9007\n",
      "Epoch 50/64\n",
      "57000/57000 [==============================] - 0s 5us/step - loss: 0.2477 - accuracy: 0.9087 - val_loss: 0.2832 - val_accuracy: 0.9013\n",
      "Epoch 51/64\n",
      "57000/57000 [==============================] - 0s 5us/step - loss: 0.2446 - accuracy: 0.9079 - val_loss: 0.2823 - val_accuracy: 0.9027\n",
      "Epoch 52/64\n",
      "57000/57000 [==============================] - 0s 5us/step - loss: 0.2424 - accuracy: 0.9089 - val_loss: 0.2858 - val_accuracy: 0.8977\n",
      "Epoch 53/64\n",
      "57000/57000 [==============================] - 0s 5us/step - loss: 0.2391 - accuracy: 0.9112 - val_loss: 0.2881 - val_accuracy: 0.9030\n",
      "Epoch 54/64\n",
      "57000/57000 [==============================] - 0s 5us/step - loss: 0.2390 - accuracy: 0.9108 - val_loss: 0.2820 - val_accuracy: 0.9000\n",
      "Epoch 55/64\n",
      "57000/57000 [==============================] - 0s 5us/step - loss: 0.2397 - accuracy: 0.9103 - val_loss: 0.2866 - val_accuracy: 0.9027\n",
      "Epoch 56/64\n",
      "57000/57000 [==============================] - 0s 5us/step - loss: 0.2379 - accuracy: 0.9112 - val_loss: 0.2845 - val_accuracy: 0.8983\n",
      "Epoch 57/64\n",
      "57000/57000 [==============================] - 0s 5us/step - loss: 0.2363 - accuracy: 0.9113 - val_loss: 0.2948 - val_accuracy: 0.8997\n",
      "Epoch 58/64\n",
      "57000/57000 [==============================] - 0s 5us/step - loss: 0.2349 - accuracy: 0.9122 - val_loss: 0.2897 - val_accuracy: 0.9007\n",
      "Epoch 59/64\n",
      "57000/57000 [==============================] - 0s 5us/step - loss: 0.2340 - accuracy: 0.9118 - val_loss: 0.2883 - val_accuracy: 0.8990\n",
      "Epoch 60/64\n",
      "57000/57000 [==============================] - 0s 5us/step - loss: 0.2305 - accuracy: 0.9136 - val_loss: 0.2888 - val_accuracy: 0.9020\n",
      "Epoch 61/64\n",
      "57000/57000 [==============================] - 0s 5us/step - loss: 0.2315 - accuracy: 0.9130 - val_loss: 0.2902 - val_accuracy: 0.9020\n",
      "Epoch 62/64\n",
      "57000/57000 [==============================] - 0s 5us/step - loss: 0.2312 - accuracy: 0.9134 - val_loss: 0.2858 - val_accuracy: 0.9003\n",
      "Epoch 63/64\n",
      "57000/57000 [==============================] - 0s 5us/step - loss: 0.2267 - accuracy: 0.9143 - val_loss: 0.2876 - val_accuracy: 0.9037\n",
      "Epoch 64/64\n",
      "57000/57000 [==============================] - 0s 4us/step - loss: 0.2209 - accuracy: 0.9171 - val_loss: 0.2881 - val_accuracy: 0.9043\n"
     ]
    },
    {
     "data": {
      "text/plain": [
       "1"
      ]
     },
     "metadata": {},
     "output_type": "display_data"
    },
    {
     "data": {
      "text/plain": [
       "(array([    0,     1,     2, ..., 59997, 59998, 59999]),\n",
       " array([    9,    27,    28, ..., 59924, 59942, 59959]))"
      ]
     },
     "metadata": {},
     "output_type": "display_data"
    },
    {
     "name": "stdout",
     "output_type": "stream",
     "text": [
      "Train on 57000 samples, validate on 3000 samples\n",
      "Epoch 1/64\n",
      "57000/57000 [==============================] - 0s 6us/step - loss: 0.2309 - accuracy: 0.9146 - val_loss: 0.1882 - val_accuracy: 0.9317\n",
      "Epoch 2/64\n",
      "57000/57000 [==============================] - 0s 6us/step - loss: 0.2311 - accuracy: 0.9142 - val_loss: 0.1914 - val_accuracy: 0.9273\n",
      "Epoch 3/64\n",
      "57000/57000 [==============================] - 0s 5us/step - loss: 0.2282 - accuracy: 0.9149 - val_loss: 0.1884 - val_accuracy: 0.9290\n",
      "Epoch 4/64\n",
      "57000/57000 [==============================] - 0s 5us/step - loss: 0.2258 - accuracy: 0.9168 - val_loss: 0.1913 - val_accuracy: 0.9290\n",
      "Epoch 5/64\n",
      "57000/57000 [==============================] - 0s 5us/step - loss: 0.2201 - accuracy: 0.9182 - val_loss: 0.1947 - val_accuracy: 0.9277\n",
      "Epoch 6/64\n",
      "57000/57000 [==============================] - 0s 5us/step - loss: 0.2219 - accuracy: 0.9176 - val_loss: 0.1971 - val_accuracy: 0.9283\n",
      "Epoch 7/64\n",
      "57000/57000 [==============================] - 0s 5us/step - loss: 0.2200 - accuracy: 0.9185 - val_loss: 0.1941 - val_accuracy: 0.9247\n",
      "Epoch 8/64\n",
      "57000/57000 [==============================] - 0s 5us/step - loss: 0.2225 - accuracy: 0.9172 - val_loss: 0.1996 - val_accuracy: 0.9257\n",
      "Epoch 9/64\n",
      "57000/57000 [==============================] - 0s 5us/step - loss: 0.2162 - accuracy: 0.9193 - val_loss: 0.1950 - val_accuracy: 0.9260\n",
      "Epoch 10/64\n",
      "57000/57000 [==============================] - 0s 5us/step - loss: 0.2134 - accuracy: 0.9206 - val_loss: 0.2027 - val_accuracy: 0.9237\n",
      "Epoch 11/64\n",
      "57000/57000 [==============================] - 0s 5us/step - loss: 0.2142 - accuracy: 0.9204 - val_loss: 0.2004 - val_accuracy: 0.9273\n",
      "Epoch 12/64\n",
      "57000/57000 [==============================] - 0s 5us/step - loss: 0.2139 - accuracy: 0.9193 - val_loss: 0.2098 - val_accuracy: 0.9230\n",
      "Epoch 13/64\n",
      "57000/57000 [==============================] - 0s 6us/step - loss: 0.2138 - accuracy: 0.9184 - val_loss: 0.1983 - val_accuracy: 0.9237\n"
     ]
    },
    {
     "data": {
      "text/plain": [
       "2"
      ]
     },
     "metadata": {},
     "output_type": "display_data"
    },
    {
     "data": {
      "text/plain": [
       "(array([    0,     1,     2, ..., 59995, 59996, 59997]),\n",
       " array([    5,    12,    71, ..., 59993, 59998, 59999]))"
      ]
     },
     "metadata": {},
     "output_type": "display_data"
    },
    {
     "name": "stdout",
     "output_type": "stream",
     "text": [
      "Train on 57000 samples, validate on 3000 samples\n",
      "Epoch 1/64\n",
      "57000/57000 [==============================] - 0s 7us/step - loss: 0.2186 - accuracy: 0.9189 - val_loss: 0.1717 - val_accuracy: 0.9280\n",
      "Epoch 2/64\n",
      "57000/57000 [==============================] - 0s 6us/step - loss: 0.2162 - accuracy: 0.9191 - val_loss: 0.1642 - val_accuracy: 0.9363\n",
      "Epoch 3/64\n",
      "57000/57000 [==============================] - 0s 5us/step - loss: 0.2136 - accuracy: 0.9203 - val_loss: 0.1627 - val_accuracy: 0.9387\n",
      "Epoch 4/64\n",
      "57000/57000 [==============================] - 0s 6us/step - loss: 0.2111 - accuracy: 0.9213 - val_loss: 0.1682 - val_accuracy: 0.9303\n",
      "Epoch 5/64\n",
      "57000/57000 [==============================] - 0s 5us/step - loss: 0.2063 - accuracy: 0.9226 - val_loss: 0.1768 - val_accuracy: 0.9313\n",
      "Epoch 6/64\n",
      "57000/57000 [==============================] - 0s 5us/step - loss: 0.2063 - accuracy: 0.9225 - val_loss: 0.1723 - val_accuracy: 0.9343\n",
      "Epoch 7/64\n",
      "57000/57000 [==============================] - 0s 6us/step - loss: 0.2083 - accuracy: 0.9221 - val_loss: 0.1676 - val_accuracy: 0.9403\n",
      "Epoch 8/64\n",
      "57000/57000 [==============================] - 0s 5us/step - loss: 0.2067 - accuracy: 0.9228 - val_loss: 0.1760 - val_accuracy: 0.9300\n"
     ]
    },
    {
     "data": {
      "text/plain": [
       "3"
      ]
     },
     "metadata": {},
     "output_type": "display_data"
    },
    {
     "data": {
      "text/plain": [
       "(array([    0,     1,     2, ..., 59997, 59998, 59999]),\n",
       " array([   20,    22,    26, ..., 59940, 59941, 59978]))"
      ]
     },
     "metadata": {},
     "output_type": "display_data"
    },
    {
     "name": "stdout",
     "output_type": "stream",
     "text": [
      "Train on 57000 samples, validate on 3000 samples\n",
      "Epoch 1/64\n",
      "57000/57000 [==============================] - 0s 5us/step - loss: 0.2082 - accuracy: 0.9203 - val_loss: 0.1571 - val_accuracy: 0.9427\n",
      "Epoch 2/64\n",
      "57000/57000 [==============================] - 0s 5us/step - loss: 0.2103 - accuracy: 0.9203 - val_loss: 0.1555 - val_accuracy: 0.9433\n",
      "Epoch 3/64\n",
      "57000/57000 [==============================] - 0s 5us/step - loss: 0.2056 - accuracy: 0.9215 - val_loss: 0.1691 - val_accuracy: 0.9383\n",
      "Epoch 4/64\n",
      "57000/57000 [==============================] - 0s 5us/step - loss: 0.2048 - accuracy: 0.9228 - val_loss: 0.1604 - val_accuracy: 0.9413\n",
      "Epoch 5/64\n",
      "57000/57000 [==============================] - 0s 5us/step - loss: 0.2073 - accuracy: 0.9231 - val_loss: 0.1644 - val_accuracy: 0.9383\n",
      "Epoch 6/64\n",
      "57000/57000 [==============================] - 0s 5us/step - loss: 0.1970 - accuracy: 0.9270 - val_loss: 0.1648 - val_accuracy: 0.9377\n",
      "Epoch 7/64\n",
      "57000/57000 [==============================] - 0s 5us/step - loss: 0.2011 - accuracy: 0.9244 - val_loss: 0.1716 - val_accuracy: 0.9320\n",
      "Epoch 8/64\n",
      "57000/57000 [==============================] - 0s 5us/step - loss: 0.2050 - accuracy: 0.9237 - val_loss: 0.1708 - val_accuracy: 0.9383\n",
      "Epoch 9/64\n",
      "57000/57000 [==============================] - 0s 5us/step - loss: 0.2036 - accuracy: 0.9229 - val_loss: 0.1725 - val_accuracy: 0.9347\n"
     ]
    },
    {
     "data": {
      "text/plain": [
       "4"
      ]
     },
     "metadata": {},
     "output_type": "display_data"
    },
    {
     "data": {
      "text/plain": [
       "(array([    0,     1,     2, ..., 59997, 59998, 59999]),\n",
       " array([   18,    60,    91, ..., 59947, 59951, 59970]))"
      ]
     },
     "metadata": {},
     "output_type": "display_data"
    },
    {
     "name": "stdout",
     "output_type": "stream",
     "text": [
      "Train on 57000 samples, validate on 3000 samples\n",
      "Epoch 1/64\n",
      "57000/57000 [==============================] - 0s 7us/step - loss: 0.2051 - accuracy: 0.9229 - val_loss: 0.1428 - val_accuracy: 0.9477\n",
      "Epoch 2/64\n",
      "57000/57000 [==============================] - 0s 7us/step - loss: 0.2051 - accuracy: 0.9231 - val_loss: 0.1452 - val_accuracy: 0.9460\n",
      "Epoch 3/64\n",
      "57000/57000 [==============================] - 0s 6us/step - loss: 0.1985 - accuracy: 0.9253 - val_loss: 0.1481 - val_accuracy: 0.9440\n",
      "Epoch 4/64\n",
      "57000/57000 [==============================] - 0s 5us/step - loss: 0.2001 - accuracy: 0.9251 - val_loss: 0.1573 - val_accuracy: 0.9387\n",
      "Epoch 5/64\n",
      "57000/57000 [==============================] - 0s 5us/step - loss: 0.2012 - accuracy: 0.9256 - val_loss: 0.1568 - val_accuracy: 0.9410\n",
      "Epoch 6/64\n",
      "57000/57000 [==============================] - 0s 5us/step - loss: 0.2015 - accuracy: 0.9242 - val_loss: 0.1571 - val_accuracy: 0.9420\n"
     ]
    },
    {
     "data": {
      "text/plain": [
       "5"
      ]
     },
     "metadata": {},
     "output_type": "display_data"
    },
    {
     "data": {
      "text/plain": [
       "(array([    0,     1,     2, ..., 59997, 59998, 59999]),\n",
       " array([   57,    95,   132, ..., 59971, 59984, 59995]))"
      ]
     },
     "metadata": {},
     "output_type": "display_data"
    },
    {
     "name": "stdout",
     "output_type": "stream",
     "text": [
      "Train on 57000 samples, validate on 3000 samples\n",
      "Epoch 1/64\n",
      "57000/57000 [==============================] - 0s 5us/step - loss: 0.2007 - accuracy: 0.9247 - val_loss: 0.1538 - val_accuracy: 0.9417\n",
      "Epoch 2/64\n",
      "57000/57000 [==============================] - 0s 5us/step - loss: 0.2003 - accuracy: 0.9239 - val_loss: 0.1599 - val_accuracy: 0.9427\n",
      "Epoch 3/64\n",
      "57000/57000 [==============================] - 0s 5us/step - loss: 0.1997 - accuracy: 0.9242 - val_loss: 0.1741 - val_accuracy: 0.9353\n",
      "Epoch 4/64\n",
      "57000/57000 [==============================] - 0s 5us/step - loss: 0.1943 - accuracy: 0.9259 - val_loss: 0.1646 - val_accuracy: 0.9363\n",
      "Epoch 5/64\n",
      "57000/57000 [==============================] - 0s 5us/step - loss: 0.1906 - accuracy: 0.9298 - val_loss: 0.1624 - val_accuracy: 0.9370\n",
      "Epoch 6/64\n",
      "57000/57000 [==============================] - 0s 5us/step - loss: 0.1854 - accuracy: 0.9294 - val_loss: 0.1617 - val_accuracy: 0.9367\n",
      "Epoch 7/64\n",
      "57000/57000 [==============================] - 0s 5us/step - loss: 0.1886 - accuracy: 0.9285 - val_loss: 0.1627 - val_accuracy: 0.9370\n",
      "Epoch 8/64\n",
      "57000/57000 [==============================] - 0s 5us/step - loss: 0.1918 - accuracy: 0.9266 - val_loss: 0.1704 - val_accuracy: 0.9340\n",
      "Epoch 9/64\n",
      "57000/57000 [==============================] - 0s 5us/step - loss: 0.1908 - accuracy: 0.9267 - val_loss: 0.1734 - val_accuracy: 0.9347\n"
     ]
    },
    {
     "data": {
      "text/plain": [
       "6"
      ]
     },
     "metadata": {},
     "output_type": "display_data"
    },
    {
     "data": {
      "text/plain": [
       "(array([    0,     1,     2, ..., 59997, 59998, 59999]),\n",
       " array([    4,    37,    83, ..., 59897, 59905, 59990]))"
      ]
     },
     "metadata": {},
     "output_type": "display_data"
    },
    {
     "name": "stdout",
     "output_type": "stream",
     "text": [
      "Train on 57000 samples, validate on 3000 samples\n",
      "Epoch 1/64\n",
      "57000/57000 [==============================] - 0s 6us/step - loss: 0.1921 - accuracy: 0.9283 - val_loss: 0.1484 - val_accuracy: 0.9390\n",
      "Epoch 2/64\n",
      "57000/57000 [==============================] - 0s 5us/step - loss: 0.1895 - accuracy: 0.9292 - val_loss: 0.1406 - val_accuracy: 0.9490\n",
      "Epoch 3/64\n",
      "57000/57000 [==============================] - 0s 5us/step - loss: 0.1906 - accuracy: 0.9291 - val_loss: 0.1473 - val_accuracy: 0.9427\n",
      "Epoch 4/64\n",
      "57000/57000 [==============================] - 0s 5us/step - loss: 0.1877 - accuracy: 0.9292 - val_loss: 0.1497 - val_accuracy: 0.9427\n",
      "Epoch 5/64\n",
      "57000/57000 [==============================] - 0s 5us/step - loss: 0.1884 - accuracy: 0.9286 - val_loss: 0.1561 - val_accuracy: 0.9343\n",
      "Epoch 6/64\n",
      "57000/57000 [==============================] - 0s 5us/step - loss: 0.1882 - accuracy: 0.9296 - val_loss: 0.1464 - val_accuracy: 0.9480\n",
      "Epoch 7/64\n",
      "57000/57000 [==============================] - 0s 5us/step - loss: 0.1832 - accuracy: 0.9302 - val_loss: 0.1515 - val_accuracy: 0.9423\n",
      "Epoch 8/64\n",
      "57000/57000 [==============================] - 0s 5us/step - loss: 0.1834 - accuracy: 0.9312 - val_loss: 0.1501 - val_accuracy: 0.9430\n",
      "Epoch 9/64\n",
      "57000/57000 [==============================] - 0s 5us/step - loss: 0.1841 - accuracy: 0.9308 - val_loss: 0.1502 - val_accuracy: 0.9413\n",
      "Epoch 10/64\n",
      "57000/57000 [==============================] - 0s 5us/step - loss: 0.1809 - accuracy: 0.9305 - val_loss: 0.1510 - val_accuracy: 0.9447\n",
      "Epoch 11/64\n",
      "57000/57000 [==============================] - 0s 6us/step - loss: 0.1811 - accuracy: 0.9310 - val_loss: 0.1555 - val_accuracy: 0.9387\n",
      "Epoch 12/64\n",
      "57000/57000 [==============================] - 0s 5us/step - loss: 0.1786 - accuracy: 0.9319 - val_loss: 0.1582 - val_accuracy: 0.9413\n",
      "Epoch 13/64\n",
      "57000/57000 [==============================] - 0s 5us/step - loss: 0.1816 - accuracy: 0.9312 - val_loss: 0.1547 - val_accuracy: 0.9433\n",
      "Epoch 14/64\n",
      "57000/57000 [==============================] - 0s 5us/step - loss: 0.1819 - accuracy: 0.9304 - val_loss: 0.1560 - val_accuracy: 0.9433\n",
      "Epoch 15/64\n",
      "57000/57000 [==============================] - 0s 5us/step - loss: 0.1830 - accuracy: 0.9308 - val_loss: 0.1679 - val_accuracy: 0.9370\n"
     ]
    },
    {
     "data": {
      "text/plain": [
       "7"
      ]
     },
     "metadata": {},
     "output_type": "display_data"
    },
    {
     "data": {
      "text/plain": [
       "(array([    0,     1,     2, ..., 59997, 59998, 59999]),\n",
       " array([   16,    23,   103, ..., 59898, 59904, 59986]))"
      ]
     },
     "metadata": {},
     "output_type": "display_data"
    },
    {
     "name": "stdout",
     "output_type": "stream",
     "text": [
      "Train on 57000 samples, validate on 3000 samples\n",
      "Epoch 1/64\n",
      "57000/57000 [==============================] - 0s 5us/step - loss: 0.1837 - accuracy: 0.9308 - val_loss: 0.1434 - val_accuracy: 0.9513\n",
      "Epoch 2/64\n",
      "57000/57000 [==============================] - 0s 5us/step - loss: 0.1789 - accuracy: 0.9317 - val_loss: 0.1354 - val_accuracy: 0.9557\n",
      "Epoch 3/64\n",
      "57000/57000 [==============================] - 0s 7us/step - loss: 0.1819 - accuracy: 0.9305 - val_loss: 0.1436 - val_accuracy: 0.9507\n",
      "Epoch 4/64\n",
      "57000/57000 [==============================] - 0s 6us/step - loss: 0.1791 - accuracy: 0.9318 - val_loss: 0.1496 - val_accuracy: 0.9480\n",
      "Epoch 5/64\n",
      "57000/57000 [==============================] - 0s 5us/step - loss: 0.1761 - accuracy: 0.9325 - val_loss: 0.1454 - val_accuracy: 0.9470\n",
      "Epoch 6/64\n",
      "57000/57000 [==============================] - 0s 5us/step - loss: 0.1749 - accuracy: 0.9333 - val_loss: 0.1510 - val_accuracy: 0.9423\n",
      "Epoch 7/64\n",
      "57000/57000 [==============================] - 0s 5us/step - loss: 0.1743 - accuracy: 0.9345 - val_loss: 0.1467 - val_accuracy: 0.9487\n",
      "Epoch 8/64\n",
      "57000/57000 [==============================] - 0s 5us/step - loss: 0.1725 - accuracy: 0.9353 - val_loss: 0.1467 - val_accuracy: 0.9467\n",
      "Epoch 9/64\n",
      "57000/57000 [==============================] - 0s 5us/step - loss: 0.1731 - accuracy: 0.9337 - val_loss: 0.1480 - val_accuracy: 0.9470\n",
      "Epoch 10/64\n",
      "57000/57000 [==============================] - 0s 5us/step - loss: 0.1710 - accuracy: 0.9354 - val_loss: 0.1560 - val_accuracy: 0.9440\n",
      "Epoch 11/64\n",
      "57000/57000 [==============================] - 0s 5us/step - loss: 0.1741 - accuracy: 0.9339 - val_loss: 0.1535 - val_accuracy: 0.9470\n",
      "Epoch 12/64\n",
      "57000/57000 [==============================] - 0s 5us/step - loss: 0.1697 - accuracy: 0.9343 - val_loss: 0.1600 - val_accuracy: 0.9413\n",
      "Epoch 13/64\n",
      "57000/57000 [==============================] - 0s 5us/step - loss: 0.1708 - accuracy: 0.9344 - val_loss: 0.1580 - val_accuracy: 0.9417\n",
      "Epoch 14/64\n",
      "57000/57000 [==============================] - 0s 5us/step - loss: 0.1733 - accuracy: 0.9336 - val_loss: 0.1599 - val_accuracy: 0.9447\n",
      "Epoch 15/64\n",
      "57000/57000 [==============================] - 0s 5us/step - loss: 0.1674 - accuracy: 0.9364 - val_loss: 0.1586 - val_accuracy: 0.9460\n",
      "Epoch 16/64\n",
      "57000/57000 [==============================] - 0s 6us/step - loss: 0.1684 - accuracy: 0.9366 - val_loss: 0.1534 - val_accuracy: 0.9437\n",
      "Epoch 17/64\n",
      "57000/57000 [==============================] - 0s 5us/step - loss: 0.1735 - accuracy: 0.9339 - val_loss: 0.1732 - val_accuracy: 0.9367\n",
      "Epoch 18/64\n",
      "57000/57000 [==============================] - 0s 5us/step - loss: 0.1720 - accuracy: 0.9341 - val_loss: 0.1760 - val_accuracy: 0.9350\n"
     ]
    },
    {
     "data": {
      "text/plain": [
       "8"
      ]
     },
     "metadata": {},
     "output_type": "display_data"
    },
    {
     "data": {
      "text/plain": [
       "(array([    0,     1,     2, ..., 59997, 59998, 59999]),\n",
       " array([   35,    58,    59, ..., 59976, 59987, 59994]))"
      ]
     },
     "metadata": {},
     "output_type": "display_data"
    },
    {
     "name": "stdout",
     "output_type": "stream",
     "text": [
      "Train on 57000 samples, validate on 3000 samples\n",
      "Epoch 1/64\n",
      "57000/57000 [==============================] - 0s 6us/step - loss: 0.1709 - accuracy: 0.9336 - val_loss: 0.1092 - val_accuracy: 0.9640\n",
      "Epoch 2/64\n",
      "57000/57000 [==============================] - 0s 5us/step - loss: 0.1687 - accuracy: 0.9352 - val_loss: 0.1137 - val_accuracy: 0.9660\n",
      "Epoch 3/64\n",
      "57000/57000 [==============================] - 0s 5us/step - loss: 0.1698 - accuracy: 0.9354 - val_loss: 0.1110 - val_accuracy: 0.9607\n",
      "Epoch 4/64\n",
      "57000/57000 [==============================] - 0s 5us/step - loss: 0.1647 - accuracy: 0.9372 - val_loss: 0.1226 - val_accuracy: 0.9540\n",
      "Epoch 5/64\n",
      "57000/57000 [==============================] - 0s 6us/step - loss: 0.1673 - accuracy: 0.9370 - val_loss: 0.1196 - val_accuracy: 0.9557\n",
      "Epoch 6/64\n",
      "57000/57000 [==============================] - 0s 6us/step - loss: 0.1702 - accuracy: 0.9353 - val_loss: 0.1176 - val_accuracy: 0.9577\n",
      "Epoch 7/64\n",
      "57000/57000 [==============================] - 0s 5us/step - loss: 0.1665 - accuracy: 0.9372 - val_loss: 0.1228 - val_accuracy: 0.9570\n"
     ]
    },
    {
     "data": {
      "text/plain": [
       "9"
      ]
     },
     "metadata": {},
     "output_type": "display_data"
    },
    {
     "data": {
      "text/plain": [
       "(array([    0,     1,     2, ..., 59997, 59998, 59999]),\n",
       " array([   15,    29,    69, ..., 59836, 59890, 59932]))"
      ]
     },
     "metadata": {},
     "output_type": "display_data"
    },
    {
     "name": "stdout",
     "output_type": "stream",
     "text": [
      "Train on 57000 samples, validate on 3000 samples\n",
      "Epoch 1/64\n",
      "57000/57000 [==============================] - 0s 6us/step - loss: 0.1653 - accuracy: 0.9369 - val_loss: 0.0975 - val_accuracy: 0.9693\n",
      "Epoch 2/64\n",
      "57000/57000 [==============================] - 0s 6us/step - loss: 0.1678 - accuracy: 0.9352 - val_loss: 0.1008 - val_accuracy: 0.9643\n",
      "Epoch 3/64\n",
      "57000/57000 [==============================] - 0s 6us/step - loss: 0.1695 - accuracy: 0.9355 - val_loss: 0.1012 - val_accuracy: 0.9657\n",
      "Epoch 4/64\n",
      "57000/57000 [==============================] - 0s 6us/step - loss: 0.1614 - accuracy: 0.9381 - val_loss: 0.1022 - val_accuracy: 0.9657\n",
      "Epoch 5/64\n",
      "57000/57000 [==============================] - 0s 6us/step - loss: 0.1615 - accuracy: 0.9379 - val_loss: 0.1050 - val_accuracy: 0.9660\n",
      "Epoch 6/64\n",
      "57000/57000 [==============================] - 0s 5us/step - loss: 0.1592 - accuracy: 0.9395 - val_loss: 0.1012 - val_accuracy: 0.9673\n",
      "Epoch 7/64\n",
      "57000/57000 [==============================] - 0s 6us/step - loss: 0.1602 - accuracy: 0.9385 - val_loss: 0.1027 - val_accuracy: 0.9673\n",
      "Epoch 8/64\n",
      "57000/57000 [==============================] - 0s 6us/step - loss: 0.1625 - accuracy: 0.9379 - val_loss: 0.1061 - val_accuracy: 0.9650\n",
      "Epoch 9/64\n",
      "57000/57000 [==============================] - 0s 5us/step - loss: 0.1627 - accuracy: 0.9387 - val_loss: 0.1063 - val_accuracy: 0.9640\n"
     ]
    },
    {
     "data": {
      "text/plain": [
       "10"
      ]
     },
     "metadata": {},
     "output_type": "display_data"
    },
    {
     "data": {
      "text/plain": [
       "(array([    0,     1,     2, ..., 59997, 59998, 59999]),\n",
       " array([    8,    11,    46, ..., 59931, 59975, 59985]))"
      ]
     },
     "metadata": {},
     "output_type": "display_data"
    },
    {
     "name": "stdout",
     "output_type": "stream",
     "text": [
      "Train on 57000 samples, validate on 3000 samples\n",
      "Epoch 1/64\n",
      "57000/57000 [==============================] - 0s 6us/step - loss: 0.1590 - accuracy: 0.9393 - val_loss: 0.1060 - val_accuracy: 0.9647\n",
      "Epoch 2/64\n",
      "57000/57000 [==============================] - 0s 5us/step - loss: 0.1569 - accuracy: 0.9402 - val_loss: 0.1052 - val_accuracy: 0.9687\n",
      "Epoch 3/64\n",
      "57000/57000 [==============================] - 0s 5us/step - loss: 0.1557 - accuracy: 0.9400 - val_loss: 0.1137 - val_accuracy: 0.9627\n",
      "Epoch 4/64\n",
      "57000/57000 [==============================] - 0s 5us/step - loss: 0.1605 - accuracy: 0.9392 - val_loss: 0.1125 - val_accuracy: 0.9613\n",
      "Epoch 5/64\n",
      "57000/57000 [==============================] - 0s 5us/step - loss: 0.1586 - accuracy: 0.9393 - val_loss: 0.1188 - val_accuracy: 0.9607\n",
      "Epoch 6/64\n",
      "57000/57000 [==============================] - 0s 5us/step - loss: 0.1610 - accuracy: 0.9377 - val_loss: 0.1171 - val_accuracy: 0.9607\n"
     ]
    },
    {
     "data": {
      "text/plain": [
       "11"
      ]
     },
     "metadata": {},
     "output_type": "display_data"
    },
    {
     "data": {
      "text/plain": [
       "(array([    0,     1,     2, ..., 59997, 59998, 59999]),\n",
       " array([    3,    17,    48, ..., 59977, 59980, 59996]))"
      ]
     },
     "metadata": {},
     "output_type": "display_data"
    },
    {
     "name": "stdout",
     "output_type": "stream",
     "text": [
      "Train on 57000 samples, validate on 3000 samples\n",
      "Epoch 1/64\n",
      "57000/57000 [==============================] - 0s 7us/step - loss: 0.1615 - accuracy: 0.9383 - val_loss: 0.1116 - val_accuracy: 0.9607\n",
      "Epoch 2/64\n",
      "57000/57000 [==============================] - 0s 7us/step - loss: 0.1650 - accuracy: 0.9371 - val_loss: 0.1149 - val_accuracy: 0.9560\n",
      "Epoch 3/64\n",
      "57000/57000 [==============================] - 0s 6us/step - loss: 0.1645 - accuracy: 0.9365 - val_loss: 0.1187 - val_accuracy: 0.9550\n",
      "Epoch 4/64\n",
      "57000/57000 [==============================] - 0s 5us/step - loss: 0.1612 - accuracy: 0.9391 - val_loss: 0.1147 - val_accuracy: 0.9577\n",
      "Epoch 5/64\n",
      "57000/57000 [==============================] - 0s 5us/step - loss: 0.1577 - accuracy: 0.9401 - val_loss: 0.1189 - val_accuracy: 0.9560\n",
      "Epoch 6/64\n",
      "57000/57000 [==============================] - 0s 5us/step - loss: 0.1583 - accuracy: 0.9390 - val_loss: 0.1155 - val_accuracy: 0.9570\n",
      "Epoch 7/64\n",
      "57000/57000 [==============================] - 0s 5us/step - loss: 0.1554 - accuracy: 0.9412 - val_loss: 0.1158 - val_accuracy: 0.9530\n",
      "Epoch 8/64\n",
      "57000/57000 [==============================] - 0s 5us/step - loss: 0.1532 - accuracy: 0.9410 - val_loss: 0.1119 - val_accuracy: 0.9620\n",
      "Epoch 9/64\n",
      "57000/57000 [==============================] - 0s 6us/step - loss: 0.1562 - accuracy: 0.9401 - val_loss: 0.1175 - val_accuracy: 0.9567\n",
      "Epoch 10/64\n",
      "57000/57000 [==============================] - 0s 5us/step - loss: 0.1604 - accuracy: 0.9393 - val_loss: 0.1202 - val_accuracy: 0.9557\n",
      "Epoch 11/64\n",
      "57000/57000 [==============================] - 0s 5us/step - loss: 0.1545 - accuracy: 0.9410 - val_loss: 0.1200 - val_accuracy: 0.9547\n"
     ]
    },
    {
     "data": {
      "text/plain": [
       "12"
      ]
     },
     "metadata": {},
     "output_type": "display_data"
    },
    {
     "data": {
      "text/plain": [
       "(array([    0,     1,     2, ..., 59997, 59998, 59999]),\n",
       " array([   24,    36,    42, ..., 59963, 59968, 59973]))"
      ]
     },
     "metadata": {},
     "output_type": "display_data"
    },
    {
     "name": "stdout",
     "output_type": "stream",
     "text": [
      "Train on 57000 samples, validate on 3000 samples\n",
      "Epoch 1/64\n",
      "57000/57000 [==============================] - 0s 5us/step - loss: 0.1546 - accuracy: 0.9406 - val_loss: 0.0973 - val_accuracy: 0.9717\n",
      "Epoch 2/64\n",
      "57000/57000 [==============================] - 0s 6us/step - loss: 0.1537 - accuracy: 0.9418 - val_loss: 0.0961 - val_accuracy: 0.9660\n",
      "Epoch 3/64\n",
      "57000/57000 [==============================] - 0s 5us/step - loss: 0.1569 - accuracy: 0.9394 - val_loss: 0.1012 - val_accuracy: 0.9660\n",
      "Epoch 4/64\n",
      "57000/57000 [==============================] - 0s 5us/step - loss: 0.1505 - accuracy: 0.9419 - val_loss: 0.1036 - val_accuracy: 0.9637\n",
      "Epoch 5/64\n",
      "57000/57000 [==============================] - 0s 5us/step - loss: 0.1536 - accuracy: 0.9415 - val_loss: 0.1055 - val_accuracy: 0.9640\n",
      "Epoch 6/64\n",
      "57000/57000 [==============================] - 0s 6us/step - loss: 0.1575 - accuracy: 0.9394 - val_loss: 0.1063 - val_accuracy: 0.9650\n",
      "Epoch 7/64\n",
      "57000/57000 [==============================] - 0s 6us/step - loss: 0.1554 - accuracy: 0.9407 - val_loss: 0.1129 - val_accuracy: 0.9590\n"
     ]
    },
    {
     "data": {
      "text/plain": [
       "13"
      ]
     },
     "metadata": {},
     "output_type": "display_data"
    },
    {
     "data": {
      "text/plain": [
       "(array([    0,     1,     3, ..., 59997, 59998, 59999]),\n",
       " array([    2,    32,   110, ..., 59887, 59930, 59992]))"
      ]
     },
     "metadata": {},
     "output_type": "display_data"
    },
    {
     "name": "stdout",
     "output_type": "stream",
     "text": [
      "Train on 57000 samples, validate on 3000 samples\n",
      "Epoch 1/64\n",
      "57000/57000 [==============================] - 0s 5us/step - loss: 0.1515 - accuracy: 0.9428 - val_loss: 0.0874 - val_accuracy: 0.9683\n",
      "Epoch 2/64\n",
      "57000/57000 [==============================] - 0s 5us/step - loss: 0.1484 - accuracy: 0.9434 - val_loss: 0.0884 - val_accuracy: 0.9677\n",
      "Epoch 3/64\n",
      "57000/57000 [==============================] - 0s 5us/step - loss: 0.1507 - accuracy: 0.9431 - val_loss: 0.0962 - val_accuracy: 0.9647\n",
      "Epoch 4/64\n",
      "57000/57000 [==============================] - 0s 5us/step - loss: 0.1509 - accuracy: 0.9411 - val_loss: 0.0976 - val_accuracy: 0.9650\n",
      "Epoch 5/64\n",
      "57000/57000 [==============================] - 0s 5us/step - loss: 0.1498 - accuracy: 0.9429 - val_loss: 0.0961 - val_accuracy: 0.9663\n"
     ]
    },
    {
     "data": {
      "text/plain": [
       "14"
      ]
     },
     "metadata": {},
     "output_type": "display_data"
    },
    {
     "data": {
      "text/plain": [
       "(array([    0,     1,     2, ..., 59997, 59998, 59999]),\n",
       " array([   38,    73,    78, ..., 59916, 59925, 59937]))"
      ]
     },
     "metadata": {},
     "output_type": "display_data"
    },
    {
     "name": "stdout",
     "output_type": "stream",
     "text": [
      "Train on 57000 samples, validate on 3000 samples\n",
      "Epoch 1/64\n",
      "57000/57000 [==============================] - 0s 6us/step - loss: 0.1529 - accuracy: 0.9401 - val_loss: 0.1113 - val_accuracy: 0.9623\n",
      "Epoch 2/64\n",
      "57000/57000 [==============================] - 0s 5us/step - loss: 0.1527 - accuracy: 0.9413 - val_loss: 0.1046 - val_accuracy: 0.9627\n",
      "Epoch 3/64\n",
      "57000/57000 [==============================] - 0s 4us/step - loss: 0.1489 - accuracy: 0.9432 - val_loss: 0.1170 - val_accuracy: 0.9573\n",
      "Epoch 4/64\n",
      "57000/57000 [==============================] - 0s 5us/step - loss: 0.1514 - accuracy: 0.9417 - val_loss: 0.1185 - val_accuracy: 0.9597\n",
      "Epoch 5/64\n",
      "57000/57000 [==============================] - 0s 4us/step - loss: 0.1492 - accuracy: 0.9421 - val_loss: 0.1151 - val_accuracy: 0.9600\n",
      "Epoch 6/64\n",
      "57000/57000 [==============================] - 0s 4us/step - loss: 0.1456 - accuracy: 0.9439 - val_loss: 0.1106 - val_accuracy: 0.9607\n",
      "Epoch 7/64\n",
      "57000/57000 [==============================] - 0s 5us/step - loss: 0.1481 - accuracy: 0.9430 - val_loss: 0.1187 - val_accuracy: 0.9553\n",
      "Epoch 8/64\n",
      "57000/57000 [==============================] - 0s 4us/step - loss: 0.1476 - accuracy: 0.9431 - val_loss: 0.1174 - val_accuracy: 0.9587\n",
      "Epoch 9/64\n",
      "57000/57000 [==============================] - 0s 5us/step - loss: 0.1438 - accuracy: 0.9448 - val_loss: 0.1147 - val_accuracy: 0.9550\n",
      "Epoch 10/64\n",
      "57000/57000 [==============================] - 0s 4us/step - loss: 0.1446 - accuracy: 0.9452 - val_loss: 0.1127 - val_accuracy: 0.9587\n",
      "Epoch 11/64\n",
      "57000/57000 [==============================] - 0s 5us/step - loss: 0.1474 - accuracy: 0.9429 - val_loss: 0.1217 - val_accuracy: 0.9523\n",
      "Epoch 12/64\n",
      "57000/57000 [==============================] - 0s 5us/step - loss: 0.1463 - accuracy: 0.9444 - val_loss: 0.1206 - val_accuracy: 0.9517\n"
     ]
    },
    {
     "data": {
      "text/plain": [
       "15"
      ]
     },
     "metadata": {},
     "output_type": "display_data"
    },
    {
     "data": {
      "text/plain": [
       "(array([    0,     2,     3, ..., 59997, 59998, 59999]),\n",
       " array([    1,    21,    33, ..., 59896, 59899, 59934]))"
      ]
     },
     "metadata": {},
     "output_type": "display_data"
    },
    {
     "name": "stdout",
     "output_type": "stream",
     "text": [
      "Train on 57000 samples, validate on 3000 samples\n",
      "Epoch 1/64\n",
      "57000/57000 [==============================] - 0s 5us/step - loss: 0.1469 - accuracy: 0.9445 - val_loss: 0.0881 - val_accuracy: 0.9657\n",
      "Epoch 2/64\n",
      "57000/57000 [==============================] - 0s 5us/step - loss: 0.1471 - accuracy: 0.9432 - val_loss: 0.0923 - val_accuracy: 0.9640\n",
      "Epoch 3/64\n",
      "57000/57000 [==============================] - 0s 5us/step - loss: 0.1479 - accuracy: 0.9427 - val_loss: 0.0906 - val_accuracy: 0.9667\n",
      "Epoch 4/64\n",
      "57000/57000 [==============================] - 0s 5us/step - loss: 0.1465 - accuracy: 0.9449 - val_loss: 0.0957 - val_accuracy: 0.9630\n",
      "Epoch 5/64\n",
      "57000/57000 [==============================] - 0s 5us/step - loss: 0.1420 - accuracy: 0.9457 - val_loss: 0.1008 - val_accuracy: 0.9650\n",
      "Epoch 6/64\n",
      "57000/57000 [==============================] - 0s 5us/step - loss: 0.1504 - accuracy: 0.9424 - val_loss: 0.0974 - val_accuracy: 0.9643\n",
      "Epoch 7/64\n",
      "57000/57000 [==============================] - 0s 5us/step - loss: 0.1439 - accuracy: 0.9444 - val_loss: 0.1011 - val_accuracy: 0.9617\n",
      "Epoch 8/64\n",
      "57000/57000 [==============================] - 0s 5us/step - loss: 0.1439 - accuracy: 0.9455 - val_loss: 0.1015 - val_accuracy: 0.9610\n"
     ]
    },
    {
     "data": {
      "text/plain": [
       "16"
      ]
     },
     "metadata": {},
     "output_type": "display_data"
    },
    {
     "data": {
      "text/plain": [
       "(array([    0,     1,     2, ..., 59997, 59998, 59999]),\n",
       " array([    6,    64,    67, ..., 59928, 59957, 59979]))"
      ]
     },
     "metadata": {},
     "output_type": "display_data"
    },
    {
     "name": "stdout",
     "output_type": "stream",
     "text": [
      "Train on 57000 samples, validate on 3000 samples\n",
      "Epoch 1/64\n",
      "57000/57000 [==============================] - 0s 5us/step - loss: 0.1457 - accuracy: 0.9439 - val_loss: 0.0978 - val_accuracy: 0.9583\n",
      "Epoch 2/64\n",
      "57000/57000 [==============================] - 0s 5us/step - loss: 0.1383 - accuracy: 0.9468 - val_loss: 0.0963 - val_accuracy: 0.9637\n",
      "Epoch 3/64\n",
      "57000/57000 [==============================] - 0s 5us/step - loss: 0.1372 - accuracy: 0.9477 - val_loss: 0.1010 - val_accuracy: 0.9607\n",
      "Epoch 4/64\n",
      "57000/57000 [==============================] - 0s 5us/step - loss: 0.1458 - accuracy: 0.9441 - val_loss: 0.1012 - val_accuracy: 0.9607\n",
      "Epoch 5/64\n",
      "57000/57000 [==============================] - 0s 5us/step - loss: 0.1412 - accuracy: 0.9465 - val_loss: 0.1060 - val_accuracy: 0.9587\n",
      "Epoch 6/64\n",
      "57000/57000 [==============================] - 0s 5us/step - loss: 0.1412 - accuracy: 0.9455 - val_loss: 0.1016 - val_accuracy: 0.9607\n"
     ]
    },
    {
     "data": {
      "text/plain": [
       "17"
      ]
     },
     "metadata": {},
     "output_type": "display_data"
    },
    {
     "data": {
      "text/plain": [
       "(array([    0,     1,     2, ..., 59997, 59998, 59999]),\n",
       " array([   10,    39,    50, ..., 59966, 59969, 59974]))"
      ]
     },
     "metadata": {},
     "output_type": "display_data"
    },
    {
     "name": "stdout",
     "output_type": "stream",
     "text": [
      "Train on 57000 samples, validate on 3000 samples\n",
      "Epoch 1/64\n",
      "57000/57000 [==============================] - 0s 5us/step - loss: 0.1409 - accuracy: 0.9452 - val_loss: 0.0808 - val_accuracy: 0.9680\n",
      "Epoch 2/64\n",
      "57000/57000 [==============================] - 0s 5us/step - loss: 0.1431 - accuracy: 0.9452 - val_loss: 0.0783 - val_accuracy: 0.9720\n",
      "Epoch 3/64\n",
      "57000/57000 [==============================] - 0s 5us/step - loss: 0.1415 - accuracy: 0.9470 - val_loss: 0.0808 - val_accuracy: 0.9703\n",
      "Epoch 4/64\n",
      "57000/57000 [==============================] - 0s 5us/step - loss: 0.1372 - accuracy: 0.9484 - val_loss: 0.0794 - val_accuracy: 0.9717\n",
      "Epoch 5/64\n",
      "57000/57000 [==============================] - 0s 5us/step - loss: 0.1410 - accuracy: 0.9461 - val_loss: 0.0788 - val_accuracy: 0.9733\n",
      "Epoch 6/64\n",
      "57000/57000 [==============================] - 0s 5us/step - loss: 0.1402 - accuracy: 0.9456 - val_loss: 0.0808 - val_accuracy: 0.9713\n",
      "Epoch 7/64\n",
      "57000/57000 [==============================] - 0s 5us/step - loss: 0.1387 - accuracy: 0.9458 - val_loss: 0.0801 - val_accuracy: 0.9690\n"
     ]
    },
    {
     "data": {
      "text/plain": [
       "18"
      ]
     },
     "metadata": {},
     "output_type": "display_data"
    },
    {
     "data": {
      "text/plain": [
       "(array([    1,     2,     3, ..., 59996, 59998, 59999]),\n",
       " array([    0,    13,    25, ..., 59983, 59989, 59997]))"
      ]
     },
     "metadata": {},
     "output_type": "display_data"
    },
    {
     "name": "stdout",
     "output_type": "stream",
     "text": [
      "Train on 57000 samples, validate on 3000 samples\n",
      "Epoch 1/64\n",
      "57000/57000 [==============================] - 0s 6us/step - loss: 0.1395 - accuracy: 0.9457 - val_loss: 0.0770 - val_accuracy: 0.9767\n",
      "Epoch 2/64\n",
      "57000/57000 [==============================] - 0s 5us/step - loss: 0.1425 - accuracy: 0.9450 - val_loss: 0.0770 - val_accuracy: 0.9730\n",
      "Epoch 3/64\n",
      "57000/57000 [==============================] - 0s 5us/step - loss: 0.1379 - accuracy: 0.9474 - val_loss: 0.0745 - val_accuracy: 0.9773\n",
      "Epoch 4/64\n",
      "57000/57000 [==============================] - 0s 5us/step - loss: 0.1401 - accuracy: 0.9459 - val_loss: 0.0740 - val_accuracy: 0.9767\n",
      "Epoch 5/64\n",
      "57000/57000 [==============================] - 0s 5us/step - loss: 0.1384 - accuracy: 0.9468 - val_loss: 0.0830 - val_accuracy: 0.9740\n",
      "Epoch 6/64\n",
      "57000/57000 [==============================] - 0s 5us/step - loss: 0.1384 - accuracy: 0.9458 - val_loss: 0.0846 - val_accuracy: 0.9717\n"
     ]
    },
    {
     "data": {
      "text/plain": [
       "19"
      ]
     },
     "metadata": {},
     "output_type": "display_data"
    },
    {
     "data": {
      "text/plain": [
       "(array([    0,     1,     2, ..., 59997, 59998, 59999]),\n",
       " array([    7,    75,    98, ..., 59981, 59982, 59991]))"
      ]
     },
     "metadata": {},
     "output_type": "display_data"
    },
    {
     "name": "stdout",
     "output_type": "stream",
     "text": [
      "Train on 57000 samples, validate on 3000 samples\n",
      "Epoch 1/64\n",
      "57000/57000 [==============================] - 0s 5us/step - loss: 0.1376 - accuracy: 0.9468 - val_loss: 0.0872 - val_accuracy: 0.9687\n",
      "Epoch 2/64\n",
      "57000/57000 [==============================] - 0s 5us/step - loss: 0.1379 - accuracy: 0.9469 - val_loss: 0.0856 - val_accuracy: 0.9717\n",
      "Epoch 3/64\n",
      "57000/57000 [==============================] - 0s 5us/step - loss: 0.1384 - accuracy: 0.9467 - val_loss: 0.0860 - val_accuracy: 0.9697\n",
      "Epoch 4/64\n",
      "57000/57000 [==============================] - 0s 5us/step - loss: 0.1376 - accuracy: 0.9475 - val_loss: 0.0857 - val_accuracy: 0.9683\n",
      "Epoch 5/64\n",
      "57000/57000 [==============================] - 0s 5us/step - loss: 0.1390 - accuracy: 0.9464 - val_loss: 0.0902 - val_accuracy: 0.9660\n",
      "Epoch 6/64\n",
      "57000/57000 [==============================] - 0s 5us/step - loss: 0.1408 - accuracy: 0.9454 - val_loss: 0.0900 - val_accuracy: 0.9673\n",
      "Epoch 7/64\n",
      "57000/57000 [==============================] - 0s 5us/step - loss: 0.1371 - accuracy: 0.9473 - val_loss: 0.0914 - val_accuracy: 0.9667\n",
      "Epoch 8/64\n",
      "57000/57000 [==============================] - 0s 5us/step - loss: 0.1348 - accuracy: 0.9489 - val_loss: 0.0951 - val_accuracy: 0.9643\n",
      "Epoch 9/64\n",
      "57000/57000 [==============================] - 0s 5us/step - loss: 0.1353 - accuracy: 0.9485 - val_loss: 0.0959 - val_accuracy: 0.9647\n",
      "Epoch 10/64\n",
      "57000/57000 [==============================] - 0s 5us/step - loss: 0.1352 - accuracy: 0.9480 - val_loss: 0.0949 - val_accuracy: 0.9657\n",
      "Epoch 11/64\n",
      "57000/57000 [==============================] - 0s 6us/step - loss: 0.1367 - accuracy: 0.9479 - val_loss: 0.0979 - val_accuracy: 0.9637\n"
     ]
    }
   ],
   "source": [
    "from sklearn.preprocessing import StandardScaler,MinMaxScaler\n",
    "# x_train, x_valid, y_train, y_valid = train_test_split(x, y, test_size = 0.1)\n",
    "kf = KFold(n_splits=20,shuffle=True)\n",
    "batch_size = 2048\n",
    "callback = EarlyStopping(monitor='loss', patience=3)\n",
    "for j, train_test in enumerate(kf.split(x, y)):\n",
    "    display(j)\n",
    "    train_index, test_index = train_test\n",
    "    display(train_test)\n",
    "    x_train, x_valid = x[train_index], x[test_index]\n",
    "    y_train, y_valid = y[train_index], y[test_index]\n",
    "    y_train_categorical = to_categorical(y_train)\n",
    "    y_val_categorical = to_categorical(y_valid)\n",
    "    scaler = MinMaxScaler(feature_range=(0,1))\n",
    "    x_train = scaler.fit_transform(x_train.reshape(x_train.shape[0], -1)).reshape(x_train.shape)\n",
    "    x_valid = scaler.transform(x_valid.reshape(x_valid.shape[0], -1)).reshape(x_valid.shape)\n",
    "    model_single_layer.fit(x_train, \n",
    "                       y_train_categorical,\n",
    "                       epochs=64, batch_size=batch_size, \n",
    "                       verbose=1, \n",
    "                       validation_data = (x_valid, y_val_categorical),\n",
    "                       callbacks=[callback]\n",
    "                      )"
   ]
  },
  {
   "cell_type": "code",
   "execution_count": 11,
   "metadata": {
    "execution": {
     "iopub.execute_input": "2022-11-14T03:57:27.224030Z",
     "iopub.status.busy": "2022-11-14T03:57:27.223355Z",
     "iopub.status.idle": "2022-11-14T03:57:27.515946Z",
     "shell.execute_reply": "2022-11-14T03:57:27.516357Z",
     "shell.execute_reply.started": "2022-11-14T03:49:17.885876Z"
    },
    "papermill": {
     "duration": 0.692348,
     "end_time": "2022-11-14T03:57:27.516497",
     "exception": false,
     "start_time": "2022-11-14T03:57:26.824149",
     "status": "completed"
    },
    "tags": []
   },
   "outputs": [
    {
     "data": {
      "image/png": "[encoded data removed]",
      "text/plain": [
       "<Figure size 1440x432 with 2 Axes>"
      ]
     },
     "metadata": {
      "needs_background": "light"
     },
     "output_type": "display_data"
    }
   ],
   "source": [
    "f, (ax1, ax2) = plt.subplots(1, 2, figsize=(20,6))\n",
    "ax1.plot(model_single_layer.history.history['loss'], label='train')\n",
    "ax1.plot(model_single_layer.history.history['val_loss'], label='val')\n",
    "ax1.set_title('Loss - Cross Entropy')\n",
    "ax1.legend()\n",
    "ax2.plot(model_single_layer.history.history['accuracy'], label='train')\n",
    "ax2.plot(model_single_layer.history.history['val_accuracy'], label='val')\n",
    "ax2.set_title('Metric - Accuracy')\n",
    "ax2.legend()\n",
    "plt.show()"
   ]
  },
  {
   "cell_type": "code",
   "execution_count": 12,
   "metadata": {
    "execution": {
     "iopub.execute_input": "2022-11-14T03:57:28.315582Z",
     "iopub.status.busy": "2022-11-14T03:57:28.314589Z",
     "iopub.status.idle": "2022-11-14T03:57:28.472858Z",
     "shell.execute_reply": "2022-11-14T03:57:28.472236Z",
     "shell.execute_reply.started": "2022-11-14T03:49:18.145935Z"
    },
    "papermill": {
     "duration": 0.559043,
     "end_time": "2022-11-14T03:57:28.472966",
     "exception": false,
     "start_time": "2022-11-14T03:57:27.913923",
     "status": "completed"
    },
    "tags": []
   },
   "outputs": [
    {
     "name": "stdout",
     "output_type": "stream",
     "text": [
      "0.9636666774749756 0.09790080986420313\n"
     ]
    }
   ],
   "source": [
    "loss, acc = model_single_layer.evaluate(x_valid, y_val_categorical, verbose=0)\n",
    "print(acc, loss)"
   ]
  },
  {
   "cell_type": "code",
   "execution_count": 13,
   "metadata": {
    "execution": {
     "iopub.execute_input": "2022-11-14T03:57:29.272591Z",
     "iopub.status.busy": "2022-11-14T03:57:29.271713Z",
     "iopub.status.idle": "2022-11-14T03:57:29.601649Z",
     "shell.execute_reply": "2022-11-14T03:57:29.602654Z",
     "shell.execute_reply.started": "2022-11-14T03:49:18.315584Z"
    },
    "papermill": {
     "duration": 0.73357,
     "end_time": "2022-11-14T03:57:29.602841",
     "exception": false,
     "start_time": "2022-11-14T03:57:28.869271",
     "status": "completed"
    },
    "tags": []
   },
   "outputs": [
    {
     "name": "stdout",
     "output_type": "stream",
     "text": [
      "(10000, 10)\n"
     ]
    }
   ],
   "source": [
    "# Calculo probabilidades de cada clase para cada observación\n",
    "test_prediction = model_single_layer.predict(x_test)\n",
    "print(test_prediction.shape)"
   ]
  },
  {
   "cell_type": "code",
   "execution_count": 14,
   "metadata": {
    "execution": {
     "iopub.execute_input": "2022-11-14T03:57:30.442152Z",
     "iopub.status.busy": "2022-11-14T03:57:30.440958Z",
     "iopub.status.idle": "2022-11-14T03:57:30.444812Z",
     "shell.execute_reply": "2022-11-14T03:57:30.445425Z",
     "shell.execute_reply.started": "2022-11-14T03:49:18.661006Z"
    },
    "papermill": {
     "duration": 0.407615,
     "end_time": "2022-11-14T03:57:30.445590",
     "exception": false,
     "start_time": "2022-11-14T03:57:30.037975",
     "status": "completed"
    },
    "tags": []
   },
   "outputs": [
    {
     "name": "stdout",
     "output_type": "stream",
     "text": [
      "[3 2 7 ... 2 4 7]\n"
     ]
    }
   ],
   "source": [
    "# Calculo clase\n",
    "test_labels = np.argmax(test_prediction, axis = 1)\n",
    "print(test_labels)"
   ]
  },
  {
   "cell_type": "markdown",
   "metadata": {
    "papermill": {
     "duration": 0.394642,
     "end_time": "2022-11-14T03:57:31.241418",
     "exception": false,
     "start_time": "2022-11-14T03:57:30.846776",
     "status": "completed"
    },
    "tags": []
   },
   "source": [
    "# Armo CSV para submitear"
   ]
  },
  {
   "cell_type": "code",
   "execution_count": 15,
   "metadata": {
    "execution": {
     "iopub.execute_input": "2022-11-14T03:57:32.300746Z",
     "iopub.status.busy": "2022-11-14T03:57:32.300118Z",
     "iopub.status.idle": "2022-11-14T03:57:32.361080Z",
     "shell.execute_reply": "2022-11-14T03:57:32.360580Z",
     "shell.execute_reply.started": "2022-11-14T03:49:18.671141Z"
    },
    "papermill": {
     "duration": 0.568776,
     "end_time": "2022-11-14T03:57:32.361200",
     "exception": false,
     "start_time": "2022-11-14T03:57:31.792424",
     "status": "completed"
    },
    "tags": []
   },
   "outputs": [],
   "source": [
    "import pandas\n",
    "df = pandas.DataFrame(data={\"Category\": test_labels}).astype(int)\n",
    "df.to_csv(\"./submission.csv\", sep=',',index=True,  index_label='Id')"
   ]
  },
  {
   "cell_type": "code",
   "execution_count": null,
   "metadata": {
    "papermill": {
     "duration": 0.646259,
     "end_time": "2022-11-14T03:57:33.428414",
     "exception": false,
     "start_time": "2022-11-14T03:57:32.782155",
     "status": "completed"
    },
    "tags": []
   },
   "outputs": [],
   "source": []
  },
  {
   "cell_type": "code",
   "execution_count": null,
   "metadata": {
    "papermill": {
     "duration": 0.40819,
     "end_time": "2022-11-14T03:57:34.452415",
     "exception": false,
     "start_time": "2022-11-14T03:57:34.044225",
     "status": "completed"
    },
    "tags": []
   },
   "outputs": [],
   "source": []
  }
 ],
 "metadata": {
  "kernelspec": {
   "display_name": "Python 3",
   "language": "python",
   "name": "python3"
  },
  "language_info": {
   "codemirror_mode": {
    "name": "ipython",
    "version": 3
   },
   "file_extension": ".py",
   "mimetype": "text/x-python",
   "name": "python",
   "nbconvert_exporter": "python",
   "pygments_lexer": "ipython3",
   "version": "3.7.6"
  },
  "papermill": {
   "duration": 101.074402,
   "end_time": "2022-11-14T03:57:35.056100",
   "environment_variables": {},
   "exception": null,
   "input_path": "__notebook__.ipynb",
   "output_path": "__notebook__.ipynb",
   "parameters": {},
   "start_time": "2022-11-14T03:55:53.981698",
   "version": "2.1.0"
  }
 },
 "nbformat": 4,
 "nbformat_minor": 4
}
