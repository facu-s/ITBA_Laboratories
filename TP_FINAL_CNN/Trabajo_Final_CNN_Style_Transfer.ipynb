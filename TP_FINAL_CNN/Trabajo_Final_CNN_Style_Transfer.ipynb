{
  "nbformat": 4,
  "nbformat_minor": 0,
  "metadata": {
    "colab": {
      "provenance": []
    },
    "kernelspec": {
      "name": "python3",
      "display_name": "Python 3"
    },
    "accelerator": "GPU"
  },
  "cells": [
    {
      "cell_type": "markdown",
      "metadata": {
        "id": "qCY6UbkkI9_N"
      },
      "source": [
        "# Style Transfer\n",
        "\n",
        "<img src=\"https://i0.wp.com/chelseatroy.com/wp-content/uploads/2018/12/neural_style_transfer.png?resize=768%2C311&ssl=1\">\n",
        "\n",
        "La idea de este trabajo final es reproducir el siguiente paper:\n",
        "\n",
        "https://arxiv.org/pdf/1508.06576.pdf\n",
        "\n",
        "El objetivo es transferir el estilo de una imagen dada a otra imagen distinta. \n",
        "\n",
        "Como hemos visto en clase, las primeras capas de una red convolucional se activan ante la presencia de ciertos patrones vinculados a detalles muy pequeños.\n",
        "\n",
        "A medida que avanzamos en las distintas capas de una red neuronal convolucional, los filtros se van activando a medida que detectan patrones de formas cada vez mas complejos.\n",
        "\n",
        "Lo que propone este paper es asignarle a la activación de las primeras capas de una red neuronal convolucional (por ejemplo VGG19) la definición del estilo y a la activación de las últimas capas de la red neuronal convolucional, la definición del contenido.\n",
        "\n",
        "La idea de este paper es, a partir de dos imágenes (una que aporte el estilo y otra que aporte el contenido) analizar cómo es la activación de las primeras capas para la imagen que aporta el estilo y cómo es la activación de las últimas capas de la red convolucional para la imagen que aporta el contenido. A partir de esto se intentará sintetizar una imagen que active los filtros de las primeras capas que se activaron con la imagen que aporta el estilo y los filtros de las últimas capas que se activaron con la imagen que aporta el contenido.\n",
        "\n",
        "A este procedimiento se lo denomina neural style transfer.\n",
        "\n",
        "# En este trabajo se deberá leer el paper mencionado y en base a ello, entender la implementación que se muestra a continuación y contestar preguntas sobre la misma.\n",
        "\n",
        "# Una metodología posible es hacer una lectura rápida del paper (aunque esto signifique no entender algunos detalles del mismo) y luego ir analizando el código y respondiendo las preguntas. A medida que se planteen las preguntas, volviendo a leer secciones específicas del paper terminará de entender los detalles que pudieran haber quedado pendientes.\n",
        "\n",
        "Lo primero que haremos es cargar dos imágenes, una que aporte el estilo y otra que aporte el contenido. A tal fin utilizaremos imágenes disponibles en la web."
      ]
    },
    {
      "cell_type": "code",
      "metadata": {
        "id": "kyHsa2t0SxZi",
        "colab": {
          "base_uri": "https://localhost:8080/"
        },
        "outputId": "66e5884f-d5b9-4591-af78-be51b90dd270"
      },
      "source": [
        "%cd /content/\n",
        "# Imagen para estilo\n",
        "!wget https://upload.wikimedia.org/wikipedia/commons/5/52/La_noche_estrellada1.jpg\n",
        "!wget https://www.artmajeur.com/medias/standard/k/u/kujundzic/artwork/14969045_apstrakcija-jpg.jpg\n",
        "\n",
        "# Imagen para contenido\n",
        "!wget https://upload.wikimedia.org/wikipedia/commons/thumb/f/f4/Neckarfront_T%C3%BCbingen_Mai_2017.jpg/775px-Neckarfront_T%C3%BCbingen_Mai_2017.jpg\n",
        "!wget https://static.scientificamerican.com/sciam/cache/file/7A715AD8-449D-4B5A-ABA2C5D92D9B5A21_source.png\n",
        "\n",
        "# Creamos el directorio para los archivos de salida\n",
        "# !mkdir /content/output"
      ],
      "execution_count": 85,
      "outputs": [
        {
          "output_type": "stream",
          "name": "stdout",
          "text": [
            "/content\n",
            "--2023-02-26 21:48:11--  https://upload.wikimedia.org/wikipedia/commons/5/52/La_noche_estrellada1.jpg\n",
            "Resolving upload.wikimedia.org (upload.wikimedia.org)... 103.102.166.240, 2001:df2:e500:ed1a::2:b\n",
            "Connecting to upload.wikimedia.org (upload.wikimedia.org)|103.102.166.240|:443... connected.\n",
            "HTTP request sent, awaiting response... 200 OK\n",
            "Length: 223725 (218K) [image/jpeg]\n",
            "Saving to: ‘La_noche_estrellada1.jpg.1’\n",
            "\n",
            "La_noche_estrellada 100%[===================>] 218.48K  --.-KB/s    in 0.007s  \n",
            "\n",
            "2023-02-26 21:48:11 (30.3 MB/s) - ‘La_noche_estrellada1.jpg.1’ saved [223725/223725]\n",
            "\n",
            "--2023-02-26 21:48:11--  https://www.artmajeur.com/medias/standard/k/u/kujundzic/artwork/14969045_apstrakcija-jpg.jpg\n",
            "Resolving www.artmajeur.com (www.artmajeur.com)... 87.98.172.92\n",
            "Connecting to www.artmajeur.com (www.artmajeur.com)|87.98.172.92|:443... connected.\n",
            "HTTP request sent, awaiting response... 200 OK\n",
            "Length: 531975 (520K) [image/jpeg]\n",
            "Saving to: ‘14969045_apstrakcija-jpg.jpg’\n",
            "\n",
            "14969045_apstrakcij 100%[===================>] 519.51K   510KB/s    in 1.0s    \n",
            "\n",
            "2023-02-26 21:48:14 (510 KB/s) - ‘14969045_apstrakcija-jpg.jpg’ saved [531975/531975]\n",
            "\n",
            "--2023-02-26 21:48:14--  https://upload.wikimedia.org/wikipedia/commons/thumb/f/f4/Neckarfront_T%C3%BCbingen_Mai_2017.jpg/775px-Neckarfront_T%C3%BCbingen_Mai_2017.jpg\n",
            "Resolving upload.wikimedia.org (upload.wikimedia.org)... 103.102.166.240, 2001:df2:e500:ed1a::2:b\n",
            "Connecting to upload.wikimedia.org (upload.wikimedia.org)|103.102.166.240|:443... connected.\n",
            "HTTP request sent, awaiting response... 200 OK\n",
            "Length: 153015 (149K) [image/jpeg]\n",
            "Saving to: ‘775px-Neckarfront_Tübingen_Mai_2017.jpg.1’\n",
            "\n",
            "775px-Neckarfront_T 100%[===================>] 149.43K  --.-KB/s    in 0.005s  \n",
            "\n",
            "2023-02-26 21:48:14 (29.5 MB/s) - ‘775px-Neckarfront_Tübingen_Mai_2017.jpg.1’ saved [153015/153015]\n",
            "\n",
            "--2023-02-26 21:48:15--  https://static.scientificamerican.com/sciam/cache/file/7A715AD8-449D-4B5A-ABA2C5D92D9B5A21_source.png\n",
            "Resolving static.scientificamerican.com (static.scientificamerican.com)... 151.101.2.49, 151.101.66.49, 151.101.130.49, ...\n",
            "Connecting to static.scientificamerican.com (static.scientificamerican.com)|151.101.2.49|:443... connected.\n",
            "HTTP request sent, awaiting response... 200 OK\n",
            "Length: 4396841 (4.2M) [image/png]\n",
            "Saving to: ‘7A715AD8-449D-4B5A-ABA2C5D92D9B5A21_source.png’\n",
            "\n",
            "7A715AD8-449D-4B5A- 100%[===================>]   4.19M  --.-KB/s    in 0.02s   \n",
            "\n",
            "2023-02-26 21:48:15 (273 MB/s) - ‘7A715AD8-449D-4B5A-ABA2C5D92D9B5A21_source.png’ saved [4396841/4396841]\n",
            "\n"
          ]
        }
      ]
    },
    {
      "cell_type": "code",
      "metadata": {
        "id": "NIxH20o2eFoc"
      },
      "source": [
        "import tensorflow as tf\n",
        "tf.compat.v1.disable_eager_execution()\n",
        "from tensorflow.keras.preprocessing.image import load_img, save_img, img_to_array\n",
        "import numpy as np\n",
        "from scipy.optimize import fmin_l_bfgs_b\n",
        "import time\n",
        "import argparse\n",
        "\n",
        "from tensorflow.keras.applications import vgg19\n",
        "from tensorflow.keras import backend as K\n",
        "from pathlib import Path"
      ],
      "execution_count": 86,
      "outputs": []
    },
    {
      "cell_type": "code",
      "metadata": {
        "id": "iLkV1bnFl_tK",
        "colab": {
          "base_uri": "https://localhost:8080/"
        },
        "outputId": "35ac8c12-4149-4b24-9a6d-79796076c9f9"
      },
      "source": [
        "# Definimos las imagenes que vamos a utilizar, y el directorio de salida\n",
        "\n",
        "# base_image_path = Path(\"/content/775px-Neckarfront_Tübingen_Mai_2017.jpg\")\n",
        "base_image_path = Path(\"/content/7A715AD8-449D-4B5A-ABA2C5D92D9B5A21_source.png\")\n",
        "# style_reference_image_path = Path(\"/content/La_noche_estrellada1.jpg\")\n",
        "style_reference_image_path = Path(\"/content/14969045_apstrakcija-jpg.jpg\")\n",
        "from google.colab import drive\n",
        "drive.mount('/content/drive')\n",
        "%cd /content/drive/MyDrive/'Colab Notebooks'/itba/CNN/TP_Final\n",
        "result_prefix = Path(\"./tests/\")\n",
        "iterations = 100"
      ],
      "execution_count": 87,
      "outputs": [
        {
          "output_type": "stream",
          "name": "stdout",
          "text": [
            "Drive already mounted at /content/drive; to attempt to forcibly remount, call drive.mount(\"/content/drive\", force_remount=True).\n",
            "/content/drive/MyDrive/Colab Notebooks/itba/CNN/TP_Final\n"
          ]
        }
      ]
    },
    {
      "cell_type": "markdown",
      "metadata": {
        "id": "Gz2PeGfpeYzj"
      },
      "source": [
        "# 1) En base a lo visto en el paper ¿Qué significan los parámetros definidos en la siguiente celda?\n",
        "\n",
        "Respuesta:\n",
        "\n",
        "**total_variation_weight**: Es un parámetro de regularización que sirve para reforzar el filtro de ruido que se aplica a la imagen.\n",
        "\n",
        "**style_weight**: Este parámetro puede identificarse como el beta de la función de costo que va a determinar cuánta injerencia va a tener el estilo de la imagen utilizada para extraer el estilo sobre la imagen generada.\n",
        "\n",
        "**content_weight**: Este parámetro puede identificarse como el alpha de la función de costo que va a determinar cuánta injerencia va a tener el contenido de la imagen original sobre la imagen generada."
      ]
    },
    {
      "cell_type": "code",
      "metadata": {
        "id": "P9Dt3aaEmJWS"
      },
      "source": [
        "total_variation_weight = 1\n",
        "style_weight = 10\n",
        "content_weight = 1"
      ],
      "execution_count": 88,
      "outputs": []
    },
    {
      "cell_type": "code",
      "metadata": {
        "id": "CQQJOhCVuse6"
      },
      "source": [
        "# Definimos el tamaño de las imágenes a utilizar\n",
        "width, height = load_img(base_image_path).size\n",
        "img_nrows = 400\n",
        "img_ncols = int(width * img_nrows / height)"
      ],
      "execution_count": 89,
      "outputs": []
    },
    {
      "cell_type": "markdown",
      "metadata": {
        "id": "gg2ct-8agm1E"
      },
      "source": [
        "# 2) Explicar qué hace la siguiente celda. En especial las últimas dos líneas de la función antes del return. ¿Por qué?\n",
        "\n",
        "Ayuda: https://keras.io/applications/\n",
        "\n",
        "Respuesta:\n",
        "\n",
        "La siguiente celda primero toma el path de la imagen que queremos preprocesar, luego convierte la imagen a un array del formato PIL, luego del array generado hace una expansión de las dimensiones para llevarlo a un formato que el vgg19.preprocess_input pueda aceptar. Finalmente como dice la documentación la función vgg19.preprocess_input  convertirá la imagen de entrada de RGB a BGR, y luego centrara en 0 cada color del canal con respecto al dataset de ImagNet, sin ecalarla. Esto es debido a que para entrar al modelo la imagen tiene que cumplir con ciertos requisitos."
      ]
    },
    {
      "cell_type": "code",
      "metadata": {
        "id": "tAkljg4zuzYd"
      },
      "source": [
        "def preprocess_image(image_path):\n",
        "    img = load_img(image_path, target_size=(img_nrows, img_ncols))\n",
        "    img = img_to_array(img)\n",
        "    img = np.expand_dims(img, axis=0)\n",
        "    img = vgg19.preprocess_input(img)\n",
        "    return img"
      ],
      "execution_count": 90,
      "outputs": []
    },
    {
      "cell_type": "markdown",
      "metadata": {
        "id": "KTf0YDSagt10"
      },
      "source": [
        "# 3) Habiendo comprendido lo que hace la celda anterior, explique de manera muy concisa qué hace la siguiente celda. ¿Qué relación tiene con la celda anterior?\n",
        "\n",
        "Respuesta:\n",
        "\n",
        "La siguiente celda realiza la operación inversa a las transformaciones aplicadas en la función anterior, pero en vez de aplicar funciones, lo realiza de forma manual. Primero realiza un reshape sobre la imagen x, convirtiendo dicha imagen a un formato (img_nrows, img_ncols, 3), luego vuelve a establecer el offset aplicado con respecto al cero según la media de cada pixel, y finalmente convierte a x de un formato BGR a uno RGB."
      ]
    },
    {
      "cell_type": "code",
      "metadata": {
        "id": "y5LaTrsAu14z"
      },
      "source": [
        "def deprocess_image(x):\n",
        "    x = x.reshape((img_nrows, img_ncols, 3))\n",
        "    # Remove zero-center by mean pixel\n",
        "    x[:, :, 0] += 103.939\n",
        "    x[:, :, 1] += 116.779\n",
        "    x[:, :, 2] += 123.68\n",
        "    # 'BGR'->'RGB'\n",
        "    x = x[:, :, ::-1]\n",
        "    x = np.clip(x, 0, 255).astype('uint8')\n",
        "    return x"
      ],
      "execution_count": 91,
      "outputs": []
    },
    {
      "cell_type": "code",
      "metadata": {
        "id": "HYNio09mu4S3"
      },
      "source": [
        "# get tensor representations of our images\n",
        "# K.variable convierte un numpy array en un tensor, para \n",
        "base_image = K.variable(preprocess_image(base_image_path))\n",
        "style_reference_image = K.variable(preprocess_image(style_reference_image_path))"
      ],
      "execution_count": 92,
      "outputs": []
    },
    {
      "cell_type": "code",
      "metadata": {
        "id": "a1Lbw02Uu--o"
      },
      "source": [
        "combination_image = K.placeholder((1, img_nrows, img_ncols, 3))"
      ],
      "execution_count": 93,
      "outputs": []
    },
    {
      "cell_type": "markdown",
      "metadata": {
        "id": "RJEi0YI3Uzrm"
      },
      "source": [
        "Aclaración:\n",
        "\n",
        "La siguiente celda sirve para procesar las tres imagenes (contenido, estilo y salida) en un solo batch."
      ]
    },
    {
      "cell_type": "code",
      "metadata": {
        "id": "gGO_jGFfvEbF"
      },
      "source": [
        "# combine the 3 images into a single Keras tensor\n",
        "input_tensor = K.concatenate([base_image,\n",
        "                              style_reference_image,\n",
        "                              combination_image], axis=0)"
      ],
      "execution_count": 94,
      "outputs": []
    },
    {
      "cell_type": "code",
      "metadata": {
        "id": "tdG59VRavHGB",
        "colab": {
          "base_uri": "https://localhost:8080/"
        },
        "outputId": "92fa7d16-8edb-4ee5-8c7c-90586db9c944"
      },
      "source": [
        "# build the VGG19 network with our 3 images as input\n",
        "# the model will be loaded with pre-trained ImageNet weights\n",
        "model = vgg19.VGG19(input_tensor=input_tensor,\n",
        "                    weights='imagenet', include_top=False)\n",
        "print('Model loaded.')\n",
        "\n",
        "# get the symbolic outputs of each \"key\" layer (we gave them unique names).\n",
        "outputs_dict = dict([(layer.name, layer.output) for layer in model.layers])"
      ],
      "execution_count": 95,
      "outputs": [
        {
          "output_type": "stream",
          "name": "stdout",
          "text": [
            "Model loaded.\n"
          ]
        }
      ]
    },
    {
      "cell_type": "markdown",
      "metadata": {
        "id": "70-vs_jZkKVc"
      },
      "source": [
        "# 4) En la siguientes celdas:\n",
        "\n",
        "- ¿Qué es la matriz de Gram?¿Para qué se usa?\n",
        "\n",
        "La matriz de Gram es el producto interno entre el mapa de features vectorizado con su transpuesto para cada una de las layers. Y se utiliza para poder realizar la correlación entre cada uno de los filtros de cada layer. Posteriormente esta información se utiliza para extraer la textura o estilo de la imagen de referencia, mediante la minimización del MSE de la matriz de Gram de la imagen generada y la matriz de Gram de la imagen de referencia.\n",
        "\n",
        "- ¿Por qué se permutan las dimensiones de x?\n",
        "\n",
        "Las dimensiones de x se deben permutar para poder hacer la vectorización de los mapas de características en el orden adecuado."
      ]
    },
    {
      "cell_type": "code",
      "metadata": {
        "id": "K1FODPATvJ1k"
      },
      "source": [
        "def gram_matrix(x):\n",
        "    features = K.batch_flatten(K.permute_dimensions(x, (2, 0, 1)))\n",
        "    gram = K.dot(features, K.transpose(features))\n",
        "    return gram"
      ],
      "execution_count": 96,
      "outputs": []
    },
    {
      "cell_type": "markdown",
      "metadata": {
        "id": "vBQkKFY0Rbx-"
      },
      "source": [
        "# 5) Losses:\n",
        "\n",
        "Explicar qué mide cada una de las losses en las siguientes tres celdas.\n",
        "\n",
        "Respuesta:\n",
        "\n",
        "**style_loss:** La style_loss mide la mean squared distance entre las gramm matrix de la imagen de referencia y la imagen generada. Se utiliza para ir igualando los filtros que definen la textura de la imagen generada con la imagen de referencia.\n",
        "\n",
        "**content_loss:** La content_loss se utiliza para ir replicando el contenido de la imagen original en la imagen generada. Y se va midiendo mediante la suma del error cuadrático.\n",
        "\n",
        "**total_variation_loss:** La total variation loss funciona como un filtro de ruido de la imagen. Se utiliza sobre todo en procesamiento de imágenes y se controla mediante un parámetro de regularización.\n"
      ]
    },
    {
      "cell_type": "code",
      "metadata": {
        "id": "1-Gt0ahWvN6q"
      },
      "source": [
        "def style_loss(style, combination):\n",
        "    assert K.ndim(style) == 3\n",
        "    assert K.ndim(combination) == 3\n",
        "    S = gram_matrix(style)\n",
        "    C = gram_matrix(combination)\n",
        "    channels = 3\n",
        "    size = img_nrows * img_ncols\n",
        "    return K.sum(K.square(S - C)) / (4.0 * (channels ** 2) * (size ** 2))"
      ],
      "execution_count": 97,
      "outputs": []
    },
    {
      "cell_type": "code",
      "metadata": {
        "id": "XCqnju5RvQCo"
      },
      "source": [
        "def content_loss(base, combination):\n",
        "    return K.sum(K.square(combination - base))\n"
      ],
      "execution_count": 98,
      "outputs": []
    },
    {
      "cell_type": "code",
      "metadata": {
        "id": "udEp5h31vRnY"
      },
      "source": [
        "def total_variation_loss(x):\n",
        "    assert K.ndim(x) == 4\n",
        "    a = K.square(\n",
        "        x[:, :img_nrows - 1, :img_ncols - 1, :] - x[:, 1:, :img_ncols - 1, :])\n",
        "    b = K.square(\n",
        "        x[:, :img_nrows - 1, :img_ncols - 1, :] - x[:, :img_nrows - 1, 1:, :])\n",
        "    return K.sum(K.pow(a + b, 1.25))\n"
      ],
      "execution_count": 99,
      "outputs": []
    },
    {
      "cell_type": "code",
      "metadata": {
        "id": "-65vcinbvTZ0"
      },
      "source": [
        "# Armamos la loss total\n",
        "loss = K.variable(0.0)\n",
        "layer_features = outputs_dict['block5_conv2']\n",
        "base_image_features = layer_features[0, :, :, :]\n",
        "combination_features = layer_features[2, :, :, :]\n",
        "loss = loss + content_weight * content_loss(base_image_features,\n",
        "                                            combination_features)\n",
        "\n",
        "feature_layers = ['block1_conv1', 'block2_conv1',\n",
        "                  'block3_conv1', 'block4_conv1',\n",
        "                  'block5_conv1']\n",
        "for layer_name in feature_layers:\n",
        "    layer_features = outputs_dict[layer_name]\n",
        "    style_reference_features = layer_features[1, :, :, :] \n",
        "    combination_features = layer_features[2, :, :, :]\n",
        "    sl = style_loss(style_reference_features, combination_features)\n",
        "    loss = loss + (style_weight / len(feature_layers)) * sl\n",
        "loss = loss + total_variation_weight * total_variation_loss(combination_image)"
      ],
      "execution_count": 100,
      "outputs": []
    },
    {
      "cell_type": "code",
      "metadata": {
        "id": "pbz4n1OhvV2K"
      },
      "source": [
        "grads = K.gradients(loss, combination_image)\n",
        "\n",
        "outputs = [loss]\n",
        "if isinstance(grads, (list, tuple)):\n",
        "    outputs += grads\n",
        "else:\n",
        "    outputs.append(grads)\n",
        "\n",
        "f_outputs = K.function([combination_image], outputs)"
      ],
      "execution_count": 101,
      "outputs": []
    },
    {
      "cell_type": "markdown",
      "metadata": {
        "id": "1JbydbOaVcvU"
      },
      "source": [
        "# 6) Explique el propósito de las siguientes tres celdas. ¿Qué hace la función fmin_l_bfgs_b? ¿En qué se diferencia con la implementación del paper? ¿Se puede utilizar alguna alternativa?\n",
        "\n",
        "Respuesta:\n",
        "\n",
        "La primera celda es la definición de la función eval_loss_and_grads, dicha función obtiene los valores de la loss y los gradientes con respecto a los pesos actuales con que cuenta la red.\n",
        "\n",
        "La siguiente celda es la clase Evaluator, que se utiliza para poder calcular el gradiente y la loss en simultáneo en una sola iteración, de forma de poder pasar dichos valores a la función optimize de scipy.\n",
        "\n",
        "Y la última celda corresponde al entrenamiento propiamente dicho, donde los pesos del modelo se van actualizando a medida que la función de optimización encuentra la mínima loss.\n",
        "\n",
        "La función fmin_l_bfgs_b es la función de optimización, permite obtener el mínimo de la función utilizando una cantidad limitada de memoria, y solo le hace falta su función y su gradiente. Se diferencia con el paper debido a que en él se plantea el uso del clásico ajuste por SGD.\n",
        "\n",
        "Una alternativa sería utilizar dicho método, o tal vez alguno de los aprendidos durante el curso."
      ]
    },
    {
      "cell_type": "code",
      "metadata": {
        "id": "zVE1_qemvZeN"
      },
      "source": [
        "def eval_loss_and_grads(x):\n",
        "    x = x.reshape((1, img_nrows, img_ncols, 3))\n",
        "    outs = f_outputs([x])\n",
        "    loss_value = outs[0]\n",
        "    if len(outs[1:]) == 1:\n",
        "        grad_values = outs[1].flatten().astype('float64')\n",
        "    else:\n",
        "        grad_values = np.array(outs[1:]).flatten().astype('float64')\n",
        "    return loss_value, grad_values\n",
        "\n",
        "# this Evaluator class makes it possible\n",
        "# to compute loss and gradients in one pass\n",
        "# while retrieving them via two separate functions,\n",
        "# \"loss\" and \"grads\". This is done because scipy.optimize\n",
        "# requires separate functions for loss and gradients,\n",
        "# but computing them separately would be inefficient."
      ],
      "execution_count": 102,
      "outputs": []
    },
    {
      "cell_type": "code",
      "metadata": {
        "id": "Qbl9roIgvdb1"
      },
      "source": [
        "class Evaluator(object):\n",
        "\n",
        "    def __init__(self):\n",
        "        self.loss_value = None\n",
        "        self.grads_values = None\n",
        "\n",
        "    def loss(self, x):\n",
        "        assert self.loss_value is None\n",
        "        loss_value, grad_values = eval_loss_and_grads(x)\n",
        "        self.loss_value = loss_value\n",
        "        self.grad_values = grad_values\n",
        "        return self.loss_value\n",
        "\n",
        "    def grads(self, x):\n",
        "        assert self.loss_value is not None\n",
        "        grad_values = np.copy(self.grad_values)\n",
        "        self.loss_value = None\n",
        "        self.grad_values = None\n",
        "        return grad_values"
      ],
      "execution_count": 103,
      "outputs": []
    },
    {
      "cell_type": "markdown",
      "metadata": {
        "id": "Sb0yOEl-WOE6"
      },
      "source": [
        "# 7) Ejecute la siguiente celda y observe las imágenes de salida en cada iteración."
      ]
    },
    {
      "cell_type": "code",
      "metadata": {
        "id": "n31YBwCVvhAI",
        "colab": {
          "base_uri": "https://localhost:8080/"
        },
        "outputId": "5528dc6d-9a98-415c-e6cc-550e8a6121a0"
      },
      "source": [
        "evaluator = Evaluator()\n",
        "\n",
        "# run scipy-based optimization (L-BFGS) over the pixels of the generated image\n",
        "# so as to minimize the neural style loss\n",
        "x = preprocess_image(base_image_path)\n",
        "\n",
        "for i in range(iterations):\n",
        "    print('Start of iteration', i)\n",
        "    start_time = time.time()\n",
        "    x, min_val, info = fmin_l_bfgs_b(evaluator.loss, x.flatten(),\n",
        "                                     fprime=evaluator.grads, maxfun=20)\n",
        "    print('Current loss value:', min_val)\n",
        "    # save current generated image\n",
        "    img = deprocess_image(x.copy())\n",
        "    fname = result_prefix / ('output_at_iteration_%d.png' % i)\n",
        "    save_img(fname, img)\n",
        "    end_time = time.time()\n",
        "    print('Image saved as', fname)\n",
        "    print('Iteration %d completed in %ds' % (i, end_time - start_time))"
      ],
      "execution_count": 104,
      "outputs": [
        {
          "output_type": "stream",
          "name": "stdout",
          "text": [
            "Start of iteration 0\n",
            "Current loss value: 121146606000.0\n",
            "Image saved as tests/output_at_iteration_0.png\n",
            "Iteration 0 completed in 11s\n",
            "Start of iteration 1\n",
            "Current loss value: 49298256000.0\n",
            "Image saved as tests/output_at_iteration_1.png\n",
            "Iteration 1 completed in 7s\n",
            "Start of iteration 2\n",
            "Current loss value: 37382038000.0\n",
            "Image saved as tests/output_at_iteration_2.png\n",
            "Iteration 2 completed in 7s\n",
            "Start of iteration 3\n",
            "Current loss value: 32778525000.0\n",
            "Image saved as tests/output_at_iteration_3.png\n",
            "Iteration 3 completed in 7s\n",
            "Start of iteration 4\n",
            "Current loss value: 30146679000.0\n",
            "Image saved as tests/output_at_iteration_4.png\n",
            "Iteration 4 completed in 7s\n",
            "Start of iteration 5\n",
            "Current loss value: 26925343000.0\n",
            "Image saved as tests/output_at_iteration_5.png\n",
            "Iteration 5 completed in 7s\n",
            "Start of iteration 6\n",
            "Current loss value: 25017651000.0\n",
            "Image saved as tests/output_at_iteration_6.png\n",
            "Iteration 6 completed in 8s\n",
            "Start of iteration 7\n",
            "Current loss value: 23662627000.0\n",
            "Image saved as tests/output_at_iteration_7.png\n",
            "Iteration 7 completed in 7s\n",
            "Start of iteration 8\n",
            "Current loss value: 22822800000.0\n",
            "Image saved as tests/output_at_iteration_8.png\n",
            "Iteration 8 completed in 7s\n",
            "Start of iteration 9\n",
            "Current loss value: 22224757000.0\n",
            "Image saved as tests/output_at_iteration_9.png\n",
            "Iteration 9 completed in 8s\n",
            "Start of iteration 10\n",
            "Current loss value: 21741961000.0\n",
            "Image saved as tests/output_at_iteration_10.png\n",
            "Iteration 10 completed in 8s\n",
            "Start of iteration 11\n",
            "Current loss value: 20925016000.0\n",
            "Image saved as tests/output_at_iteration_11.png\n",
            "Iteration 11 completed in 8s\n",
            "Start of iteration 12\n",
            "Current loss value: 20484411000.0\n",
            "Image saved as tests/output_at_iteration_12.png\n",
            "Iteration 12 completed in 7s\n",
            "Start of iteration 13\n",
            "Current loss value: 20112847000.0\n",
            "Image saved as tests/output_at_iteration_13.png\n",
            "Iteration 13 completed in 8s\n",
            "Start of iteration 14\n",
            "Current loss value: 19757513000.0\n",
            "Image saved as tests/output_at_iteration_14.png\n",
            "Iteration 14 completed in 7s\n",
            "Start of iteration 15\n",
            "Current loss value: 19451250000.0\n",
            "Image saved as tests/output_at_iteration_15.png\n",
            "Iteration 15 completed in 8s\n",
            "Start of iteration 16\n",
            "Current loss value: 19193303000.0\n",
            "Image saved as tests/output_at_iteration_16.png\n",
            "Iteration 16 completed in 8s\n",
            "Start of iteration 17\n",
            "Current loss value: 19022946000.0\n",
            "Image saved as tests/output_at_iteration_17.png\n",
            "Iteration 17 completed in 7s\n",
            "Start of iteration 18\n",
            "Current loss value: 18881466000.0\n",
            "Image saved as tests/output_at_iteration_18.png\n",
            "Iteration 18 completed in 8s\n",
            "Start of iteration 19\n",
            "Current loss value: 18712500000.0\n",
            "Image saved as tests/output_at_iteration_19.png\n",
            "Iteration 19 completed in 8s\n",
            "Start of iteration 20\n",
            "Current loss value: 18571125000.0\n",
            "Image saved as tests/output_at_iteration_20.png\n",
            "Iteration 20 completed in 8s\n",
            "Start of iteration 21\n",
            "Current loss value: 18301491000.0\n",
            "Image saved as tests/output_at_iteration_21.png\n",
            "Iteration 21 completed in 7s\n",
            "Start of iteration 22\n",
            "Current loss value: 17997836000.0\n",
            "Image saved as tests/output_at_iteration_22.png\n",
            "Iteration 22 completed in 7s\n",
            "Start of iteration 23\n",
            "Current loss value: 17856545000.0\n",
            "Image saved as tests/output_at_iteration_23.png\n",
            "Iteration 23 completed in 8s\n",
            "Start of iteration 24\n",
            "Current loss value: 17738842000.0\n",
            "Image saved as tests/output_at_iteration_24.png\n",
            "Iteration 24 completed in 7s\n",
            "Start of iteration 25\n",
            "Current loss value: 17623484000.0\n",
            "Image saved as tests/output_at_iteration_25.png\n",
            "Iteration 25 completed in 8s\n",
            "Start of iteration 26\n",
            "Current loss value: 17514865000.0\n",
            "Image saved as tests/output_at_iteration_26.png\n",
            "Iteration 26 completed in 7s\n",
            "Start of iteration 27\n",
            "Current loss value: 17361844000.0\n",
            "Image saved as tests/output_at_iteration_27.png\n",
            "Iteration 27 completed in 8s\n",
            "Start of iteration 28\n",
            "Current loss value: 17237850000.0\n",
            "Image saved as tests/output_at_iteration_28.png\n",
            "Iteration 28 completed in 8s\n",
            "Start of iteration 29\n",
            "Current loss value: 17143545000.0\n",
            "Image saved as tests/output_at_iteration_29.png\n",
            "Iteration 29 completed in 7s\n",
            "Start of iteration 30\n",
            "Current loss value: 17058759000.0\n",
            "Image saved as tests/output_at_iteration_30.png\n",
            "Iteration 30 completed in 7s\n",
            "Start of iteration 31\n",
            "Current loss value: 17003222000.0\n",
            "Image saved as tests/output_at_iteration_31.png\n",
            "Iteration 31 completed in 7s\n",
            "Start of iteration 32\n",
            "Current loss value: 16949674000.0\n",
            "Image saved as tests/output_at_iteration_32.png\n",
            "Iteration 32 completed in 8s\n",
            "Start of iteration 33\n",
            "Current loss value: 16896512000.0\n",
            "Image saved as tests/output_at_iteration_33.png\n",
            "Iteration 33 completed in 8s\n",
            "Start of iteration 34\n",
            "Current loss value: 16848766000.0\n",
            "Image saved as tests/output_at_iteration_34.png\n",
            "Iteration 34 completed in 7s\n",
            "Start of iteration 35\n",
            "Current loss value: 16796914000.0\n",
            "Image saved as tests/output_at_iteration_35.png\n",
            "Iteration 35 completed in 8s\n",
            "Start of iteration 36\n",
            "Current loss value: 16751051000.0\n",
            "Image saved as tests/output_at_iteration_36.png\n",
            "Iteration 36 completed in 7s\n",
            "Start of iteration 37\n",
            "Current loss value: 16699718000.0\n",
            "Image saved as tests/output_at_iteration_37.png\n",
            "Iteration 37 completed in 8s\n",
            "Start of iteration 38\n",
            "Current loss value: 16634512000.0\n",
            "Image saved as tests/output_at_iteration_38.png\n",
            "Iteration 38 completed in 7s\n",
            "Start of iteration 39\n",
            "Current loss value: 16585498000.0\n",
            "Image saved as tests/output_at_iteration_39.png\n",
            "Iteration 39 completed in 8s\n",
            "Start of iteration 40\n",
            "Current loss value: 16531777000.0\n",
            "Image saved as tests/output_at_iteration_40.png\n",
            "Iteration 40 completed in 8s\n",
            "Start of iteration 41\n",
            "Current loss value: 16473535000.0\n",
            "Image saved as tests/output_at_iteration_41.png\n",
            "Iteration 41 completed in 7s\n",
            "Start of iteration 42\n",
            "Current loss value: 16422130000.0\n",
            "Image saved as tests/output_at_iteration_42.png\n",
            "Iteration 42 completed in 8s\n",
            "Start of iteration 43\n",
            "Current loss value: 16374577000.0\n",
            "Image saved as tests/output_at_iteration_43.png\n",
            "Iteration 43 completed in 7s\n",
            "Start of iteration 44\n",
            "Current loss value: 16330273000.0\n",
            "Image saved as tests/output_at_iteration_44.png\n",
            "Iteration 44 completed in 8s\n",
            "Start of iteration 45\n",
            "Current loss value: 16292219000.0\n",
            "Image saved as tests/output_at_iteration_45.png\n",
            "Iteration 45 completed in 8s\n",
            "Start of iteration 46\n",
            "Current loss value: 16253710000.0\n",
            "Image saved as tests/output_at_iteration_46.png\n",
            "Iteration 46 completed in 8s\n",
            "Start of iteration 47\n",
            "Current loss value: 16200489000.0\n",
            "Image saved as tests/output_at_iteration_47.png\n",
            "Iteration 47 completed in 8s\n",
            "Start of iteration 48\n",
            "Current loss value: 16150698000.0\n",
            "Image saved as tests/output_at_iteration_48.png\n",
            "Iteration 48 completed in 7s\n",
            "Start of iteration 49\n",
            "Current loss value: 16101091000.0\n",
            "Image saved as tests/output_at_iteration_49.png\n",
            "Iteration 49 completed in 8s\n",
            "Start of iteration 50\n",
            "Current loss value: 16060605000.0\n",
            "Image saved as tests/output_at_iteration_50.png\n",
            "Iteration 50 completed in 7s\n",
            "Start of iteration 51\n",
            "Current loss value: 15997590000.0\n",
            "Image saved as tests/output_at_iteration_51.png\n",
            "Iteration 51 completed in 9s\n",
            "Start of iteration 52\n",
            "Current loss value: 15938090000.0\n",
            "Image saved as tests/output_at_iteration_52.png\n",
            "Iteration 52 completed in 8s\n",
            "Start of iteration 53\n",
            "Current loss value: 15905060000.0\n",
            "Image saved as tests/output_at_iteration_53.png\n",
            "Iteration 53 completed in 7s\n",
            "Start of iteration 54\n",
            "Current loss value: 15870913000.0\n",
            "Image saved as tests/output_at_iteration_54.png\n",
            "Iteration 54 completed in 8s\n",
            "Start of iteration 55\n",
            "Current loss value: 15842466000.0\n",
            "Image saved as tests/output_at_iteration_55.png\n",
            "Iteration 55 completed in 7s\n",
            "Start of iteration 56\n",
            "Current loss value: 15814510000.0\n",
            "Image saved as tests/output_at_iteration_56.png\n",
            "Iteration 56 completed in 8s\n",
            "Start of iteration 57\n",
            "Current loss value: 15790936000.0\n",
            "Image saved as tests/output_at_iteration_57.png\n",
            "Iteration 57 completed in 7s\n",
            "Start of iteration 58\n",
            "Current loss value: 15765055000.0\n",
            "Image saved as tests/output_at_iteration_58.png\n",
            "Iteration 58 completed in 8s\n",
            "Start of iteration 59\n",
            "Current loss value: 15722173000.0\n",
            "Image saved as tests/output_at_iteration_59.png\n",
            "Iteration 59 completed in 8s\n",
            "Start of iteration 60\n",
            "Current loss value: 15685349000.0\n",
            "Image saved as tests/output_at_iteration_60.png\n",
            "Iteration 60 completed in 7s\n",
            "Start of iteration 61\n",
            "Current loss value: 15660856000.0\n",
            "Image saved as tests/output_at_iteration_61.png\n",
            "Iteration 61 completed in 8s\n",
            "Start of iteration 62\n",
            "Current loss value: 15637185000.0\n",
            "Image saved as tests/output_at_iteration_62.png\n",
            "Iteration 62 completed in 7s\n",
            "Start of iteration 63\n",
            "Current loss value: 15619176000.0\n",
            "Image saved as tests/output_at_iteration_63.png\n",
            "Iteration 63 completed in 8s\n",
            "Start of iteration 64\n",
            "Current loss value: 15595471000.0\n",
            "Image saved as tests/output_at_iteration_64.png\n",
            "Iteration 64 completed in 8s\n",
            "Start of iteration 65\n",
            "Current loss value: 15573675000.0\n",
            "Image saved as tests/output_at_iteration_65.png\n",
            "Iteration 65 completed in 7s\n",
            "Start of iteration 66\n",
            "Current loss value: 15555881000.0\n",
            "Image saved as tests/output_at_iteration_66.png\n",
            "Iteration 66 completed in 8s\n",
            "Start of iteration 67\n",
            "Current loss value: 15539388000.0\n",
            "Image saved as tests/output_at_iteration_67.png\n",
            "Iteration 67 completed in 7s\n",
            "Start of iteration 68\n",
            "Current loss value: 15519855000.0\n",
            "Image saved as tests/output_at_iteration_68.png\n",
            "Iteration 68 completed in 7s\n",
            "Start of iteration 69\n",
            "Current loss value: 15496385000.0\n",
            "Image saved as tests/output_at_iteration_69.png\n",
            "Iteration 69 completed in 7s\n",
            "Start of iteration 70\n",
            "Current loss value: 15477408000.0\n",
            "Image saved as tests/output_at_iteration_70.png\n",
            "Iteration 70 completed in 8s\n",
            "Start of iteration 71\n",
            "Current loss value: 15457604000.0\n",
            "Image saved as tests/output_at_iteration_71.png\n",
            "Iteration 71 completed in 8s\n",
            "Start of iteration 72\n",
            "Current loss value: 15440135000.0\n",
            "Image saved as tests/output_at_iteration_72.png\n",
            "Iteration 72 completed in 7s\n",
            "Start of iteration 73\n",
            "Current loss value: 15423327000.0\n",
            "Image saved as tests/output_at_iteration_73.png\n",
            "Iteration 73 completed in 8s\n",
            "Start of iteration 74\n",
            "Current loss value: 15400235000.0\n",
            "Image saved as tests/output_at_iteration_74.png\n",
            "Iteration 74 completed in 7s\n",
            "Start of iteration 75\n",
            "Current loss value: 15380841000.0\n",
            "Image saved as tests/output_at_iteration_75.png\n",
            "Iteration 75 completed in 8s\n",
            "Start of iteration 76\n",
            "Current loss value: 15334684000.0\n",
            "Image saved as tests/output_at_iteration_76.png\n",
            "Iteration 76 completed in 7s\n",
            "Start of iteration 77\n",
            "Current loss value: 15303169000.0\n",
            "Image saved as tests/output_at_iteration_77.png\n",
            "Iteration 77 completed in 7s\n",
            "Start of iteration 78\n",
            "Current loss value: 15287981000.0\n",
            "Image saved as tests/output_at_iteration_78.png\n",
            "Iteration 78 completed in 8s\n",
            "Start of iteration 79\n",
            "Current loss value: 15273669000.0\n",
            "Image saved as tests/output_at_iteration_79.png\n",
            "Iteration 79 completed in 7s\n",
            "Start of iteration 80\n",
            "Current loss value: 15258281000.0\n",
            "Image saved as tests/output_at_iteration_80.png\n",
            "Iteration 80 completed in 8s\n",
            "Start of iteration 81\n",
            "Current loss value: 15244461000.0\n",
            "Image saved as tests/output_at_iteration_81.png\n",
            "Iteration 81 completed in 7s\n",
            "Start of iteration 82\n",
            "Current loss value: 15222953000.0\n",
            "Image saved as tests/output_at_iteration_82.png\n",
            "Iteration 82 completed in 9s\n",
            "Start of iteration 83\n",
            "Current loss value: 15200008000.0\n",
            "Image saved as tests/output_at_iteration_83.png\n",
            "Iteration 83 completed in 7s\n",
            "Start of iteration 84\n",
            "Current loss value: 15176129000.0\n",
            "Image saved as tests/output_at_iteration_84.png\n",
            "Iteration 84 completed in 7s\n",
            "Start of iteration 85\n",
            "Current loss value: 15158605000.0\n",
            "Image saved as tests/output_at_iteration_85.png\n",
            "Iteration 85 completed in 8s\n",
            "Start of iteration 86\n",
            "Current loss value: 15146722000.0\n",
            "Image saved as tests/output_at_iteration_86.png\n",
            "Iteration 86 completed in 7s\n",
            "Start of iteration 87\n",
            "Current loss value: 15134040000.0\n",
            "Image saved as tests/output_at_iteration_87.png\n",
            "Iteration 87 completed in 8s\n",
            "Start of iteration 88\n",
            "Current loss value: 15123045000.0\n",
            "Image saved as tests/output_at_iteration_88.png\n",
            "Iteration 88 completed in 7s\n",
            "Start of iteration 89\n",
            "Current loss value: 15112037000.0\n",
            "Image saved as tests/output_at_iteration_89.png\n",
            "Iteration 89 completed in 8s\n",
            "Start of iteration 90\n",
            "Current loss value: 15098170000.0\n",
            "Image saved as tests/output_at_iteration_90.png\n",
            "Iteration 90 completed in 7s\n",
            "Start of iteration 91\n",
            "Current loss value: 15086788000.0\n",
            "Image saved as tests/output_at_iteration_91.png\n",
            "Iteration 91 completed in 7s\n",
            "Start of iteration 92\n",
            "Current loss value: 15076638000.0\n",
            "Image saved as tests/output_at_iteration_92.png\n",
            "Iteration 92 completed in 8s\n",
            "Start of iteration 93\n",
            "Current loss value: 15067249000.0\n",
            "Image saved as tests/output_at_iteration_93.png\n",
            "Iteration 93 completed in 7s\n",
            "Start of iteration 94\n",
            "Current loss value: 15058050000.0\n",
            "Image saved as tests/output_at_iteration_94.png\n",
            "Iteration 94 completed in 8s\n",
            "Start of iteration 95\n",
            "Current loss value: 15046446000.0\n",
            "Image saved as tests/output_at_iteration_95.png\n",
            "Iteration 95 completed in 7s\n",
            "Start of iteration 96\n",
            "Current loss value: 15036672000.0\n",
            "Image saved as tests/output_at_iteration_96.png\n",
            "Iteration 96 completed in 8s\n",
            "Start of iteration 97\n",
            "Current loss value: 15018806000.0\n",
            "Image saved as tests/output_at_iteration_97.png\n",
            "Iteration 97 completed in 8s\n",
            "Start of iteration 98\n",
            "Current loss value: 15004555000.0\n",
            "Image saved as tests/output_at_iteration_98.png\n",
            "Iteration 98 completed in 7s\n",
            "Start of iteration 99\n",
            "Current loss value: 14989555000.0\n",
            "Image saved as tests/output_at_iteration_99.png\n",
            "Iteration 99 completed in 8s\n"
          ]
        }
      ]
    },
    {
      "cell_type": "markdown",
      "metadata": {
        "id": "SkiJtofbWWy1"
      },
      "source": [
        "# 8) Generar imágenes para distintas combinaciones de pesos de las losses. Explicar las diferencias. (Adjuntar las imágenes generadas como archivos separados.)\n",
        "\n",
        "Respuesta:\n",
        "\n",
        "**Original**\n",
        "\n",
        "total_variation_weight = 0.1\n",
        "style_weight = 10\n",
        "content_weight = 1\n",
        "\n",
        "**Style Weight Predominante**\n",
        "\n",
        "total_variation_weight = 0.1\n",
        "style_weight = 100\n",
        "content_weight = 1\n",
        "\n",
        "Se puede observar que en este caso el style predomina en la imagen, viendo sobretodo cómo se reflajan los patrones de la textura en el cielo de la figura.\n",
        "\n",
        "**Content Weight Predominante**\n",
        "\n",
        "total_variation_weight = 0.1\n",
        "style_weight = 1\n",
        "content_weight = 100\n",
        "\n",
        "En este caso, pese a que la imagen presenta una textura o estilo particular, a diferencia de la anterior donde el refuerzo está hecho sobre el estilo, en esta se pueden identificar bien todos los objetos que intervienen en la imagen.\n",
        "\n",
        "**Total Variation Weight Predominante**\n",
        "\n",
        "total_variation_weight = 1\n",
        "style_weight = 10\n",
        "content_weight = 1\n",
        "\n",
        "Esta imagen es bastante parecida a la original, con la salvedad que se puede ver un suavizado en la imagen, debido al refuerzo en el factor de regularización que hace un muy buen filtrado del ruido en la imagen, haciendo los bordes más difusos.\n",
        "\n",
        "\n",
        "# 9) Cambiar las imágenes de contenido y estilo por unas elegidas por usted. Adjuntar el resultado.\n",
        "\n",
        "Respuesta:"
      ]
    },
    {
      "cell_type": "code",
      "source": [],
      "metadata": {
        "id": "T2hdoRCEAZlo"
      },
      "execution_count": 104,
      "outputs": []
    }
  ]
}