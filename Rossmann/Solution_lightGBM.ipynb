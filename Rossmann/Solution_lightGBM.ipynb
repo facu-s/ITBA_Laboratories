{
 "cells": [
  {
   "cell_type": "markdown",
   "id": "f74d36d3-aca1-44e4-9e08-f8e7743ec075",
   "metadata": {},
   "source": [
    "# Library Packages"
   ]
  },
  {
   "cell_type": "code",
   "execution_count": 1,
   "id": "d6f9fbbd-17c6-4c86-b51e-cf9b1f826cd3",
   "metadata": {},
   "outputs": [
    {
     "name": "stderr",
     "output_type": "stream",
     "text": [
      "2023-02-15 19:09:08.484517: I tensorflow/core/platform/cpu_feature_guard.cc:193] This TensorFlow binary is optimized with oneAPI Deep Neural Network Library (oneDNN) to use the following CPU instructions in performance-critical operations:  SSE4.1 SSE4.2\n",
      "To enable them in other operations, rebuild TensorFlow with the appropriate compiler flags.\n"
     ]
    }
   ],
   "source": [
    "from tensorflow.compat.v1 import ConfigProto\n",
    "from tensorflow.compat.v1 import InteractiveSession\n",
    "config = ConfigProto()\n",
    "config.gpu_options.allow_growth = True\n",
    "session = InteractiveSession(config=config)"
   ]
  },
  {
   "cell_type": "code",
   "execution_count": 2,
   "id": "40870c8b-7112-45f3-bfd3-8fb9be045a35",
   "metadata": {},
   "outputs": [],
   "source": [
    "import pandas as pd\n",
    "import numpy as np\n",
    "import datetime\n",
    "from pandas_summary import DataFrameSummary\n",
    "from tensorflow.keras.utils import to_categorical\n",
    "import matplotlib.pyplot as plt\n",
    "import seaborn as sns"
   ]
  },
  {
   "cell_type": "code",
   "execution_count": 4,
   "id": "7b1c5eba-1ab2-4534-a944-7b1d2b889e57",
   "metadata": {},
   "outputs": [],
   "source": [
    "from tensorflow.keras.models import Model\n",
    "from tensorflow.keras.callbacks import ModelCheckpoint\n",
    "from tensorflow.keras.optimizers import Adam\n",
    "from tensorflow.keras.layers import Embedding, Input, Flatten, Concatenate, Dense, BatchNormalization, Activation, LeakyReLU, Dropout\n",
    "from tensorflow.keras.regularizers import l2\n",
    "from tensorflow.keras import initializers\n",
    "\n",
    "# Model\n",
    "from lightgbm import LGBMRegressor\n",
    "\n",
    "# Hyperparams Search\n",
    "from sklearn.model_selection import cross_val_score\n",
    "from hyperopt import hp, tpe\n",
    "from hyperopt.fmin import fmin"
   ]
  },
  {
   "cell_type": "markdown",
   "id": "e3f80197-5968-44ce-bfeb-95cf72a0675e",
   "metadata": {},
   "source": [
    "# Load Normalized Data\n",
    "\n",
    "This data have been cleaned, and normalized with\n",
    "* LabelEncoders - for categorical variables\n",
    "* StandardScaler - for continuous variables"
   ]
  },
  {
   "cell_type": "code",
   "execution_count": 7,
   "id": "34f78e99-9fd1-432c-88cc-dda58ce0c596",
   "metadata": {},
   "outputs": [],
   "source": [
    "df = pd.read_feather('train_normalized_data.fth')\n",
    "df_test = pd.read_feather('test_normalized_data.fth')\n",
    "df.drop('index',axis='columns',inplace=True)"
   ]
  },
  {
   "cell_type": "markdown",
   "id": "da6bb8d8-8b09-45ec-ad6a-3fe41f290a79",
   "metadata": {},
   "source": [
    "Columns in each dataset"
   ]
  },
  {
   "cell_type": "code",
   "execution_count": 8,
   "id": "c083c733-36df-4c99-9108-960613cd9d71",
   "metadata": {},
   "outputs": [
    {
     "data": {
      "text/plain": [
       "{'Customers', 'Sales'}"
      ]
     },
     "execution_count": 8,
     "metadata": {},
     "output_type": "execute_result"
    }
   ],
   "source": [
    "set(df.columns.tolist())-set(df_test.columns.tolist())"
   ]
  },
  {
   "cell_type": "markdown",
   "id": "36112cbf-e3b4-4696-90c8-43431ce7e6b7",
   "metadata": {},
   "source": [
    "# Data Analysis\n",
    "Check some correlations between columns that will give us information about how to build the NN"
   ]
  },
  {
   "cell_type": "code",
   "execution_count": 9,
   "id": "2e21a82d-586f-4af8-88d2-0495871b8d58",
   "metadata": {},
   "outputs": [
    {
     "data": {
      "text/plain": [
       "Index(['Store', 'DayOfWeek', 'Date', 'Sales', 'Customers', 'Open', 'Promo',\n",
       "       'StateHoliday', 'SchoolHoliday', 'Year', 'Month', 'Week', 'Day',\n",
       "       'StoreType', 'Assortment', 'CompetitionDistance',\n",
       "       'CompetitionOpenSinceMonth', 'CompetitionOpenSinceYear', 'Promo2',\n",
       "       'Promo2SinceWeek', 'Promo2SinceYear', 'PromoInterval',\n",
       "       'CompetitionOpenSince', 'Promo2Since', 'State', 'file', 'week', 'trend',\n",
       "       'Date_y', 'Month_y', 'Day_y', 'file_DE', 'week_DE', 'trend_DE',\n",
       "       'Date_DE', 'State_DE', 'Month_DE', 'Day_DE', 'file_y',\n",
       "       'Max_TemperatureC', 'Mean_TemperatureC', 'Min_TemperatureC',\n",
       "       'Dew_PointC', 'MeanDew_PointC', 'Min_DewpointC', 'Max_Humidity',\n",
       "       'Mean_Humidity', 'Min_Humidity', 'Max_Sea_Level_PressurehPa',\n",
       "       'Mean_Sea_Level_PressurehPa', 'Min_Sea_Level_PressurehPa',\n",
       "       'Max_VisibilityKm', 'Mean_VisibilityKm', 'Min_VisibilitykM',\n",
       "       'Max_Wind_SpeedKm_h', 'Mean_Wind_SpeedKm_h', 'Max_Gust_SpeedKm_h',\n",
       "       'Precipitationmm', 'CloudCover', 'Events', 'WindDirDegrees',\n",
       "       'StateName', 'Year_y', 'Week_y', 'CompetitionDaysOpen',\n",
       "       'CompetitionMonthsOpen', 'Promo2Days', 'Promo2Weeks',\n",
       "       'StateHoliday_bool', 'AfterSchoolHoliday', 'BeforeSchoolHoliday',\n",
       "       'AfterStateHoliday_bool', 'BeforeStateHoliday_bool', 'AfterPromo',\n",
       "       'BeforePromo', 'SchoolHoliday_bw', 'StateHoliday_bool_bw', 'Promo_bw',\n",
       "       'SchoolHoliday_fw', 'StateHoliday_bool_fw', 'Promo_fw'],\n",
       "      dtype='object')"
      ]
     },
     "execution_count": 9,
     "metadata": {},
     "output_type": "execute_result"
    }
   ],
   "source": [
    "df.columns"
   ]
  },
  {
   "cell_type": "code",
   "execution_count": 10,
   "id": "0e18a1ba-2e77-4792-9ca9-685eaa2af9eb",
   "metadata": {},
   "outputs": [
    {
     "data": {
      "text/plain": [
       "<seaborn.axisgrid.FacetGrid at 0x7fa1e0667400>"
      ]
     },
     "execution_count": 10,
     "metadata": {},
     "output_type": "execute_result"
    },
    {
     "data": {
      "image/png": "[encoded data removed]",
      "text/plain": [
       "<Figure size 500x500 with 1 Axes>"
      ]
     },
     "metadata": {},
     "output_type": "display_data"
    }
   ],
   "source": [
    "sns.displot(y=df.Sales,x=df.Month,bins=12)"
   ]
  },
  {
   "cell_type": "code",
   "execution_count": 11,
   "id": "1324aa54-65b7-40ca-8ab7-ae3b6854041d",
   "metadata": {},
   "outputs": [
    {
     "data": {
      "text/plain": [
       "<seaborn.axisgrid.FacetGrid at 0x7fa2206bc4c0>"
      ]
     },
     "execution_count": 11,
     "metadata": {},
     "output_type": "execute_result"
    },
    {
     "data": {
      "image/png": "[encoded data removed]",
      "text/plain": [
       "<Figure size 500x500 with 1 Axes>"
      ]
     },
     "metadata": {},
     "output_type": "display_data"
    }
   ],
   "source": [
    "sns.displot(y=df.Sales,x=df.DayOfWeek,bins=12)"
   ]
  },
  {
   "cell_type": "code",
   "execution_count": 12,
   "id": "cd527528-a23d-49ca-b5b8-7dadf06fb1da",
   "metadata": {},
   "outputs": [
    {
     "name": "stderr",
     "output_type": "stream",
     "text": [
      "/var/folders/90/b05_bk0d2_z7wq_0d3_jqzd40000gn/T/ipykernel_21026/1491233022.py:1: FutureWarning: The default value of numeric_only in DataFrame.corr is deprecated. In a future version, it will default to False. Select only valid columns or specify the value of numeric_only to silence this warning.\n",
      "  corr_df = df.corr().loc['Sales'].apply(lambda x: np.abs(x))\n"
     ]
    },
    {
     "data": {
      "text/plain": [
       "DayOfWeek               0.462125\n",
       "Sales                   1.000000\n",
       "Customers               0.894711\n",
       "Open                    0.678472\n",
       "Promo                   0.452345\n",
       "StateHoliday            0.229029\n",
       "StateHoliday_bool       0.254216\n",
       "AfterPromo              0.213378\n",
       "BeforePromo             0.290366\n",
       "StateHoliday_bool_bw    0.109792\n",
       "Promo_fw                0.138871\n",
       "Name: Sales, dtype: float64"
      ]
     },
     "execution_count": 12,
     "metadata": {},
     "output_type": "execute_result"
    }
   ],
   "source": [
    "corr_df = df.corr().loc['Sales'].apply(lambda x: np.abs(x))\n",
    "# corr_df = corr_df[corr_df > 0.5\n",
    "# corr_df\n",
    "corr_df[corr_df>0.1]"
   ]
  },
  {
   "cell_type": "code",
   "execution_count": 13,
   "id": "033519fe-0587-4d82-baed-c69e70fd833f",
   "metadata": {},
   "outputs": [
    {
     "name": "stderr",
     "output_type": "stream",
     "text": [
      "/var/folders/90/b05_bk0d2_z7wq_0d3_jqzd40000gn/T/ipykernel_21026/1216867301.py:1: FutureWarning: The default value of numeric_only in DataFrame.corr is deprecated. In a future version, it will default to False. Select only valid columns or specify the value of numeric_only to silence this warning.\n",
      "  DataFrameSummary(df).summary().loc[['uniques', 'types', 'missing']]\n"
     ]
    },
    {
     "data": {
      "text/html": [
       "<div>\n",
       "<style scoped>\n",
       "    .dataframe tbody tr th:only-of-type {\n",
       "        vertical-align: middle;\n",
       "    }\n",
       "\n",
       "    .dataframe tbody tr th {\n",
       "        vertical-align: top;\n",
       "    }\n",
       "\n",
       "    .dataframe thead th {\n",
       "        text-align: right;\n",
       "    }\n",
       "</style>\n",
       "<table border=\"1\" class=\"dataframe\">\n",
       "  <thead>\n",
       "    <tr style=\"text-align: right;\">\n",
       "      <th></th>\n",
       "      <th>Store</th>\n",
       "      <th>DayOfWeek</th>\n",
       "      <th>Date</th>\n",
       "      <th>Sales</th>\n",
       "      <th>Customers</th>\n",
       "      <th>Open</th>\n",
       "      <th>Promo</th>\n",
       "      <th>StateHoliday</th>\n",
       "      <th>SchoolHoliday</th>\n",
       "      <th>Year</th>\n",
       "      <th>...</th>\n",
       "      <th>AfterStateHoliday_bool</th>\n",
       "      <th>BeforeStateHoliday_bool</th>\n",
       "      <th>AfterPromo</th>\n",
       "      <th>BeforePromo</th>\n",
       "      <th>SchoolHoliday_bw</th>\n",
       "      <th>StateHoliday_bool_bw</th>\n",
       "      <th>Promo_bw</th>\n",
       "      <th>SchoolHoliday_fw</th>\n",
       "      <th>StateHoliday_bool_fw</th>\n",
       "      <th>Promo_fw</th>\n",
       "    </tr>\n",
       "  </thead>\n",
       "  <tbody>\n",
       "    <tr>\n",
       "      <th>uniques</th>\n",
       "      <td>1115</td>\n",
       "      <td>7</td>\n",
       "      <td>942</td>\n",
       "      <td>21734</td>\n",
       "      <td>4086</td>\n",
       "      <td>2</td>\n",
       "      <td>2</td>\n",
       "      <td>4</td>\n",
       "      <td>2</td>\n",
       "      <td>3</td>\n",
       "      <td>...</td>\n",
       "      <td>136</td>\n",
       "      <td>147</td>\n",
       "      <td>21</td>\n",
       "      <td>17</td>\n",
       "      <td>8</td>\n",
       "      <td>3</td>\n",
       "      <td>6</td>\n",
       "      <td>8</td>\n",
       "      <td>3</td>\n",
       "      <td>6</td>\n",
       "    </tr>\n",
       "    <tr>\n",
       "      <th>types</th>\n",
       "      <td>numeric</td>\n",
       "      <td>numeric</td>\n",
       "      <td>date</td>\n",
       "      <td>numeric</td>\n",
       "      <td>numeric</td>\n",
       "      <td>bool</td>\n",
       "      <td>bool</td>\n",
       "      <td>numeric</td>\n",
       "      <td>bool</td>\n",
       "      <td>numeric</td>\n",
       "      <td>...</td>\n",
       "      <td>numeric</td>\n",
       "      <td>numeric</td>\n",
       "      <td>numeric</td>\n",
       "      <td>numeric</td>\n",
       "      <td>numeric</td>\n",
       "      <td>numeric</td>\n",
       "      <td>numeric</td>\n",
       "      <td>numeric</td>\n",
       "      <td>numeric</td>\n",
       "      <td>numeric</td>\n",
       "    </tr>\n",
       "    <tr>\n",
       "      <th>missing</th>\n",
       "      <td>0</td>\n",
       "      <td>0</td>\n",
       "      <td>0</td>\n",
       "      <td>0</td>\n",
       "      <td>0</td>\n",
       "      <td>0</td>\n",
       "      <td>0</td>\n",
       "      <td>0</td>\n",
       "      <td>0</td>\n",
       "      <td>0</td>\n",
       "      <td>...</td>\n",
       "      <td>0</td>\n",
       "      <td>0</td>\n",
       "      <td>0</td>\n",
       "      <td>0</td>\n",
       "      <td>0</td>\n",
       "      <td>0</td>\n",
       "      <td>0</td>\n",
       "      <td>0</td>\n",
       "      <td>0</td>\n",
       "      <td>0</td>\n",
       "    </tr>\n",
       "  </tbody>\n",
       "</table>\n",
       "<p>3 rows × 81 columns</p>\n",
       "</div>"
      ],
      "text/plain": [
       "           Store DayOfWeek  Date    Sales Customers  Open Promo StateHoliday  \\\n",
       "uniques     1115         7   942    21734      4086     2     2            4   \n",
       "types    numeric   numeric  date  numeric   numeric  bool  bool      numeric   \n",
       "missing        0         0     0        0         0     0     0            0   \n",
       "\n",
       "        SchoolHoliday     Year  ... AfterStateHoliday_bool  \\\n",
       "uniques             2        3  ...                    136   \n",
       "types            bool  numeric  ...                numeric   \n",
       "missing             0        0  ...                      0   \n",
       "\n",
       "        BeforeStateHoliday_bool AfterPromo BeforePromo SchoolHoliday_bw  \\\n",
       "uniques                     147         21          17                8   \n",
       "types                   numeric    numeric     numeric          numeric   \n",
       "missing                       0          0           0                0   \n",
       "\n",
       "        StateHoliday_bool_bw Promo_bw SchoolHoliday_fw StateHoliday_bool_fw  \\\n",
       "uniques                    3        6                8                    3   \n",
       "types                numeric  numeric          numeric              numeric   \n",
       "missing                    0        0                0                    0   \n",
       "\n",
       "        Promo_fw  \n",
       "uniques        6  \n",
       "types    numeric  \n",
       "missing        0  \n",
       "\n",
       "[3 rows x 81 columns]"
      ]
     },
     "execution_count": 13,
     "metadata": {},
     "output_type": "execute_result"
    }
   ],
   "source": [
    "DataFrameSummary(df).summary().loc[['uniques', 'types', 'missing']]"
   ]
  },
  {
   "cell_type": "code",
   "execution_count": 14,
   "id": "69893c4f-6e1d-42b1-8d00-7b4c37b9061f",
   "metadata": {},
   "outputs": [
    {
     "name": "stderr",
     "output_type": "stream",
     "text": [
      "/var/folders/90/b05_bk0d2_z7wq_0d3_jqzd40000gn/T/ipykernel_21026/190154049.py:1: FutureWarning: The default value of numeric_only in DataFrame.corr is deprecated. In a future version, it will default to False. Select only valid columns or specify the value of numeric_only to silence this warning.\n",
      "  DataFrameSummary(df).summary().loc[['uniques', 'types', 'missing']].T.groupby('types').max()\n"
     ]
    },
    {
     "data": {
      "text/html": [
       "<div>\n",
       "<style scoped>\n",
       "    .dataframe tbody tr th:only-of-type {\n",
       "        vertical-align: middle;\n",
       "    }\n",
       "\n",
       "    .dataframe tbody tr th {\n",
       "        vertical-align: top;\n",
       "    }\n",
       "\n",
       "    .dataframe thead th {\n",
       "        text-align: right;\n",
       "    }\n",
       "</style>\n",
       "<table border=\"1\" class=\"dataframe\">\n",
       "  <thead>\n",
       "    <tr style=\"text-align: right;\">\n",
       "      <th></th>\n",
       "      <th>uniques</th>\n",
       "      <th>missing</th>\n",
       "    </tr>\n",
       "    <tr>\n",
       "      <th>types</th>\n",
       "      <th></th>\n",
       "      <th></th>\n",
       "    </tr>\n",
       "  </thead>\n",
       "  <tbody>\n",
       "    <tr>\n",
       "      <th>bool</th>\n",
       "      <td>2</td>\n",
       "      <td>0</td>\n",
       "    </tr>\n",
       "    <tr>\n",
       "      <th>categorical</th>\n",
       "      <td>135</td>\n",
       "      <td>0</td>\n",
       "    </tr>\n",
       "    <tr>\n",
       "      <th>constant</th>\n",
       "      <td>1</td>\n",
       "      <td>0</td>\n",
       "    </tr>\n",
       "    <tr>\n",
       "      <th>date</th>\n",
       "      <td>942</td>\n",
       "      <td>0</td>\n",
       "    </tr>\n",
       "    <tr>\n",
       "      <th>numeric</th>\n",
       "      <td>21734</td>\n",
       "      <td>0</td>\n",
       "    </tr>\n",
       "    <tr>\n",
       "      <th>unique</th>\n",
       "      <td>0</td>\n",
       "      <td>1017209</td>\n",
       "    </tr>\n",
       "  </tbody>\n",
       "</table>\n",
       "</div>"
      ],
      "text/plain": [
       "             uniques  missing\n",
       "types                        \n",
       "bool               2        0\n",
       "categorical      135        0\n",
       "constant           1        0\n",
       "date             942        0\n",
       "numeric        21734        0\n",
       "unique             0  1017209"
      ]
     },
     "execution_count": 14,
     "metadata": {},
     "output_type": "execute_result"
    }
   ],
   "source": [
    "DataFrameSummary(df).summary().loc[['uniques', 'types', 'missing']].T.groupby('types').max()"
   ]
  },
  {
   "cell_type": "markdown",
   "id": "6d0f59e0-ed4b-4439-a247-3e7516f34eb8",
   "metadata": {},
   "source": [
    "# Data Model"
   ]
  },
  {
   "cell_type": "code",
   "execution_count": 15,
   "id": "718add5b-faec-48c9-b42f-e14f4395e92f",
   "metadata": {},
   "outputs": [],
   "source": [
    "cat_vars = ['Store','DayOfWeek','Year','Month','Day','StateHoliday','CompetitionMonthsOpen',\n",
    "    'Promo2Weeks','StoreType','Assortment','PromoInterval',\n",
    "    'CompetitionOpenSinceYear','Promo2SinceYear','State',\n",
    "    'Week','Events','Promo_fw','Promo_bw','SchoolHoliday_fw','SchoolHoliday_bw']"
   ]
  },
  {
   "cell_type": "code",
   "execution_count": 16,
   "id": "4cdbc9b4-9791-4a70-915f-9bb1f358ca09",
   "metadata": {},
   "outputs": [],
   "source": [
    "contin_vars = ['CompetitionDistance', \n",
    "   'Max_TemperatureC', 'Mean_TemperatureC', 'Min_TemperatureC', 'Precipitationmm',\n",
    "   'Max_Humidity', 'Mean_Humidity', 'Min_Humidity', 'Max_Wind_SpeedKm_h', \n",
    "   'Mean_Wind_SpeedKm_h', 'CloudCover', 'trend', 'trend_DE',\n",
    "   'AfterStateHoliday_bool', 'BeforeStateHoliday_bool', 'Promo', 'SchoolHoliday', 'StateHoliday_bool']"
   ]
  },
  {
   "cell_type": "code",
   "execution_count": 17,
   "id": "bae96486-f419-451d-82e8-998c77690229",
   "metadata": {},
   "outputs": [
    {
     "data": {
      "text/plain": [
       "{'AfterPromo',\n",
       " 'AfterSchoolHoliday',\n",
       " 'BeforePromo',\n",
       " 'BeforeSchoolHoliday',\n",
       " 'CompetitionDaysOpen',\n",
       " 'CompetitionOpenSince',\n",
       " 'CompetitionOpenSinceMonth',\n",
       " 'Customers',\n",
       " 'Date',\n",
       " 'Date_DE',\n",
       " 'Date_y',\n",
       " 'Day_DE',\n",
       " 'Day_y',\n",
       " 'Dew_PointC',\n",
       " 'Max_Gust_SpeedKm_h',\n",
       " 'Max_Sea_Level_PressurehPa',\n",
       " 'Max_VisibilityKm',\n",
       " 'MeanDew_PointC',\n",
       " 'Mean_Sea_Level_PressurehPa',\n",
       " 'Mean_VisibilityKm',\n",
       " 'Min_DewpointC',\n",
       " 'Min_Sea_Level_PressurehPa',\n",
       " 'Min_VisibilitykM',\n",
       " 'Month_DE',\n",
       " 'Month_y',\n",
       " 'Open',\n",
       " 'Promo2',\n",
       " 'Promo2Days',\n",
       " 'Promo2Since',\n",
       " 'Promo2SinceWeek',\n",
       " 'Sales',\n",
       " 'StateHoliday_bool_bw',\n",
       " 'StateHoliday_bool_fw',\n",
       " 'StateName',\n",
       " 'State_DE',\n",
       " 'Week_y',\n",
       " 'WindDirDegrees',\n",
       " 'Year_y',\n",
       " 'file',\n",
       " 'file_DE',\n",
       " 'file_y',\n",
       " 'week',\n",
       " 'week_DE'}"
      ]
     },
     "execution_count": 17,
     "metadata": {},
     "output_type": "execute_result"
    }
   ],
   "source": [
    "# Check all columns on df are consistent with name of variables\n",
    "# display(set(contin_vars+cat_vars))\n",
    "# display(set(df.columns))\n",
    "set(df.columns)-set(contin_vars+cat_vars)"
   ]
  },
  {
   "cell_type": "code",
   "execution_count": 18,
   "id": "1ffd4297-050e-4e98-a560-9851bb6966cd",
   "metadata": {},
   "outputs": [],
   "source": [
    "from tensorflow.keras import backend as K\n",
    "def rmspe(y_true, y_pred):\n",
    "    return K.sqrt(K.mean(K.square((y_true - y_pred)/(y_true))))"
   ]
  },
  {
   "cell_type": "code",
   "execution_count": 19,
   "id": "f682b6a2-46d4-473b-8be2-092c81c1cb5a",
   "metadata": {},
   "outputs": [],
   "source": [
    "def calculate_RMSE(X, y, model, log_output=True):\n",
    "    y_preds = np.exp(model.predict(X, verbose=1)*max_log_y)\n",
    "    return np.sqrt((((y - y_preds)/y)**2).sum()/len(y_preds))"
   ]
  },
  {
   "cell_type": "markdown",
   "id": "d5a21f96-053d-49c0-8be7-ffdbd3cf3912",
   "metadata": {},
   "source": [
    "### Split Data for Train and Validation"
   ]
  },
  {
   "cell_type": "code",
   "execution_count": 20,
   "id": "bac56791-10ce-4fc9-ac74-e8fb2ab7ed91",
   "metadata": {},
   "outputs": [],
   "source": [
    "def split_cols(arr): return np.hsplit(arr,arr.shape[1])"
   ]
  },
  {
   "cell_type": "code",
   "execution_count": 21,
   "id": "a431d568-c1e7-4bda-a148-1ca1ee8d424d",
   "metadata": {},
   "outputs": [],
   "source": [
    "split_contins = False\n",
    "def split_data():\n",
    "    if split_contins:\n",
    "        map_train = split_cols(cats_trn) + split_cols(contins_trn)\n",
    "        map_valid = split_cols(cats_val) + split_cols(contins_val)\n",
    "    else:\n",
    "        map_train = cats_trn+contins_trn\n",
    "        map_valid = cats_val+contins_val\n",
    "    return map_train, map_valid"
   ]
  },
  {
   "cell_type": "code",
   "execution_count": 60,
   "id": "993be6a3-eeb9-42b0-bbd9-bbaf13555616",
   "metadata": {},
   "outputs": [
    {
     "name": "stdout",
     "output_type": "stream",
     "text": [
      "X_train[ <class 'pandas.core.frame.DataFrame'> ]:  (915488, 38)       y_trn[ <class 'pandas.core.series.Series'> ]:  (915488,)\n",
      "X_valid[ <class 'pandas.core.frame.DataFrame'> ]:  (101721, 38)       y_val[ <class 'pandas.core.series.Series'> ]:  (101721,)\n"
     ]
    },
    {
     "name": "stderr",
     "output_type": "stream",
     "text": [
      "/Users/facundosolano/opt/anaconda3/envs/itba/lib/python3.10/site-packages/pandas/core/arraylike.py:402: RuntimeWarning: divide by zero encountered in log\n",
      "  result = getattr(ufunc, method)(*inputs, **kwargs)\n"
     ]
    }
   ],
   "source": [
    "n=len(df.Sales)\n",
    "\n",
    "train_ratio=0.9\n",
    "train_size = int(n*train_ratio)\n",
    "# contins_trn, contins_val = df[contin_vars].loc[:train_size-1], df[contin_vars].loc[train_size:]\n",
    "# cats_trn, cats_val       = df[cat_var_dict.keys()].loc[:train_size-1], df[cat_var_dict.keys()].loc[train_size:]\n",
    "\n",
    "X_train,X_valid                  = df[cat_vars+contin_vars].loc[:train_size-1], df[cat_vars+contin_vars].loc[train_size:]\n",
    "\n",
    "max_y_log                = (np.log(df.Sales)).values.max()\n",
    "y_trn, y_val             = np.log(df.Sales.loc[:train_size-1])/max_y_log, np.log(df.Sales.loc[train_size:])/max_y_log\n",
    "\n",
    "print(\"X_train[\",type(X_train),\"]: \",X_train.shape,\"      y_trn[\",type(y_trn),\"]: \",y_trn.shape)\n",
    "print(\"X_valid[\",type(X_train),\"]: \",X_valid.shape,\"      y_val[\",type(y_val),\"]: \",y_val.shape)"
   ]
  },
  {
   "cell_type": "code",
   "execution_count": 61,
   "id": "b91a5ba8-be6b-4178-94a3-0b0d057224b8",
   "metadata": {},
   "outputs": [
    {
     "data": {
      "text/plain": [
       "[<matplotlib.lines.Line2D at 0x7fa217c04a90>]"
      ]
     },
     "execution_count": 61,
     "metadata": {},
     "output_type": "execute_result"
    },
    {
     "data": {
      "image/png": "[encoded data removed]",
      "text/plain": [
       "<Figure size 640x480 with 1 Axes>"
      ]
     },
     "metadata": {},
     "output_type": "display_data"
    },
    {
     "data": {
      "image/png": "[encoded data removed]",
      "text/plain": [
       "<Figure size 640x480 with 1 Axes>"
      ]
     },
     "metadata": {},
     "output_type": "display_data"
    },
    {
     "data": {
      "image/png": "[encoded data removed]",
      "text/plain": [
       "<Figure size 640x480 with 1 Axes>"
      ]
     },
     "metadata": {},
     "output_type": "display_data"
    },
    {
     "data": {
      "image/png": "[encoded data removed]",
      "text/plain": [
       "<Figure size 640x480 with 1 Axes>"
      ]
     },
     "metadata": {},
     "output_type": "display_data"
    }
   ],
   "source": [
    "plt.plot(y_trn)\n",
    "plt.figure()\n",
    "plt.plot(y_val)\n",
    "y_trn.loc[lambda x: x < 0.0] = 0\n",
    "y_val.loc[lambda x: x < 0.0] = 0\n",
    "plt.figure()\n",
    "plt.plot(y_trn)\n",
    "plt.figure()\n",
    "plt.plot(y_val)"
   ]
  },
  {
   "cell_type": "code",
   "execution_count": 37,
   "id": "7559cfd5-db56-4652-80ce-868abcff109a",
   "metadata": {},
   "outputs": [],
   "source": [
    "# X_train,X_valid"
   ]
  },
  {
   "cell_type": "markdown",
   "id": "25023150-4bdf-4c0b-849d-df768fb62c53",
   "metadata": {},
   "source": [
    "### Search of Hyperparameters with HyperOpt"
   ]
  },
  {
   "cell_type": "code",
   "execution_count": 54,
   "id": "f8fa11d3-cfd3-4ff1-b3ef-48b17eb41040",
   "metadata": {},
   "outputs": [],
   "source": [
    "def objective(params):\n",
    "    params = {\n",
    "        # 'max_depth': int(params['max_depth']),\n",
    "        # 'colsample_bytree': '{:.3f}'.format(params['colsample_bytree']),\n",
    "        'learning_rate': '{:.4f}'.format(params['learning_rate'])\n",
    "        # 'n_estimators': int(params['n_estimators'])\n",
    "    }\n",
    "    \n",
    "    clf = LGBMRegressor(\n",
    "        n_estimators=4000,\n",
    "        min_child_samples= 5,# max_depth= -1,\n",
    "        device_type='cpu',\n",
    "        n_jobs=3,\n",
    "        **params\n",
    "    )\n",
    "    \n",
    "    score = -cross_val_score(clf, X_train, y_trn).mean()\n",
    "    return score"
   ]
  },
  {
   "cell_type": "code",
   "execution_count": 56,
   "id": "8e9414a3-0759-4d8f-a5e4-b6c3ecdc08ec",
   "metadata": {},
   "outputs": [],
   "source": [
    "space = {\n",
    "    # 'max_depth': hp.uniform('max_depth', 1, 63),\n",
    "    # # 'colsample_bytree': hp.uniform('colsample_bytree', 0.5, 1.0),\n",
    "    'learning_rate': hp.loguniform('learning_rate', -4, -2),\n",
    "    # 'n_estimators': hp.uniform('n_estimators',100,4000)\n",
    "}\n",
    "\n",
    "best = fmin(fn=objective,\n",
    "            space=space,\n",
    "            verbose=2,\n",
    "            algo=tpe.suggest,\n",
    "            max_evals=10)"
   ]
  },
  {
   "cell_type": "code",
   "execution_count": null,
   "id": "e23fdecc-e45e-4900-8965-0b7776870ecf",
   "metadata": {},
   "outputs": [],
   "source": [
    "best"
   ]
  },
  {
   "cell_type": "markdown",
   "id": "4df903c5-ec35-4a41-a626-d96726a60e1a",
   "metadata": {},
   "source": [
    "### Search Hyperparameters with GridSearch"
   ]
  },
  {
   "cell_type": "code",
   "execution_count": 62,
   "id": "af73a41b-cec9-452a-9d05-baaa84abbee7",
   "metadata": {},
   "outputs": [],
   "source": [
    "from sklearn.model_selection import GridSearchCV"
   ]
  },
  {
   "cell_type": "code",
   "execution_count": 63,
   "id": "e2182a8f-f5c8-418a-a1ef-b6606b7589dd",
   "metadata": {},
   "outputs": [],
   "source": [
    "parameters = {\n",
    "        'learning_rate':[0.001, 0.05, 0.1, 0.5],\n",
    "        'max_depth':[1, 7, 31, 63],\n",
    "        'min_child_samples': [5,10,20,100],\n",
    "        'n_estimators': [100,1000,4000]\n",
    "    }\n",
    "# grid_search_res_1 = {'learning_rate': 0.05, 'min_child_samples': 5, 'max_depth': -1}\n",
    "grid_search_res_2 = {'n_estimators':4000,'learning_rate': 0.05, 'max_depth': 7, 'min_child_samples': 20}"
   ]
  },
  {
   "cell_type": "code",
   "execution_count": 64,
   "id": "20952f1e-1f99-49a0-b2cf-736300d8989c",
   "metadata": {},
   "outputs": [],
   "source": [
    "n_estimators = 1000\n",
    "\n",
    "model = LGBMRegressor(**grid_search_res_2)"
   ]
  },
  {
   "cell_type": "code",
   "execution_count": 65,
   "id": "a24de0dc-946c-474a-883e-f78fc5b7adb3",
   "metadata": {},
   "outputs": [],
   "source": [
    "clf = GridSearchCV(model, parameters, n_jobs=-1, verbose=1, cv=3)"
   ]
  },
  {
   "cell_type": "markdown",
   "id": "c5fc5a9f-edfa-4018-94ac-cd81e1cb887b",
   "metadata": {},
   "source": [
    "### Create Model"
   ]
  },
  {
   "cell_type": "code",
   "execution_count": 66,
   "id": "88de4de8-5668-4720-8861-5f628ea272eb",
   "metadata": {},
   "outputs": [],
   "source": [
    "n_estimators  = 1000\n",
    "\n",
    "def get_model(params):\n",
    "    model = LGBMRegressor(\n",
    "        n_estimators=n_estimators,\n",
    "        min_child_samples= 5,\n",
    "        n_jobs=-1,\n",
    "        **params\n",
    "    )\n",
    "    return model"
   ]
  },
  {
   "cell_type": "code",
   "execution_count": 67,
   "id": "64cf9426-cd83-460f-a194-89b8df3d5277",
   "metadata": {},
   "outputs": [
    {
     "data": {
      "text/plain": [
       "(915488, 38)"
      ]
     },
     "execution_count": 67,
     "metadata": {},
     "output_type": "execute_result"
    }
   ],
   "source": [
    "X_train.shape"
   ]
  },
  {
   "cell_type": "code",
   "execution_count": 68,
   "id": "1a48ed13-9707-4ac3-b3b2-33a40c39940a",
   "metadata": {},
   "outputs": [],
   "source": [
    "gridsearch_en = True\n",
    "\n",
    "def train(model, X_train, X_valid):    \n",
    "    fit_params={ \"eval_metric\" : 'l2', \n",
    "            'verbose': 100,\n",
    "            #'feature_name': 'auto', # that's actually the default\n",
    "            # 'categorical_feature': cat_vars\n",
    "            }\n",
    "\n",
    "    fit_params[\"eval_set\"] = [(X_valid, y_val)]\n",
    "    fit_params[\"early_stopping_rounds\"] = 100\n",
    "    \n",
    "    if gridsearch_en:\n",
    "        return model.fit(X_train, y_trn, **fit_params)\n",
    "    else:\n",
    "        return model.fit(X_train, y_trn, **fit_params)"
   ]
  },
  {
   "cell_type": "markdown",
   "id": "6ea66395-8e2d-49a0-acb0-6bf9232a9cc9",
   "metadata": {},
   "source": [
    "### Train Model and Split Data"
   ]
  },
  {
   "cell_type": "code",
   "execution_count": 69,
   "id": "abf7a3bd-4bbc-4325-9073-2432f311b6a5",
   "metadata": {},
   "outputs": [
    {
     "name": "stdout",
     "output_type": "stream",
     "text": [
      "Fitting 3 folds for each of 192 candidates, totalling 576 fits\n",
      "Training until validation scores don't improve for 100 rounds\n",
      "[100]\tvalid_0's l2: 0.0859245\n",
      "Did not meet early stopping. Best iteration is:\n",
      "[100]\tvalid_0's l2: 0.0859245\n",
      "Training until validation scores don't improve for 100 rounds\n",
      "[100]\tvalid_0's l2: 0.0859091\n",
      "Did not meet early stopping. Best iteration is:\n",
      "[100]\tvalid_0's l2: 0.0859091\n"
     ]
    },
    {
     "name": "stderr",
     "output_type": "stream",
     "text": [
      "/Users/facundosolano/opt/anaconda3/envs/itba/lib/python3.10/site-packages/joblib/externals/loky/process_executor.py:702: UserWarning: A worker stopped while some jobs were given to the executor. This can be caused by a too short worker timeout or by a memory leak.\n",
      "  warnings.warn(\n"
     ]
    },
    {
     "name": "stdout",
     "output_type": "stream",
     "text": [
      "Training until validation scores don't improve for 100 rounds\n",
      "[100]\tvalid_0's l2: 0.0859091\n",
      "Did not meet early stopping. Best iteration is:\n",
      "[100]\tvalid_0's l2: 0.0859091\n",
      "Training until validation scores don't improve for 100 rounds\n",
      "[100]\tvalid_0's l2: 0.0859245\n",
      "Did not meet early stopping. Best iteration is:\n",
      "[100]\tvalid_0's l2: 0.0859245\n",
      "Training until validation scores don't improve for 100 rounds\n",
      "[100]\tvalid_0's l2: 0.0859179\n",
      "Did not meet early stopping. Best iteration is:\n",
      "[100]\tvalid_0's l2: 0.0859179\n",
      "Training until validation scores don't improve for 100 rounds\n",
      "[100]\tvalid_0's l2: 0.0859091\n",
      "[200]\tvalid_0's l2: 0.0751394\n",
      "[300]\tvalid_0's l2: 0.0663333\n",
      "[400]\tvalid_0's l2: 0.0591337\n",
      "[500]\tvalid_0's l2: 0.0532484\n",
      "[600]\tvalid_0's l2: 0.0484381\n",
      "[700]\tvalid_0's l2: 0.0445072\n",
      "[800]\tvalid_0's l2: 0.0411533\n",
      "[900]\tvalid_0's l2: 0.0380433\n",
      "[1000]\tvalid_0's l2: 0.0352201\n",
      "Did not meet early stopping. Best iteration is:\n",
      "[1000]\tvalid_0's l2: 0.0352201\n",
      "Training until validation scores don't improve for 100 rounds\n",
      "[100]\tvalid_0's l2: 0.0859245\n",
      "Did not meet early stopping. Best iteration is:\n",
      "[100]\tvalid_0's l2: 0.0859245\n",
      "Training until validation scores don't improve for 100 rounds\n",
      "[100]\tvalid_0's l2: 0.0859179\n",
      "[200]\tvalid_0's l2: 0.0751605\n",
      "[300]\tvalid_0's l2: 0.066363\n",
      "[400]\tvalid_0's l2: 0.059169\n",
      "[500]\tvalid_0's l2: 0.053287\n",
      "[600]\tvalid_0's l2: 0.0484784\n",
      "[700]\tvalid_0's l2: 0.0445478\n",
      "[800]\tvalid_0's l2: 0.0411779\n",
      "[900]\tvalid_0's l2: 0.0380694\n",
      "[1000]\tvalid_0's l2: 0.0352472\n",
      "Did not meet early stopping. Best iteration is:\n",
      "[1000]\tvalid_0's l2: 0.0352472\n",
      "Training until validation scores don't improve for 100 rounds\n",
      "[100]\tvalid_0's l2: 0.0859179\n",
      "[200]\tvalid_0's l2: 0.0751605\n",
      "[300]\tvalid_0's l2: 0.066363\n",
      "[400]\tvalid_0's l2: 0.059169\n",
      "[500]\tvalid_0's l2: 0.053287\n",
      "[600]\tvalid_0's l2: 0.0484784\n",
      "[700]\tvalid_0's l2: 0.0445478\n",
      "[800]\tvalid_0's l2: 0.0411779\n",
      "[900]\tvalid_0's l2: 0.0380694\n",
      "[1000]\tvalid_0's l2: 0.0352472\n",
      "Did not meet early stopping. Best iteration is:\n",
      "[1000]\tvalid_0's l2: 0.0352472\n",
      "Training until validation scores don't improve for 100 rounds\n",
      "[100]\tvalid_0's l2: 0.0859091\n",
      "Did not meet early stopping. Best iteration is:\n",
      "[100]\tvalid_0's l2: 0.0859091\n",
      "Training until validation scores don't improve for 100 rounds\n",
      "[100]\tvalid_0's l2: 0.0859245\n",
      "[200]\tvalid_0's l2: 0.0751775\n",
      "[300]\tvalid_0's l2: 0.0663873\n",
      "[400]\tvalid_0's l2: 0.0591982\n",
      "[500]\tvalid_0's l2: 0.0533193\n",
      "[600]\tvalid_0's l2: 0.0485123\n",
      "[700]\tvalid_0's l2: 0.0445822\n",
      "[800]\tvalid_0's l2: 0.041348\n",
      "[900]\tvalid_0's l2: 0.0382333\n",
      "[1000]\tvalid_0's l2: 0.0354055\n",
      "[1100]\tvalid_0's l2: 0.0328385\n",
      "[1200]\tvalid_0's l2: 0.0305087\n",
      "[1300]\tvalid_0's l2: 0.0283947\n",
      "[1400]\tvalid_0's l2: 0.0264769\n",
      "[1500]\tvalid_0's l2: 0.0247375\n",
      "[1600]\tvalid_0's l2: 0.0231601\n",
      "[1700]\tvalid_0's l2: 0.0217301\n",
      "[1800]\tvalid_0's l2: 0.0204342\n",
      "[1900]\tvalid_0's l2: 0.0192599\n",
      "[2000]\tvalid_0's l2: 0.0181963\n",
      "[2100]\tvalid_0's l2: 0.0172332\n",
      "[2200]\tvalid_0's l2: 0.0163614\n",
      "[2300]\tvalid_0's l2: 0.0155725\n",
      "[2400]\tvalid_0's l2: 0.0148589\n",
      "[2500]\tvalid_0's l2: 0.0142137\n",
      "[2600]\tvalid_0's l2: 0.0136305\n",
      "[2700]\tvalid_0's l2: 0.0131037\n",
      "[2800]\tvalid_0's l2: 0.012628\n",
      "[2900]\tvalid_0's l2: 0.0121987\n",
      "[3000]\tvalid_0's l2: 0.0118114\n",
      "[3100]\tvalid_0's l2: 0.0114622\n",
      "[3200]\tvalid_0's l2: 0.0111477\n",
      "[3300]\tvalid_0's l2: 0.0108646\n",
      "[3400]\tvalid_0's l2: 0.0106098\n",
      "[3500]\tvalid_0's l2: 0.0103808\n",
      "[3600]\tvalid_0's l2: 0.0101751\n",
      "[3700]\tvalid_0's l2: 0.00999054\n",
      "[3800]\tvalid_0's l2: 0.00982507\n",
      "[3900]\tvalid_0's l2: 0.00967686\n",
      "[4000]\tvalid_0's l2: 0.00954427\n",
      "Did not meet early stopping. Best iteration is:\n",
      "[4000]\tvalid_0's l2: 0.00954427\n",
      "Training until validation scores don't improve for 100 rounds\n",
      "[100]\tvalid_0's l2: 0.0859179\n",
      "Did not meet early stopping. Best iteration is:\n",
      "[100]\tvalid_0's l2: 0.0859179\n",
      "Training until validation scores don't improve for 100 rounds\n",
      "[100]\tvalid_0's l2: 0.0859091\n",
      "[200]\tvalid_0's l2: 0.0751394\n",
      "[300]\tvalid_0's l2: 0.0663333\n",
      "[400]\tvalid_0's l2: 0.0591337\n",
      "[500]\tvalid_0's l2: 0.0532484\n",
      "[600]\tvalid_0's l2: 0.0484381\n",
      "[700]\tvalid_0's l2: 0.0445072\n",
      "[800]\tvalid_0's l2: 0.0411533\n",
      "[900]\tvalid_0's l2: 0.0380433\n",
      "[1000]\tvalid_0's l2: 0.0352201\n",
      "Did not meet early stopping. Best iteration is:\n",
      "[1000]\tvalid_0's l2: 0.0352201\n",
      "Training until validation scores don't improve for 100 rounds\n",
      "[100]\tvalid_0's l2: 0.0819651\n",
      "Did not meet early stopping. Best iteration is:\n",
      "[100]\tvalid_0's l2: 0.0819651\n",
      "Training until validation scores don't improve for 100 rounds\n",
      "[100]\tvalid_0's l2: 0.0859245\n",
      "[200]\tvalid_0's l2: 0.0751775\n",
      "[300]\tvalid_0's l2: 0.0663873\n",
      "[400]\tvalid_0's l2: 0.0591982\n",
      "[500]\tvalid_0's l2: 0.0533193\n",
      "[600]\tvalid_0's l2: 0.0485123\n",
      "[700]\tvalid_0's l2: 0.0445822\n",
      "[800]\tvalid_0's l2: 0.041348\n",
      "[900]\tvalid_0's l2: 0.0382333\n",
      "[1000]\tvalid_0's l2: 0.0354055\n",
      "Did not meet early stopping. Best iteration is:\n",
      "[1000]\tvalid_0's l2: 0.0354055\n",
      "Training until validation scores don't improve for 100 rounds\n",
      "[100]\tvalid_0's l2: 0.0859091\n",
      "[200]\tvalid_0's l2: 0.0751394\n",
      "[300]\tvalid_0's l2: 0.0663333\n",
      "[400]\tvalid_0's l2: 0.0591337\n",
      "[500]\tvalid_0's l2: 0.0532484\n",
      "[600]\tvalid_0's l2: 0.0484381\n",
      "[700]\tvalid_0's l2: 0.0445072\n",
      "[800]\tvalid_0's l2: 0.0411533\n",
      "[900]\tvalid_0's l2: 0.0380433\n",
      "[1000]\tvalid_0's l2: 0.0352201\n",
      "[1100]\tvalid_0's l2: 0.0326578\n",
      "[1200]\tvalid_0's l2: 0.0303327\n",
      "[1300]\tvalid_0's l2: 0.0282235\n",
      "[1400]\tvalid_0's l2: 0.0263105\n",
      "[1500]\tvalid_0's l2: 0.0245759\n",
      "[1600]\tvalid_0's l2: 0.0230036\n",
      "[1700]\tvalid_0's l2: 0.0215785\n",
      "[1800]\tvalid_0's l2: 0.0202876\n",
      "[1900]\tvalid_0's l2: 0.0191184\n",
      "[2000]\tvalid_0's l2: 0.0180598\n",
      "[2100]\tvalid_0's l2: 0.0171018\n",
      "[2200]\tvalid_0's l2: 0.016235\n",
      "[2300]\tvalid_0's l2: 0.0154511\n",
      "[2400]\tvalid_0's l2: 0.0147425\n",
      "[2500]\tvalid_0's l2: 0.0141023\n",
      "[2600]\tvalid_0's l2: 0.0135242\n",
      "[2700]\tvalid_0's l2: 0.0130024\n",
      "[2800]\tvalid_0's l2: 0.0125317\n",
      "[2900]\tvalid_0's l2: 0.0121073\n",
      "[3000]\tvalid_0's l2: 0.0117249\n",
      "[3100]\tvalid_0's l2: 0.0113806\n",
      "[3200]\tvalid_0's l2: 0.0110709\n",
      "[3300]\tvalid_0's l2: 0.0107923\n",
      "[3400]\tvalid_0's l2: 0.0105423\n",
      "[3500]\tvalid_0's l2: 0.0103178\n",
      "[3600]\tvalid_0's l2: 0.0101165\n",
      "[3700]\tvalid_0's l2: 0.00993628\n",
      "[3800]\tvalid_0's l2: 0.00977505\n",
      "[3900]\tvalid_0's l2: 0.00963096\n",
      "[4000]\tvalid_0's l2: 0.00950246\n",
      "Did not meet early stopping. Best iteration is:\n",
      "[4000]\tvalid_0's l2: 0.00950246\n",
      "Training until validation scores don't improve for 100 rounds\n",
      "[100]\tvalid_0's l2: 0.0859179\n",
      "[200]\tvalid_0's l2: 0.0751605\n",
      "[300]\tvalid_0's l2: 0.066363\n",
      "[400]\tvalid_0's l2: 0.059169\n",
      "[500]\tvalid_0's l2: 0.053287\n",
      "[600]\tvalid_0's l2: 0.0484784\n",
      "[700]\tvalid_0's l2: 0.0445478\n",
      "[800]\tvalid_0's l2: 0.0411779\n",
      "[900]\tvalid_0's l2: 0.0380694\n",
      "[1000]\tvalid_0's l2: 0.0352472\n",
      "Did not meet early stopping. Best iteration is:\n",
      "[1000]\tvalid_0's l2: 0.0352472\n",
      "Training until validation scores don't improve for 100 rounds\n",
      "[100]\tvalid_0's l2: 0.0822385\n",
      "Did not meet early stopping. Best iteration is:\n",
      "[100]\tvalid_0's l2: 0.0822385\n",
      "Training until validation scores don't improve for 100 rounds\n",
      "[100]\tvalid_0's l2: 0.0819651\n",
      "[200]\tvalid_0's l2: 0.0679796\n",
      "[300]\tvalid_0's l2: 0.0565363\n",
      "[400]\tvalid_0's l2: 0.0471625\n",
      "[500]\tvalid_0's l2: 0.0394675\n",
      "[600]\tvalid_0's l2: 0.0331704\n",
      "[700]\tvalid_0's l2: 0.028021\n",
      "[800]\tvalid_0's l2: 0.0238061\n",
      "[900]\tvalid_0's l2: 0.0203571\n",
      "[1000]\tvalid_0's l2: 0.01754\n",
      "Did not meet early stopping. Best iteration is:\n",
      "[1000]\tvalid_0's l2: 0.01754\n",
      "Training until validation scores don't improve for 100 rounds\n",
      "[100]\tvalid_0's l2: 0.0819651\n",
      "[200]\tvalid_0's l2: 0.0679796\n",
      "[300]\tvalid_0's l2: 0.0565363\n",
      "[400]\tvalid_0's l2: 0.0471625\n",
      "[500]\tvalid_0's l2: 0.0394675\n",
      "[600]\tvalid_0's l2: 0.0331704\n",
      "[700]\tvalid_0's l2: 0.028021\n",
      "[800]\tvalid_0's l2: 0.0238061\n",
      "[900]\tvalid_0's l2: 0.0203571\n",
      "[1000]\tvalid_0's l2: 0.01754\n",
      "Did not meet early stopping. Best iteration is:\n",
      "[1000]\tvalid_0's l2: 0.01754\n",
      "Training until validation scores don't improve for 100 rounds\n",
      "[100]\tvalid_0's l2: 0.0859091\n",
      "[200]\tvalid_0's l2: 0.0751394\n",
      "[300]\tvalid_0's l2: 0.0663333\n",
      "[400]\tvalid_0's l2: 0.0591337\n",
      "[500]\tvalid_0's l2: 0.0532484\n",
      "[600]\tvalid_0's l2: 0.0484381\n",
      "[700]\tvalid_0's l2: 0.0445072\n",
      "[800]\tvalid_0's l2: 0.0411533\n",
      "[900]\tvalid_0's l2: 0.0380433\n",
      "[1000]\tvalid_0's l2: 0.0352201\n",
      "Did not meet early stopping. Best iteration is:\n",
      "[1000]\tvalid_0's l2: 0.0352201\n",
      "Training until validation scores don't improve for 100 rounds\n",
      "[100]\tvalid_0's l2: 0.0859245\n",
      "[200]\tvalid_0's l2: 0.0751775\n",
      "[300]\tvalid_0's l2: 0.0663873\n",
      "[400]\tvalid_0's l2: 0.0591982\n",
      "[500]\tvalid_0's l2: 0.0533193\n",
      "[600]\tvalid_0's l2: 0.0485123\n",
      "[700]\tvalid_0's l2: 0.0445822\n",
      "[800]\tvalid_0's l2: 0.041348\n",
      "[900]\tvalid_0's l2: 0.0382333\n",
      "[1000]\tvalid_0's l2: 0.0354055\n",
      "[1100]\tvalid_0's l2: 0.0328385\n",
      "[1200]\tvalid_0's l2: 0.0305087\n",
      "[1300]\tvalid_0's l2: 0.0283947\n",
      "[1400]\tvalid_0's l2: 0.0264769\n",
      "[1500]\tvalid_0's l2: 0.0247375\n",
      "[1600]\tvalid_0's l2: 0.0231601\n",
      "[1700]\tvalid_0's l2: 0.0217301\n",
      "[1800]\tvalid_0's l2: 0.0204342\n",
      "[1900]\tvalid_0's l2: 0.0192599\n",
      "[2000]\tvalid_0's l2: 0.0181963\n",
      "[2100]\tvalid_0's l2: 0.0172332\n",
      "[2200]\tvalid_0's l2: 0.0163614\n",
      "[2300]\tvalid_0's l2: 0.0155725\n",
      "[2400]\tvalid_0's l2: 0.0148589\n",
      "[2500]\tvalid_0's l2: 0.0142137\n",
      "[2600]\tvalid_0's l2: 0.0136305\n",
      "[2700]\tvalid_0's l2: 0.0131037\n",
      "[2800]\tvalid_0's l2: 0.012628\n",
      "[2900]\tvalid_0's l2: 0.0121987\n",
      "[3000]\tvalid_0's l2: 0.0118114\n",
      "[3100]\tvalid_0's l2: 0.0114622\n",
      "[3200]\tvalid_0's l2: 0.0111477\n",
      "[3300]\tvalid_0's l2: 0.0108646\n",
      "[3400]\tvalid_0's l2: 0.0106098\n",
      "[3500]\tvalid_0's l2: 0.0103808\n",
      "[3600]\tvalid_0's l2: 0.0101751\n",
      "[3700]\tvalid_0's l2: 0.00999054\n",
      "[3800]\tvalid_0's l2: 0.00982507\n",
      "[3900]\tvalid_0's l2: 0.00967686\n",
      "[4000]\tvalid_0's l2: 0.00954427\n",
      "Did not meet early stopping. Best iteration is:\n",
      "[4000]\tvalid_0's l2: 0.00954427\n",
      "Training until validation scores don't improve for 100 rounds\n",
      "[100]\tvalid_0's l2: 0.0859245\n",
      "[200]\tvalid_0's l2: 0.0751775\n",
      "[300]\tvalid_0's l2: 0.0663873\n",
      "[400]\tvalid_0's l2: 0.0591982\n",
      "[500]\tvalid_0's l2: 0.0533193\n",
      "[600]\tvalid_0's l2: 0.0485123\n",
      "[700]\tvalid_0's l2: 0.0445822\n",
      "[800]\tvalid_0's l2: 0.041348\n",
      "[900]\tvalid_0's l2: 0.0382333\n",
      "[1000]\tvalid_0's l2: 0.0354055\n",
      "[1100]\tvalid_0's l2: 0.0328385\n",
      "[1200]\tvalid_0's l2: 0.0305087\n",
      "[1300]\tvalid_0's l2: 0.0283947\n",
      "[1400]\tvalid_0's l2: 0.0264769\n",
      "[1500]\tvalid_0's l2: 0.0247375\n",
      "[1600]\tvalid_0's l2: 0.0231601\n",
      "[1700]\tvalid_0's l2: 0.0217301\n",
      "[1800]\tvalid_0's l2: 0.0204342\n",
      "[1900]\tvalid_0's l2: 0.0192599\n",
      "[2000]\tvalid_0's l2: 0.0181963\n",
      "[2100]\tvalid_0's l2: 0.0172332\n",
      "[2200]\tvalid_0's l2: 0.0163614\n",
      "[2300]\tvalid_0's l2: 0.0155725\n",
      "[2400]\tvalid_0's l2: 0.0148589\n",
      "[2500]\tvalid_0's l2: 0.0142137\n",
      "[2600]\tvalid_0's l2: 0.0136305\n",
      "[2700]\tvalid_0's l2: 0.0131037\n",
      "[2800]\tvalid_0's l2: 0.012628\n",
      "[2900]\tvalid_0's l2: 0.0121987\n",
      "[3000]\tvalid_0's l2: 0.0118114\n",
      "[3100]\tvalid_0's l2: 0.0114622\n",
      "[3200]\tvalid_0's l2: 0.0111477\n",
      "[3300]\tvalid_0's l2: 0.0108646\n",
      "[3400]\tvalid_0's l2: 0.0106098\n",
      "[3500]\tvalid_0's l2: 0.0103808\n",
      "[3600]\tvalid_0's l2: 0.0101751\n",
      "[3700]\tvalid_0's l2: 0.00999054\n",
      "[3800]\tvalid_0's l2: 0.00982507\n",
      "[3900]\tvalid_0's l2: 0.00967686\n",
      "[4000]\tvalid_0's l2: 0.00954427\n",
      "Did not meet early stopping. Best iteration is:\n",
      "[4000]\tvalid_0's l2: 0.00954427\n",
      "Training until validation scores don't improve for 100 rounds\n",
      "[100]\tvalid_0's l2: 0.0822385\n",
      "Did not meet early stopping. Best iteration is:\n",
      "[100]\tvalid_0's l2: 0.0822385\n",
      "Training until validation scores don't improve for 100 rounds\n",
      "[100]\tvalid_0's l2: 0.0819722\n",
      "[200]\tvalid_0's l2: 0.0680061\n",
      "[300]\tvalid_0's l2: 0.0566163\n",
      "[400]\tvalid_0's l2: 0.0472699\n",
      "[500]\tvalid_0's l2: 0.0395817\n",
      "[600]\tvalid_0's l2: 0.0332867\n",
      "[700]\tvalid_0's l2: 0.0281401\n",
      "[800]\tvalid_0's l2: 0.0239279\n",
      "[900]\tvalid_0's l2: 0.0204839\n",
      "[1000]\tvalid_0's l2: 0.0176673\n",
      "Did not meet early stopping. Best iteration is:\n",
      "[1000]\tvalid_0's l2: 0.0176673\n",
      "Training until validation scores don't improve for 100 rounds\n",
      "[100]\tvalid_0's l2: 0.0819677\n",
      "Did not meet early stopping. Best iteration is:\n",
      "[100]\tvalid_0's l2: 0.0819677\n"
     ]
    },
    {
     "ename": "KeyboardInterrupt",
     "evalue": "",
     "output_type": "error",
     "traceback": [
      "\u001b[0;31m---------------------------------------------------------------------------\u001b[0m",
      "\u001b[0;31mKeyboardInterrupt\u001b[0m                         Traceback (most recent call last)",
      "Cell \u001b[0;32mIn [69], line 2\u001b[0m\n\u001b[1;32m      1\u001b[0m \u001b[38;5;28;01mif\u001b[39;00m gridsearch_en:\n\u001b[0;32m----> 2\u001b[0m     \u001b[43mtrain\u001b[49m\u001b[43m(\u001b[49m\u001b[43mclf\u001b[49m\u001b[43m,\u001b[49m\u001b[43m \u001b[49m\u001b[43mX_train\u001b[49m\u001b[43m,\u001b[49m\u001b[43m \u001b[49m\u001b[43mX_valid\u001b[49m\u001b[43m)\u001b[49m\n\u001b[1;32m      3\u001b[0m \u001b[38;5;28;01melse\u001b[39;00m:\n\u001b[1;32m      4\u001b[0m     model \u001b[38;5;241m=\u001b[39m get_model(best)\n",
      "Cell \u001b[0;32mIn [68], line 14\u001b[0m, in \u001b[0;36mtrain\u001b[0;34m(model, X_train, X_valid)\u001b[0m\n\u001b[1;32m     11\u001b[0m fit_params[\u001b[38;5;124m\"\u001b[39m\u001b[38;5;124mearly_stopping_rounds\u001b[39m\u001b[38;5;124m\"\u001b[39m] \u001b[38;5;241m=\u001b[39m \u001b[38;5;241m100\u001b[39m\n\u001b[1;32m     13\u001b[0m \u001b[38;5;28;01mif\u001b[39;00m gridsearch_en:\n\u001b[0;32m---> 14\u001b[0m     \u001b[38;5;28;01mreturn\u001b[39;00m \u001b[43mmodel\u001b[49m\u001b[38;5;241;43m.\u001b[39;49m\u001b[43mfit\u001b[49m\u001b[43m(\u001b[49m\u001b[43mX_train\u001b[49m\u001b[43m,\u001b[49m\u001b[43m \u001b[49m\u001b[43my_trn\u001b[49m\u001b[43m,\u001b[49m\u001b[43m \u001b[49m\u001b[38;5;241;43m*\u001b[39;49m\u001b[38;5;241;43m*\u001b[39;49m\u001b[43mfit_params\u001b[49m\u001b[43m)\u001b[49m\n\u001b[1;32m     15\u001b[0m \u001b[38;5;28;01melse\u001b[39;00m:\n\u001b[1;32m     16\u001b[0m     \u001b[38;5;28;01mreturn\u001b[39;00m model\u001b[38;5;241m.\u001b[39mfit(X_train, y_trn, \u001b[38;5;241m*\u001b[39m\u001b[38;5;241m*\u001b[39mfit_params)\n",
      "File \u001b[0;32m~/opt/anaconda3/envs/itba/lib/python3.10/site-packages/sklearn/model_selection/_search.py:875\u001b[0m, in \u001b[0;36mBaseSearchCV.fit\u001b[0;34m(self, X, y, groups, **fit_params)\u001b[0m\n\u001b[1;32m    869\u001b[0m     results \u001b[38;5;241m=\u001b[39m \u001b[38;5;28mself\u001b[39m\u001b[38;5;241m.\u001b[39m_format_results(\n\u001b[1;32m    870\u001b[0m         all_candidate_params, n_splits, all_out, all_more_results\n\u001b[1;32m    871\u001b[0m     )\n\u001b[1;32m    873\u001b[0m     \u001b[38;5;28;01mreturn\u001b[39;00m results\n\u001b[0;32m--> 875\u001b[0m \u001b[38;5;28;43mself\u001b[39;49m\u001b[38;5;241;43m.\u001b[39;49m\u001b[43m_run_search\u001b[49m\u001b[43m(\u001b[49m\u001b[43mevaluate_candidates\u001b[49m\u001b[43m)\u001b[49m\n\u001b[1;32m    877\u001b[0m \u001b[38;5;66;03m# multimetric is determined here because in the case of a callable\u001b[39;00m\n\u001b[1;32m    878\u001b[0m \u001b[38;5;66;03m# self.scoring the return type is only known after calling\u001b[39;00m\n\u001b[1;32m    879\u001b[0m first_test_score \u001b[38;5;241m=\u001b[39m all_out[\u001b[38;5;241m0\u001b[39m][\u001b[38;5;124m\"\u001b[39m\u001b[38;5;124mtest_scores\u001b[39m\u001b[38;5;124m\"\u001b[39m]\n",
      "File \u001b[0;32m~/opt/anaconda3/envs/itba/lib/python3.10/site-packages/sklearn/model_selection/_search.py:1379\u001b[0m, in \u001b[0;36mGridSearchCV._run_search\u001b[0;34m(self, evaluate_candidates)\u001b[0m\n\u001b[1;32m   1377\u001b[0m \u001b[38;5;28;01mdef\u001b[39;00m \u001b[38;5;21m_run_search\u001b[39m(\u001b[38;5;28mself\u001b[39m, evaluate_candidates):\n\u001b[1;32m   1378\u001b[0m     \u001b[38;5;124;03m\"\"\"Search all candidates in param_grid\"\"\"\u001b[39;00m\n\u001b[0;32m-> 1379\u001b[0m     \u001b[43mevaluate_candidates\u001b[49m\u001b[43m(\u001b[49m\u001b[43mParameterGrid\u001b[49m\u001b[43m(\u001b[49m\u001b[38;5;28;43mself\u001b[39;49m\u001b[38;5;241;43m.\u001b[39;49m\u001b[43mparam_grid\u001b[49m\u001b[43m)\u001b[49m\u001b[43m)\u001b[49m\n",
      "File \u001b[0;32m~/opt/anaconda3/envs/itba/lib/python3.10/site-packages/sklearn/model_selection/_search.py:822\u001b[0m, in \u001b[0;36mBaseSearchCV.fit.<locals>.evaluate_candidates\u001b[0;34m(candidate_params, cv, more_results)\u001b[0m\n\u001b[1;32m    814\u001b[0m \u001b[38;5;28;01mif\u001b[39;00m \u001b[38;5;28mself\u001b[39m\u001b[38;5;241m.\u001b[39mverbose \u001b[38;5;241m>\u001b[39m \u001b[38;5;241m0\u001b[39m:\n\u001b[1;32m    815\u001b[0m     \u001b[38;5;28mprint\u001b[39m(\n\u001b[1;32m    816\u001b[0m         \u001b[38;5;124m\"\u001b[39m\u001b[38;5;124mFitting \u001b[39m\u001b[38;5;132;01m{0}\u001b[39;00m\u001b[38;5;124m folds for each of \u001b[39m\u001b[38;5;132;01m{1}\u001b[39;00m\u001b[38;5;124m candidates,\u001b[39m\u001b[38;5;124m\"\u001b[39m\n\u001b[1;32m    817\u001b[0m         \u001b[38;5;124m\"\u001b[39m\u001b[38;5;124m totalling \u001b[39m\u001b[38;5;132;01m{2}\u001b[39;00m\u001b[38;5;124m fits\u001b[39m\u001b[38;5;124m\"\u001b[39m\u001b[38;5;241m.\u001b[39mformat(\n\u001b[1;32m    818\u001b[0m             n_splits, n_candidates, n_candidates \u001b[38;5;241m*\u001b[39m n_splits\n\u001b[1;32m    819\u001b[0m         )\n\u001b[1;32m    820\u001b[0m     )\n\u001b[0;32m--> 822\u001b[0m out \u001b[38;5;241m=\u001b[39m \u001b[43mparallel\u001b[49m\u001b[43m(\u001b[49m\n\u001b[1;32m    823\u001b[0m \u001b[43m    \u001b[49m\u001b[43mdelayed\u001b[49m\u001b[43m(\u001b[49m\u001b[43m_fit_and_score\u001b[49m\u001b[43m)\u001b[49m\u001b[43m(\u001b[49m\n\u001b[1;32m    824\u001b[0m \u001b[43m        \u001b[49m\u001b[43mclone\u001b[49m\u001b[43m(\u001b[49m\u001b[43mbase_estimator\u001b[49m\u001b[43m)\u001b[49m\u001b[43m,\u001b[49m\n\u001b[1;32m    825\u001b[0m \u001b[43m        \u001b[49m\u001b[43mX\u001b[49m\u001b[43m,\u001b[49m\n\u001b[1;32m    826\u001b[0m \u001b[43m        \u001b[49m\u001b[43my\u001b[49m\u001b[43m,\u001b[49m\n\u001b[1;32m    827\u001b[0m \u001b[43m        \u001b[49m\u001b[43mtrain\u001b[49m\u001b[38;5;241;43m=\u001b[39;49m\u001b[43mtrain\u001b[49m\u001b[43m,\u001b[49m\n\u001b[1;32m    828\u001b[0m \u001b[43m        \u001b[49m\u001b[43mtest\u001b[49m\u001b[38;5;241;43m=\u001b[39;49m\u001b[43mtest\u001b[49m\u001b[43m,\u001b[49m\n\u001b[1;32m    829\u001b[0m \u001b[43m        \u001b[49m\u001b[43mparameters\u001b[49m\u001b[38;5;241;43m=\u001b[39;49m\u001b[43mparameters\u001b[49m\u001b[43m,\u001b[49m\n\u001b[1;32m    830\u001b[0m \u001b[43m        \u001b[49m\u001b[43msplit_progress\u001b[49m\u001b[38;5;241;43m=\u001b[39;49m\u001b[43m(\u001b[49m\u001b[43msplit_idx\u001b[49m\u001b[43m,\u001b[49m\u001b[43m \u001b[49m\u001b[43mn_splits\u001b[49m\u001b[43m)\u001b[49m\u001b[43m,\u001b[49m\n\u001b[1;32m    831\u001b[0m \u001b[43m        \u001b[49m\u001b[43mcandidate_progress\u001b[49m\u001b[38;5;241;43m=\u001b[39;49m\u001b[43m(\u001b[49m\u001b[43mcand_idx\u001b[49m\u001b[43m,\u001b[49m\u001b[43m \u001b[49m\u001b[43mn_candidates\u001b[49m\u001b[43m)\u001b[49m\u001b[43m,\u001b[49m\n\u001b[1;32m    832\u001b[0m \u001b[43m        \u001b[49m\u001b[38;5;241;43m*\u001b[39;49m\u001b[38;5;241;43m*\u001b[39;49m\u001b[43mfit_and_score_kwargs\u001b[49m\u001b[43m,\u001b[49m\n\u001b[1;32m    833\u001b[0m \u001b[43m    \u001b[49m\u001b[43m)\u001b[49m\n\u001b[1;32m    834\u001b[0m \u001b[43m    \u001b[49m\u001b[38;5;28;43;01mfor\u001b[39;49;00m\u001b[43m \u001b[49m\u001b[43m(\u001b[49m\u001b[43mcand_idx\u001b[49m\u001b[43m,\u001b[49m\u001b[43m \u001b[49m\u001b[43mparameters\u001b[49m\u001b[43m)\u001b[49m\u001b[43m,\u001b[49m\u001b[43m \u001b[49m\u001b[43m(\u001b[49m\u001b[43msplit_idx\u001b[49m\u001b[43m,\u001b[49m\u001b[43m \u001b[49m\u001b[43m(\u001b[49m\u001b[43mtrain\u001b[49m\u001b[43m,\u001b[49m\u001b[43m \u001b[49m\u001b[43mtest\u001b[49m\u001b[43m)\u001b[49m\u001b[43m)\u001b[49m\u001b[43m \u001b[49m\u001b[38;5;129;43;01min\u001b[39;49;00m\u001b[43m \u001b[49m\u001b[43mproduct\u001b[49m\u001b[43m(\u001b[49m\n\u001b[1;32m    835\u001b[0m \u001b[43m        \u001b[49m\u001b[38;5;28;43menumerate\u001b[39;49m\u001b[43m(\u001b[49m\u001b[43mcandidate_params\u001b[49m\u001b[43m)\u001b[49m\u001b[43m,\u001b[49m\u001b[43m \u001b[49m\u001b[38;5;28;43menumerate\u001b[39;49m\u001b[43m(\u001b[49m\u001b[43mcv\u001b[49m\u001b[38;5;241;43m.\u001b[39;49m\u001b[43msplit\u001b[49m\u001b[43m(\u001b[49m\u001b[43mX\u001b[49m\u001b[43m,\u001b[49m\u001b[43m \u001b[49m\u001b[43my\u001b[49m\u001b[43m,\u001b[49m\u001b[43m \u001b[49m\u001b[43mgroups\u001b[49m\u001b[43m)\u001b[49m\u001b[43m)\u001b[49m\n\u001b[1;32m    836\u001b[0m \u001b[43m    \u001b[49m\u001b[43m)\u001b[49m\n\u001b[1;32m    837\u001b[0m \u001b[43m\u001b[49m\u001b[43m)\u001b[49m\n\u001b[1;32m    839\u001b[0m \u001b[38;5;28;01mif\u001b[39;00m \u001b[38;5;28mlen\u001b[39m(out) \u001b[38;5;241m<\u001b[39m \u001b[38;5;241m1\u001b[39m:\n\u001b[1;32m    840\u001b[0m     \u001b[38;5;28;01mraise\u001b[39;00m \u001b[38;5;167;01mValueError\u001b[39;00m(\n\u001b[1;32m    841\u001b[0m         \u001b[38;5;124m\"\u001b[39m\u001b[38;5;124mNo fits were performed. \u001b[39m\u001b[38;5;124m\"\u001b[39m\n\u001b[1;32m    842\u001b[0m         \u001b[38;5;124m\"\u001b[39m\u001b[38;5;124mWas the CV iterator empty? \u001b[39m\u001b[38;5;124m\"\u001b[39m\n\u001b[1;32m    843\u001b[0m         \u001b[38;5;124m\"\u001b[39m\u001b[38;5;124mWere there no candidates?\u001b[39m\u001b[38;5;124m\"\u001b[39m\n\u001b[1;32m    844\u001b[0m     )\n",
      "File \u001b[0;32m~/opt/anaconda3/envs/itba/lib/python3.10/site-packages/joblib/parallel.py:1061\u001b[0m, in \u001b[0;36mParallel.__call__\u001b[0;34m(self, iterable)\u001b[0m\n\u001b[1;32m   1058\u001b[0m     \u001b[38;5;28mself\u001b[39m\u001b[38;5;241m.\u001b[39m_iterating \u001b[38;5;241m=\u001b[39m \u001b[38;5;28;01mFalse\u001b[39;00m\n\u001b[1;32m   1060\u001b[0m \u001b[38;5;28;01mwith\u001b[39;00m \u001b[38;5;28mself\u001b[39m\u001b[38;5;241m.\u001b[39m_backend\u001b[38;5;241m.\u001b[39mretrieval_context():\n\u001b[0;32m-> 1061\u001b[0m     \u001b[38;5;28;43mself\u001b[39;49m\u001b[38;5;241;43m.\u001b[39;49m\u001b[43mretrieve\u001b[49m\u001b[43m(\u001b[49m\u001b[43m)\u001b[49m\n\u001b[1;32m   1062\u001b[0m \u001b[38;5;66;03m# Make sure that we get a last message telling us we are done\u001b[39;00m\n\u001b[1;32m   1063\u001b[0m elapsed_time \u001b[38;5;241m=\u001b[39m time\u001b[38;5;241m.\u001b[39mtime() \u001b[38;5;241m-\u001b[39m \u001b[38;5;28mself\u001b[39m\u001b[38;5;241m.\u001b[39m_start_time\n",
      "File \u001b[0;32m~/opt/anaconda3/envs/itba/lib/python3.10/site-packages/joblib/parallel.py:938\u001b[0m, in \u001b[0;36mParallel.retrieve\u001b[0;34m(self)\u001b[0m\n\u001b[1;32m    936\u001b[0m \u001b[38;5;28;01mtry\u001b[39;00m:\n\u001b[1;32m    937\u001b[0m     \u001b[38;5;28;01mif\u001b[39;00m \u001b[38;5;28mgetattr\u001b[39m(\u001b[38;5;28mself\u001b[39m\u001b[38;5;241m.\u001b[39m_backend, \u001b[38;5;124m'\u001b[39m\u001b[38;5;124msupports_timeout\u001b[39m\u001b[38;5;124m'\u001b[39m, \u001b[38;5;28;01mFalse\u001b[39;00m):\n\u001b[0;32m--> 938\u001b[0m         \u001b[38;5;28mself\u001b[39m\u001b[38;5;241m.\u001b[39m_output\u001b[38;5;241m.\u001b[39mextend(\u001b[43mjob\u001b[49m\u001b[38;5;241;43m.\u001b[39;49m\u001b[43mget\u001b[49m\u001b[43m(\u001b[49m\u001b[43mtimeout\u001b[49m\u001b[38;5;241;43m=\u001b[39;49m\u001b[38;5;28;43mself\u001b[39;49m\u001b[38;5;241;43m.\u001b[39;49m\u001b[43mtimeout\u001b[49m\u001b[43m)\u001b[49m)\n\u001b[1;32m    939\u001b[0m     \u001b[38;5;28;01melse\u001b[39;00m:\n\u001b[1;32m    940\u001b[0m         \u001b[38;5;28mself\u001b[39m\u001b[38;5;241m.\u001b[39m_output\u001b[38;5;241m.\u001b[39mextend(job\u001b[38;5;241m.\u001b[39mget())\n",
      "File \u001b[0;32m~/opt/anaconda3/envs/itba/lib/python3.10/site-packages/joblib/_parallel_backends.py:542\u001b[0m, in \u001b[0;36mLokyBackend.wrap_future_result\u001b[0;34m(future, timeout)\u001b[0m\n\u001b[1;32m    539\u001b[0m \u001b[38;5;124;03m\"\"\"Wrapper for Future.result to implement the same behaviour as\u001b[39;00m\n\u001b[1;32m    540\u001b[0m \u001b[38;5;124;03mAsyncResults.get from multiprocessing.\"\"\"\u001b[39;00m\n\u001b[1;32m    541\u001b[0m \u001b[38;5;28;01mtry\u001b[39;00m:\n\u001b[0;32m--> 542\u001b[0m     \u001b[38;5;28;01mreturn\u001b[39;00m \u001b[43mfuture\u001b[49m\u001b[38;5;241;43m.\u001b[39;49m\u001b[43mresult\u001b[49m\u001b[43m(\u001b[49m\u001b[43mtimeout\u001b[49m\u001b[38;5;241;43m=\u001b[39;49m\u001b[43mtimeout\u001b[49m\u001b[43m)\u001b[49m\n\u001b[1;32m    543\u001b[0m \u001b[38;5;28;01mexcept\u001b[39;00m CfTimeoutError \u001b[38;5;28;01mas\u001b[39;00m e:\n\u001b[1;32m    544\u001b[0m     \u001b[38;5;28;01mraise\u001b[39;00m \u001b[38;5;167;01mTimeoutError\u001b[39;00m \u001b[38;5;28;01mfrom\u001b[39;00m \u001b[38;5;21;01me\u001b[39;00m\n",
      "File \u001b[0;32m~/opt/anaconda3/envs/itba/lib/python3.10/concurrent/futures/_base.py:440\u001b[0m, in \u001b[0;36mFuture.result\u001b[0;34m(self, timeout)\u001b[0m\n\u001b[1;32m    437\u001b[0m \u001b[38;5;28;01melif\u001b[39;00m \u001b[38;5;28mself\u001b[39m\u001b[38;5;241m.\u001b[39m_state \u001b[38;5;241m==\u001b[39m FINISHED:\n\u001b[1;32m    438\u001b[0m     \u001b[38;5;28;01mreturn\u001b[39;00m \u001b[38;5;28mself\u001b[39m\u001b[38;5;241m.\u001b[39m__get_result()\n\u001b[0;32m--> 440\u001b[0m \u001b[38;5;28;43mself\u001b[39;49m\u001b[38;5;241;43m.\u001b[39;49m\u001b[43m_condition\u001b[49m\u001b[38;5;241;43m.\u001b[39;49m\u001b[43mwait\u001b[49m\u001b[43m(\u001b[49m\u001b[43mtimeout\u001b[49m\u001b[43m)\u001b[49m\n\u001b[1;32m    442\u001b[0m \u001b[38;5;28;01mif\u001b[39;00m \u001b[38;5;28mself\u001b[39m\u001b[38;5;241m.\u001b[39m_state \u001b[38;5;129;01min\u001b[39;00m [CANCELLED, CANCELLED_AND_NOTIFIED]:\n\u001b[1;32m    443\u001b[0m     \u001b[38;5;28;01mraise\u001b[39;00m CancelledError()\n",
      "File \u001b[0;32m~/opt/anaconda3/envs/itba/lib/python3.10/threading.py:320\u001b[0m, in \u001b[0;36mCondition.wait\u001b[0;34m(self, timeout)\u001b[0m\n\u001b[1;32m    318\u001b[0m \u001b[38;5;28;01mtry\u001b[39;00m:    \u001b[38;5;66;03m# restore state no matter what (e.g., KeyboardInterrupt)\u001b[39;00m\n\u001b[1;32m    319\u001b[0m     \u001b[38;5;28;01mif\u001b[39;00m timeout \u001b[38;5;129;01mis\u001b[39;00m \u001b[38;5;28;01mNone\u001b[39;00m:\n\u001b[0;32m--> 320\u001b[0m         \u001b[43mwaiter\u001b[49m\u001b[38;5;241;43m.\u001b[39;49m\u001b[43macquire\u001b[49m\u001b[43m(\u001b[49m\u001b[43m)\u001b[49m\n\u001b[1;32m    321\u001b[0m         gotit \u001b[38;5;241m=\u001b[39m \u001b[38;5;28;01mTrue\u001b[39;00m\n\u001b[1;32m    322\u001b[0m     \u001b[38;5;28;01melse\u001b[39;00m:\n",
      "\u001b[0;31mKeyboardInterrupt\u001b[0m: "
     ]
    }
   ],
   "source": [
    "if gridsearch_en:\n",
    "    train(clf, X_train, X_valid)\n",
    "else:\n",
    "    model = get_model(best)\n",
    "    train(model, X_train, X_valid)"
   ]
  },
  {
   "cell_type": "markdown",
   "id": "a3cc57cc-f536-419e-9afb-46409024e67c",
   "metadata": {},
   "source": [
    "# Submit Competition"
   ]
  },
  {
   "cell_type": "code",
   "execution_count": null,
   "id": "07c77f3b-d44f-4a54-80f2-82cb9767007b",
   "metadata": {},
   "outputs": [],
   "source": [
    "X_test = df_test[cat_vars+contin_vars].loc[:train_size-1]"
   ]
  },
  {
   "cell_type": "code",
   "execution_count": null,
   "id": "22cc657b-f3c5-49ea-bffa-0d3696b93acf",
   "metadata": {},
   "outputs": [],
   "source": [
    "# y_pred = np.exp(clf.predict(X_valid)*max_y_log)[:,0]\n",
    "# y_pred_test = np.exp(clf.predict(X_test)*max_y_log)[:,0]\n",
    "y_pred = np.exp(clf.predict(X_valid)*max_y_log)\n",
    "y_pred_test = np.exp(clf.predict(X_test)*max_y_log)\n",
    "display(y_pred_test.shape)"
   ]
  },
  {
   "cell_type": "code",
   "execution_count": 75,
   "id": "bc050aee-1255-412b-b6d8-26f3e376c7dc",
   "metadata": {},
   "outputs": [],
   "source": [
    "sample_csv = pd.read_csv('rossmann/sample_submission.csv')\n",
    "sample_csv['Sales'] = y_pred_test\n",
    "sample_csv.head()\n",
    "\n",
    "sample_csv.to_csv(f'submision_lightGBM.csv', index=False)"
   ]
  },
  {
   "cell_type": "code",
   "execution_count": null,
   "id": "32832aa3-a93d-494a-8025-fd741dc20fdb",
   "metadata": {},
   "outputs": [],
   "source": []
  },
  {
   "cell_type": "code",
   "execution_count": null,
   "id": "a07eb310-981b-4c00-9797-a79536e618df",
   "metadata": {},
   "outputs": [],
   "source": []
  }
 ],
 "metadata": {
  "kernelspec": {
   "display_name": "Python 3 (ipykernel)",
   "language": "python",
   "name": "python3"
  },
  "language_info": {
   "codemirror_mode": {
    "name": "ipython",
    "version": 3
   },
   "file_extension": ".py",
   "mimetype": "text/x-python",
   "name": "python",
   "nbconvert_exporter": "python",
   "pygments_lexer": "ipython3",
   "version": "3.10.0"
  }
 },
 "nbformat": 4,
 "nbformat_minor": 5
}
